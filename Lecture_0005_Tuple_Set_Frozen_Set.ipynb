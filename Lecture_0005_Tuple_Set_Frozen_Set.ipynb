{
 "cells": [
  {
   "cell_type": "markdown",
   "metadata": {},
   "source": [
    "# Tuple\n",
    "\n",
    "#### A Tuple in python is similar to a list. The difference between the two i sthat we cannot change the elements of a tuple once it is assigned where as we can change the elements of list \n",
    "\n",
    "#### Tuple is an immutable list. A tuple can not changed in any way once it is created .\n",
    "\n",
    "### Characterstics\n",
    "* Ordered \n",
    "* Unchangeable\n",
    "* Allows Duplicate"
   ]
  },
  {
   "cell_type": "markdown",
   "metadata": {},
   "source": [
    "##  Creating a Tuple "
   ]
  },
  {
   "cell_type": "code",
   "execution_count": null,
   "metadata": {},
   "outputs": [],
   "source": [
    "#  Creating a Tuple \n",
    "\n",
    "# empty tuple\n",
    "t1 = ()\n",
    "print(\"empty tuple : \",t1)\n",
    "\n",
    "# Single item tuple\n",
    "t2 = (\"hello\")   # this is worng way to create tuple\n",
    "t3 = (\"hello\",)     # this is right way to create tuple\n",
    "print(\"This is Worng way to create the tuple : \",t2,\"\\t Type of Tuple : \",type(t2))\n",
    "print(\"This is Right way to create the tuple : \",t3,\"\\t Type of Tuple : \",type(t3))\n",
    "\n",
    "# Tuple Contain different data type as well as list\n",
    "t4 = (1,2.34353,True,[1,2,3,4,(45,False)])\n",
    "print(t4)"
   ]
  },
  {
   "cell_type": "markdown",
   "metadata": {},
   "source": [
    "## Accessing Items \n",
    "* Indexing\n",
    "* Slicing"
   ]
  },
  {
   "cell_type": "code",
   "execution_count": null,
   "metadata": {},
   "outputs": [],
   "source": [
    "print(t4)\n",
    "print(t4)\n",
    "print(t4[-1][4][1])  # both are same print(t4[-1:4:1])"
   ]
  },
  {
   "cell_type": "markdown",
   "metadata": {},
   "source": [
    "## Editing Items \n",
    "\n",
    "In tuple we donot change the item because it is immutable"
   ]
  },
  {
   "cell_type": "code",
   "execution_count": null,
   "metadata": {},
   "outputs": [],
   "source": [
    "t1 = (1,2,3,4)\n",
    "print(t1)\n",
    "t1[0] = 200"
   ]
  },
  {
   "cell_type": "markdown",
   "metadata": {},
   "source": [
    "## Adding Items \n",
    "\n",
    "we cannot add items in the tuple because it is immutable\n"
   ]
  },
  {
   "cell_type": "markdown",
   "metadata": {},
   "source": [
    "## Deleting Items \n",
    "We cannot delet the single item in the tuple we can delete whole tuple"
   ]
  },
  {
   "cell_type": "code",
   "execution_count": null,
   "metadata": {},
   "outputs": [],
   "source": [
    "print(t1)\n",
    "del t1 # delete the t1 tuple \n",
    "print(t1)\n",
    "\n",
    "# name 't1' is not defined --> t1 is deleted by using del key word"
   ]
  },
  {
   "cell_type": "markdown",
   "metadata": {},
   "source": [
    "## Operations on Tuples \n"
   ]
  },
  {
   "cell_type": "code",
   "execution_count": null,
   "metadata": {},
   "outputs": [],
   "source": [
    "t1 = (1,2,3,4)\n",
    "t2 = (5,6,7,8)\n",
    "print(\"t1 + t2 : \",t1+t2)\n",
    "print(\"t1*3 : \",t1*3)\n",
    "\n",
    "print(\"1 in t1 : \",1 in t1)\n",
    "print(\"5 not in t1 : \",5 not in t1 )\n",
    "\n",
    "for i in t1:\n",
    "    print(i)"
   ]
  },
  {
   "cell_type": "markdown",
   "metadata": {},
   "source": [
    "## Fuction on Tuple "
   ]
  },
  {
   "cell_type": "code",
   "execution_count": null,
   "metadata": {},
   "outputs": [],
   "source": [
    "t1 =(1,2,3,4,5)\n",
    "print(\"sum() : \",sum(t1))\n",
    "print(\"min() : \",min(t1))\n",
    "print(\"max() : \",max(t1))\n",
    "t2 = sorted(t1,reverse=True)\n",
    "print(\"sorted(t1,reverse = True) : \",t2,\" Type : \",type(t2))\n",
    "\n",
    "print(\"count(itme) : \",t1.count(2))\n",
    "print(\"index(itme) : \",t1.index(2))"
   ]
  },
  {
   "cell_type": "markdown",
   "metadata": {},
   "source": [
    "# Difference between lists and tuples\n",
    "\n",
    "* Syntax \n",
    "* Tuple having high speed\n",
    "* Tuple comzome less memory compare to list\n",
    "* Tuple has less functions compare to list\n",
    "* Error Prone\n",
    "* Usability"
   ]
  },
  {
   "cell_type": "code",
   "execution_count": null,
   "metadata": {},
   "outputs": [],
   "source": [
    "# Tuple unpacking \n",
    "a,b,c =(1,2,3)\n",
    "print(\"a = \",a,\"\\nb = \",b,\"\\nc = \",c)\n",
    "\n",
    "# swap the value\n",
    "\n",
    "a =10\n",
    "b =20\n",
    "a,b = b,a\n",
    "print(\"a = \",a,\"\\nb = \",b)\n",
    "\n",
    "a,b,*others = (1,2,3,4)\n",
    "print(a,b)\n",
    "print(others)"
   ]
  },
  {
   "cell_type": "code",
   "execution_count": null,
   "metadata": {},
   "outputs": [],
   "source": [
    "# Zipping tuple \n",
    "a = (1,2,3,4)\n",
    "b = (5,6,7,8)\n",
    "\n",
    " \n",
    "z = zip(a,b)\n",
    "print(\"zip : \",z,\" Type : \",type(z))\n",
    "print(\"List : \",list(zip(a,b)))\n",
    "print(\"tuple : \",tuple(zip(a,b)))"
   ]
  },
  {
   "cell_type": "markdown",
   "metadata": {},
   "source": [
    "# Sets"
   ]
  },
  {
   "cell_type": "markdown",
   "metadata": {},
   "source": [
    "### A set is an unordered collection of items. Every set element is unique(No Duplicates) and must be immutable(can not be changed) However, a set itself is mutable. We can add or remove item from it.\n",
    "### Sets cam also be used to perform mathematical set operations like union, intersection, symmetric difference,etc.\n",
    "### Set does not support indexing conpect \n",
    "### Characterstics: \n",
    "* Unordered\n",
    "* Mutable\n",
    "* No Duplicates\n",
    "* Can't contain mutable data type (Set is mutable but we cannot store mutable data type inside the set so nested set is not possiable )"
   ]
  },
  {
   "cell_type": "markdown",
   "metadata": {},
   "source": [
    "## Creating Set"
   ]
  },
  {
   "cell_type": "code",
   "execution_count": null,
   "metadata": {},
   "outputs": [],
   "source": [
    "# Create empty set\n",
    "\n",
    "# This is not Right way to creating set \n",
    "s = {} \n",
    "print(\"Worng --> s = {} :\",type(s))\n",
    "# s = {} this is not set this is dict data type \n",
    "\n",
    "# ---------------------------------------------------------------------------------------------------\n",
    "\n",
    "# This is Right way to creating set\n",
    "\n",
    "s = set()\n",
    "print(\"Right --> s = set() : \",type(s))"
   ]
  },
  {
   "cell_type": "code",
   "execution_count": null,
   "metadata": {},
   "outputs": [],
   "source": [
    "# 1-D set\n",
    "s1 = {1,2,3,4,5}\n",
    "print(\"1 D set --> \",s1)\n",
    "\n",
    "# 2-D set are not possiable\n",
    "# s1 {1,3,4,{42,53,34},23,53}\n",
    "\n",
    "#  Homo and Hetro \n",
    "s2 = {1,2,\"hello\",True,False,\"Sir\"}\n",
    "#  In above code we cannot access True because python True trict as 1\n",
    "print(s2)\n",
    "s3 ={0,True,1}\n",
    "# In above code we cannot access 1 because python 1 trict as True\n",
    "print(s3)\n",
    "\n",
    "# Type conversion List to set\n",
    "print(\"set([list])\\t:\\tset([1,2,33])\\t: \",set([1,2,33]))\n",
    "\n",
    "# Duplicates are not allowed \n",
    "s4 = {1,1,2,3,3,3,4,4,5,2,1}\n",
    "print(s4)\n",
    "\n",
    "# Set does not contain mutable data \n",
    "\n",
    "# s5 = {1,2,3,4,5,[3,4,2,202,232,4,23232,11111],32,42}\n",
    "# above line gives error "
   ]
  },
  {
   "cell_type": "code",
   "execution_count": null,
   "metadata": {},
   "outputs": [],
   "source": [
    "s1 = {1,2,3}\n",
    "s2 = {3,1,2}\n",
    "print(s1==s2)"
   ]
  },
  {
   "cell_type": "markdown",
   "metadata": {},
   "source": [
    "### Adding Items"
   ]
  },
  {
   "cell_type": "code",
   "execution_count": null,
   "metadata": {},
   "outputs": [],
   "source": [
    "s = {1,2,3,46,76,45}\n",
    "\n",
    "# Add method\n",
    "s.add(32)\n",
    "print(\"set.add(32) : \",s)\n",
    "\n",
    "# update method\n",
    "s.update([11,22,33,44,55,66,77,78,55])\n",
    "print(\"set.update([item1,item2,item3]) : \",s)"
   ]
  },
  {
   "cell_type": "markdown",
   "metadata": {},
   "source": [
    "### Deleting Items\n"
   ]
  },
  {
   "cell_type": "code",
   "execution_count": null,
   "metadata": {},
   "outputs": [],
   "source": [
    "s = {11,3,4,5}\n",
    "print(s)\n",
    "# del method \n",
    "# del s # it will delete whole set\n",
    "# print(s)\n",
    "\n",
    "# discard method \n",
    "# discard method delete a specific item in the list if that item not present in the set it does not return any error\n",
    "# s.discard(3)\n",
    "# print(s)\n",
    "\n",
    "# remove method\n",
    "# remove method delete a specific item in the list if that item not present in the set it is return error\n",
    "# s.remove(2) # Try it :--> remove(8)\n",
    "# print(s)\n",
    "\n",
    "# pop method \n",
    "# pop method delete a one random item in the set \n",
    "# s.pop()\n",
    "# print(s)\n",
    "\n",
    "# clear method \n",
    "# clear method remove all the item inside set in other word it will make empty set\n",
    "s.clear()\n",
    "print(s)\n",
    "   "
   ]
  },
  {
   "cell_type": "markdown",
   "metadata": {},
   "source": [
    "## Set Operation "
   ]
  },
  {
   "cell_type": "code",
   "execution_count": null,
   "metadata": {},
   "outputs": [],
   "source": [
    "s1 = {1,2,3,4,5,6,7,8}\n",
    "s2 = {5,6,7,8,9,10,11,12}\n",
    "s3 = {8,9,10,11,12,13,14,15,16}\n",
    "# Union(|) \n",
    "# combine all set\n",
    "print(\"Union : \",s1|s2|s3)\n",
    "\n",
    "# Intersection(&)\n",
    "# common item\n",
    "print(\"Intersection : \",s1&s2&s3)\n",
    "\n",
    "# Difference\n",
    "print(\"Difference : \",s1-s2-s3)\n",
    "\n",
    "# Symmetric Difference \n",
    "# print all item expected common item\n",
    "print(\"Symmetric Difference : \",s1^s2)\n",
    "\n",
    "# Memebership Test\n",
    "print(f\"1 in s1\\t {1 in s1} \\t1 not in s1 \\t{1 not in s1}\")\n",
    "\n",
    "# Iteration\n",
    "\n",
    "for i in s1:\n",
    "    print(i,end=\" <--> \")"
   ]
  },
  {
   "cell_type": "markdown",
   "metadata": {},
   "source": [
    "## Set Function\n"
   ]
  },
  {
   "cell_type": "code",
   "execution_count": 3,
   "metadata": {},
   "outputs": [
    {
     "name": "stdout",
     "output_type": "stream",
     "text": [
      "8\n"
     ]
    },
    {
     "data": {
      "text/plain": [
       "[9, 8, 7, 6, 5, 3, 2, 1]"
      ]
     },
     "execution_count": 3,
     "metadata": {},
     "output_type": "execute_result"
    }
   ],
   "source": [
    "# len/sum/min/max/sorted\n",
    "s = {1,3,7,5,6,8,9,2}\n",
    "len(s)\n",
    "sum(s)\n",
    "print(len(s))\n",
    "min(s)\n",
    "max(s)\n",
    "sorted(s,reverse=True)"
   ]
  },
  {
   "cell_type": "code",
   "execution_count": null,
   "metadata": {},
   "outputs": [],
   "source": [
    "#  union / update \n",
    "\n",
    "s1 = { 1,2,3,4,5,6,7}\n",
    "s2 = {4,5,6,7,8,9,10}\n",
    "\n",
    "# s1.union(s2)\n",
    "# print(\"s1 : \",s1,\"  s2 : \",s2,\"  s1.union(s2) : \",s1.union(s2))\n",
    "\n",
    "s1.update(s2) # here s1 can be change permentaly \n",
    "print(\"s1 : \",s1)\n",
    "print(\"s2 : \",s2)\n",
    "\n"
   ]
  },
  {
   "cell_type": "code",
   "execution_count": null,
   "metadata": {},
   "outputs": [],
   "source": [
    "s1 = { 1,2,3,4,5,6,7}\n",
    "s2 = {4,5,6,7,8,9,10}\n",
    "\n",
    "#  intersection / intersection_update \n",
    "\n",
    "print(\"\\n\\n s1.intersection(s2)  :  \",s1.intersection(s2),\"\\n\\n  s1 :   \",s1,\"\\n  s2 :   \",s2)\n",
    "\n",
    "print(\"\\n\\n s1.intersection_update(s2)  :  \",s1.intersection_update(s2),\"\\n\\n  s1 :   \",s1,\"\\n  s2 :   \",s2)        # here s1 can be change permentaly "
   ]
  },
  {
   "cell_type": "code",
   "execution_count": null,
   "metadata": {},
   "outputs": [],
   "source": [
    "s1 = { 1,2,3,4,5,6,7}\n",
    "s2 = {4,5,6,7,8,9,10}\n",
    "\n",
    "\n",
    "# difference / difference_update\n",
    "\n",
    "print(\"\\n\\n s1.difference(s2)  :  \",s1.difference(s2),\"\\n\\n  s1 :   \",s1,\"\\n  s2 :   \",s2)\n",
    "\n",
    "print(\"\\n\\n s1.difference_update(s2)  :  \",s1.difference_update(s2),\"\\n\\n  s1 :   \",s1,\"\\n  s2 :   \",s2)    # here s1 can be change permentaly "
   ]
  },
  {
   "cell_type": "code",
   "execution_count": null,
   "metadata": {},
   "outputs": [],
   "source": [
    "s1 = { 1,2,3,4,5,6,7}\n",
    "s2 = {4,5,6,7,8,9,10}\n",
    "\n",
    "\n",
    "# symmetric_difference /  symmetric_difference_update\n",
    "\n",
    "print(\"\\n\\n s1. symmetric_difference(s2)  :  \",s1. symmetric_difference(s2),\"\\n\\n  s1 :   \",s1,\"\\n  s2 :   \",s2)\n",
    "\n",
    "print(\"\\n\\n s1. symmetric_difference_update(s2)  :  \",s1. symmetric_difference_update(s2),\"\\n\\n  s1 :   \",s1,\"\\n  s2 :   \",s2)    # here s1 can be change permentaly "
   ]
  },
  {
   "cell_type": "code",
   "execution_count": 4,
   "metadata": {},
   "outputs": [
    {
     "name": "stdout",
     "output_type": "stream",
     "text": [
      "s1.isdisjoint(s2)  :   True\n",
      "s1.isdisjoint(s3)  :   False\n",
      "\n",
      " --*----*----*----*----*----*----*----*----*----*----*----*----*----*----*----*----*----*----*----*-- \n",
      "\n",
      " s2.issubset(s1)  :   False\n",
      " s3.issubset(s1)  :   True\n",
      " s1.issubset(s3)  :   False\n",
      "\n",
      " --*----*----*----*----*----*----*----*----*----*----*----*----*----*----*----*----*----*----*----*-- \n",
      "\n",
      "s1.issuperset(s2) :  False\n",
      "s3.issuperset(s1) :  False\n",
      "s1.issuperset(s3) :  True\n"
     ]
    }
   ],
   "source": [
    "#  isdisjoint/issubset/issuperset\n",
    "\n",
    "s1 = {1,2,3,4}\n",
    "s2 = {7,8,5,6}\n",
    "s3 = {2,4}\n",
    "\n",
    "print(\"s1.isdisjoint(s2)  :  \",s1.isdisjoint(s2))\n",
    "print(\"s1.isdisjoint(s3)  :  \",s1.isdisjoint(s3))\n",
    "\n",
    "print(\"\\n\",\"--*--\"*20,\"\\n\")\n",
    "\n",
    "print(\" s2.issubset(s1)  :  \",s2.issubset(s1))\n",
    "print(\" s3.issubset(s1)  :  \",s3.issubset(s1))\n",
    "print(\" s1.issubset(s3)  :  \",s1.issubset(s3))\n",
    "\n",
    "print(\"\\n\",\"--*--\"*20,\"\\n\")\n",
    "\n",
    "print(\"s1.issuperset(s2) : \",s1.issuperset(s2))\n",
    "print(\"s3.issuperset(s1) : \",s3.issuperset(s1))\n",
    "print(\"s1.issuperset(s3) : \",s1.issuperset(s3))\n"
   ]
  },
  {
   "cell_type": "code",
   "execution_count": null,
   "metadata": {},
   "outputs": [],
   "source": [
    "#  copy \n",
    "\n",
    "s1 = {1,2,3}\n",
    "s2 = s1.copy()\n",
    "\n",
    "print(\"s1 : \",s1,\"\\ns2 : \",s2)"
   ]
  },
  {
   "cell_type": "markdown",
   "metadata": {},
   "source": [
    "# Frozen Set\n",
    "\n",
    "### Frozen set is just an immutable version of a python set object\n",
    "\n",
    "### Working Or Not Working Function \n",
    "* Working -> All Read Function \n",
    "* Not Working -> Write Operations \n",
    "\n",
    "### Note : 2-D Frozen Set are possiable "
   ]
  },
  {
   "cell_type": "code",
   "execution_count": null,
   "metadata": {},
   "outputs": [],
   "source": [
    "#  Create frozemset \n",
    "\n",
    "fs = frozenset([1,2,3])\n",
    "print(\"fs : \",fs, \" \\ntype(fs) : \",type(fs))"
   ]
  },
  {
   "cell_type": "code",
   "execution_count": null,
   "metadata": {},
   "outputs": [],
   "source": [
    "#  2 D Frozen Set \n",
    "\n",
    "fs = frozenset([1,2,3,4,frozenset([5,6,7,8,9])])\n",
    "print(\"Nested Forzenset / 2-D frozenset : \",fs)"
   ]
  },
  {
   "cell_type": "markdown",
   "metadata": {},
   "source": [
    "# Set Comprehension "
   ]
  },
  {
   "cell_type": "code",
   "execution_count": null,
   "metadata": {},
   "outputs": [],
   "source": [
    "{i for i in range(1,11)}\n",
    "{i**3 for i in range(1,11)}\n",
    "{i for i in range(1,11) if i>5}"
   ]
  }
 ],
 "metadata": {
  "kernelspec": {
   "display_name": "Python 3",
   "language": "python",
   "name": "python3"
  },
  "language_info": {
   "codemirror_mode": {
    "name": "ipython",
    "version": 3
   },
   "file_extension": ".py",
   "mimetype": "text/x-python",
   "name": "python",
   "nbconvert_exporter": "python",
   "pygments_lexer": "ipython3",
   "version": "3.11.1"
  }
 },
 "nbformat": 4,
 "nbformat_minor": 2
}
