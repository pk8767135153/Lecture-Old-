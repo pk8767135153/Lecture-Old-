{
 "cells": [
  {
   "cell_type": "markdown",
   "metadata": {},
   "source": [
    "## File Handling"
   ]
  },
  {
   "cell_type": "markdown",
   "metadata": {},
   "source": [
    "### Below code we can create file \" Lecture18_File_Handling_001_.txt \" which is stor inside the f and we write message and closed file manualy"
   ]
  },
  {
   "cell_type": "code",
   "execution_count": 1,
   "metadata": {},
   "outputs": [],
   "source": [
    "# How to create file\n",
    "f = open(\"Lecture18_File_Handling_001_.txt\",\"w\")\n",
    "\n",
    "# Write some massage in the file\n",
    "f.write(\"This message written inside the file.\")\n",
    "\n",
    "# File Cosed\n",
    "f.close()"
   ]
  },
  {
   "cell_type": "code",
   "execution_count": 3,
   "metadata": {},
   "outputs": [],
   "source": [
    "file = open('example.txt', 'w') \n",
    "file.write('Hello, World!') \n",
    "file.close()"
   ]
  },
  {
   "cell_type": "markdown",
   "metadata": {},
   "source": [
    "### Below code we can open the file and closed file Automaticaly which better for security Purpose and Resource Alloction Purpose"
   ]
  },
  {
   "cell_type": "code",
   "execution_count": 6,
   "metadata": {},
   "outputs": [
    {
     "ename": "TypeError",
     "evalue": "read_file() takes 0 positional arguments but 1 was given",
     "output_type": "error",
     "traceback": [
      "\u001b[1;31m---------------------------------------------------------------------------\u001b[0m",
      "\u001b[1;31mTypeError\u001b[0m                                 Traceback (most recent call last)",
      "Cell \u001b[1;32mIn[6], line 14\u001b[0m\n\u001b[0;32m     11\u001b[0m             \u001b[38;5;28;01myield\u001b[39;00m line\u001b[38;5;241m.\u001b[39mstrip()\n\u001b[0;32m     13\u001b[0m write_file()\n\u001b[1;32m---> 14\u001b[0m \u001b[38;5;28;01mfor\u001b[39;00m line \u001b[38;5;129;01min\u001b[39;00m \u001b[43mread_file\u001b[49m\u001b[43m(\u001b[49m\u001b[38;5;124;43m\"\u001b[39;49m\u001b[38;5;124;43mLecture18_File_Handling_001_.txt\u001b[39;49m\u001b[38;5;124;43m\"\u001b[39;49m\u001b[43m)\u001b[49m:\n\u001b[0;32m     15\u001b[0m     \u001b[38;5;28mprint\u001b[39m(line)\n",
      "\u001b[1;31mTypeError\u001b[0m: read_file() takes 0 positional arguments but 1 was given"
     ]
    }
   ],
   "source": [
    "dict = {1:3,3:5,5:6}\n",
    "def write_file():\n",
    "    with open(\" Lecture18_File_Handling_001_.txt\",\"w\") as f:\n",
    "        f.write(\"This is my context manager\\n\")\n",
    "        f.write(\"We can perform write operation using indentation conpect\\n\")\n",
    "        f.write(f\"Dict : {dict}\")\n",
    "        f.write(\"Return Error Because file is cosed so because we cannot use indentation \")\n",
    "def read_file():\n",
    "    with open(\"Lecture18_File_Handling_001_.txt\",\"r\") as f:\n",
    "        for line in f:\n",
    "            yield line.strip()\n",
    "        for l in \"Lec\"\n",
    "\n",
    "write_file()\n",
    "for line in read_file(\"Lecture18_File_Handling_001_.txt\"):\n",
    "    print(line)"
   ]
  },
  {
   "cell_type": "markdown",
   "metadata": {},
   "source": []
  },
  {
   "cell_type": "markdown",
   "metadata": {},
   "source": [
    "\n",
    "### Mode : \n",
    "* 1. r = read \n",
    "* 2. w = write but it will clear already present data inside the file.\n",
    "* 3. r+ = read / write\n",
    "* 4. a = write data but don't clear already present data inside the file.\n",
    "* 5. rb = r -> read & b -> binary by using this mode we can read Audio,image and video\n",
    "* 6. wb =  Write File in Binary formate."
   ]
  },
  {
   "cell_type": "code",
   "execution_count": 21,
   "metadata": {},
   "outputs": [],
   "source": [
    "with open(\"Lecture18_File_Handling_001_.txt\",\"a\") as f:\n",
    "    f.write(\"\\nThis is First lien\")\n",
    "    f.read()"
   ]
  },
  {
   "cell_type": "code",
   "execution_count": 17,
   "metadata": {},
   "outputs": [],
   "source": [
    "with open(\"Lecture18_File_Handling_001_.csv\",\"a\") as f:\n",
    "    f.write(\"\\nThis is First lien\")"
   ]
  },
  {
   "cell_type": "code",
   "execution_count": 30,
   "metadata": {},
   "outputs": [],
   "source": [
    "with open(\"Lecture18_File_Handling_001_.txt\",\"r\")as f:\n",
    "    f.read()"
   ]
  },
  {
   "cell_type": "code",
   "execution_count": 29,
   "metadata": {},
   "outputs": [
    {
     "data": {
      "text/plain": [
       "<_io.TextIOWrapper name='Lecture18_File_Handling_001_.txt' mode='w' encoding='cp1252'>"
      ]
     },
     "execution_count": 29,
     "metadata": {},
     "output_type": "execute_result"
    }
   ],
   "source": [
    "f = open(\"Lecture18_File_Handling_001_.txt\",\"w\") \n",
    "f\n"
   ]
  },
  {
   "cell_type": "code",
   "execution_count": 4,
   "metadata": {},
   "outputs": [],
   "source": [
    "lines = [\"line1\\n\", \"line2\\n\",\"line3\\n\",\"line 4\"]\n",
    "with open(\"Lecture18_File_Handling_001_.txt\",\"w\") as f:\n",
    "    f.writelines(lines)\n",
    "    f.write(f\"\\n{lines}\")"
   ]
  },
  {
   "cell_type": "markdown",
   "metadata": {},
   "source": [
    "### Reading\n",
    "\n",
    "\n",
    "* 1. read() = read all file start to end in read() we can provide number of characters as parameter.\n",
    "* 2. readline() = read first file\n",
    "* 3. readlines() = read all lines in one line"
   ]
  },
  {
   "cell_type": "code",
   "execution_count": 5,
   "metadata": {},
   "outputs": [
    {
     "name": "stdout",
     "output_type": "stream",
     "text": [
      "line1\n",
      "line2\n",
      "line3\n",
      "line 4\n",
      "['line1\\n', 'line2\\n', 'line3\\n', 'line 4']\n"
     ]
    }
   ],
   "source": [
    "with open(\"Lecture18_File_Handling_001_.txt\",\"r\") as f:\n",
    "    print(f.read())\n",
    "    "
   ]
  },
  {
   "cell_type": "code",
   "execution_count": 59,
   "metadata": {},
   "outputs": [
    {
     "name": "stdout",
     "output_type": "stream",
     "text": [
      "line1\n",
      "\n",
      "line2\n",
      "\n",
      "line3\n",
      "\n",
      "line 4\n",
      "\n",
      "['line1\\n', 'line2\\n', 'line3\\n', 'line 4']\n",
      "\n",
      "\n",
      "\n",
      "\n",
      "\n"
     ]
    }
   ],
   "source": [
    "with open(\"Lecture18_File_Handling_001_.txt\",\"r\") as f:\n",
    "    for i in range(10):\n",
    "        print(f.readline())"
   ]
  },
  {
   "cell_type": "code",
   "execution_count": 9,
   "metadata": {},
   "outputs": [
    {
     "name": "stdout",
     "output_type": "stream",
     "text": [
      "['line1\\n', 'line2\\n', 'line3\\n', 'line 4\\n', \"['line1\\\\n', 'line2\\\\n', 'line3\\\\n', 'line 4']\"]\n"
     ]
    }
   ],
   "source": [
    "with open(\"Lecture18_File_Handling_001_.txt\",\"r\") as f:\n",
    "    print(f.readlines())"
   ]
  },
  {
   "cell_type": "markdown",
   "metadata": {},
   "source": [
    "### How to count Number of line in the file"
   ]
  },
  {
   "cell_type": "code",
   "execution_count": 65,
   "metadata": {},
   "outputs": [
    {
     "name": "stdout",
     "output_type": "stream",
     "text": [
      "line1\n",
      "\n",
      "line2\n",
      "\n",
      "line3\n",
      "\n",
      "line 4\n",
      "\n",
      "['line1\\n', 'line2\\n', 'line3\\n', 'line 4']\n",
      "6\n"
     ]
    }
   ],
   "source": [
    "f = open(\"Lecture18_File_Handling_001_.txt\",\"r\")\n",
    "c = 0\n",
    "while True:\n",
    "    data=f.readline()\n",
    "    c+=1\n",
    "    if data == \"\":\n",
    "        break\n",
    "    print(data)\n",
    "print(c)"
   ]
  },
  {
   "cell_type": "markdown",
   "metadata": {},
   "source": [
    "### seek and tell\n",
    "* seek can help to goes for specific position.\n",
    "* tell can return current position"
   ]
  },
  {
   "cell_type": "code",
   "execution_count": 88,
   "metadata": {},
   "outputs": [
    {
     "name": "stdout",
     "output_type": "stream",
     "text": [
      "23\n",
      "dfaghagaagaf\n",
      "35\n"
     ]
    }
   ],
   "source": [
    "with open(\"Lecture18_File_Handling_001_.txt\",\"r+\") as f:\n",
    "    f.write(\"My name is Priavin. afadfaghagaagafadsfadbg\")\n",
    "    # here we can goes specific position which is start postition \n",
    "    f.seek(23) # let seek can denote position n\n",
    "    print(f.tell())\n",
    "    # seek() can given start position so we can read that number of charater which pass as parameter in read() function  \n",
    "    print(f.read(12)) # Let read can read charater x\n",
    "    print(f.tell()) # so tell is return n+x which current position."
   ]
  },
  {
   "cell_type": "markdown",
   "metadata": {},
   "source": [
    "## In side File Error"
   ]
  },
  {
   "cell_type": "code",
   "execution_count": 99,
   "metadata": {},
   "outputs": [
    {
     "ename": "FileNotFoundError",
     "evalue": "[Errno 2] No such file or directory: 'code1.txt'",
     "output_type": "error",
     "traceback": [
      "\u001b[1;31m---------------------------------------------------------------------------\u001b[0m",
      "\u001b[1;31mFileNotFoundError\u001b[0m                         Traceback (most recent call last)",
      "Cell \u001b[1;32mIn[99], line 3\u001b[0m\n\u001b[0;32m      1\u001b[0m \u001b[38;5;66;03m# FileNotFoundError \u001b[39;00m\n\u001b[1;32m----> 3\u001b[0m \u001b[38;5;28;01mwith\u001b[39;00m \u001b[38;5;28;43mopen\u001b[39;49m\u001b[43m(\u001b[49m\u001b[38;5;124;43m\"\u001b[39;49m\u001b[38;5;124;43mcode1.txt\u001b[39;49m\u001b[38;5;124;43m\"\u001b[39;49m\u001b[43m,\u001b[49m\u001b[38;5;124;43m\"\u001b[39;49m\u001b[38;5;124;43mr\u001b[39;49m\u001b[38;5;124;43m\"\u001b[39;49m\u001b[43m)\u001b[49m \u001b[38;5;28;01mas\u001b[39;00m f:\n\u001b[0;32m      4\u001b[0m     content \u001b[38;5;241m=\u001b[39m f\u001b[38;5;241m.\u001b[39mread()\n\u001b[0;32m      5\u001b[0m     \u001b[38;5;28mprint\u001b[39m(content)\n",
      "File \u001b[1;32mc:\\Users\\PRAVIN\\AppData\\Local\\Programs\\Python\\Python311\\Lib\\site-packages\\IPython\\core\\interactiveshell.py:282\u001b[0m, in \u001b[0;36m_modified_open\u001b[1;34m(file, *args, **kwargs)\u001b[0m\n\u001b[0;32m    275\u001b[0m \u001b[38;5;28;01mif\u001b[39;00m file \u001b[38;5;129;01min\u001b[39;00m {\u001b[38;5;241m0\u001b[39m, \u001b[38;5;241m1\u001b[39m, \u001b[38;5;241m2\u001b[39m}:\n\u001b[0;32m    276\u001b[0m     \u001b[38;5;28;01mraise\u001b[39;00m \u001b[38;5;167;01mValueError\u001b[39;00m(\n\u001b[0;32m    277\u001b[0m         \u001b[38;5;124mf\u001b[39m\u001b[38;5;124m\"\u001b[39m\u001b[38;5;124mIPython won\u001b[39m\u001b[38;5;124m'\u001b[39m\u001b[38;5;124mt let you open fd=\u001b[39m\u001b[38;5;132;01m{\u001b[39;00mfile\u001b[38;5;132;01m}\u001b[39;00m\u001b[38;5;124m by default \u001b[39m\u001b[38;5;124m\"\u001b[39m\n\u001b[0;32m    278\u001b[0m         \u001b[38;5;124m\"\u001b[39m\u001b[38;5;124mas it is likely to crash IPython. If you know what you are doing, \u001b[39m\u001b[38;5;124m\"\u001b[39m\n\u001b[0;32m    279\u001b[0m         \u001b[38;5;124m\"\u001b[39m\u001b[38;5;124myou can use builtins\u001b[39m\u001b[38;5;124m'\u001b[39m\u001b[38;5;124m open.\u001b[39m\u001b[38;5;124m\"\u001b[39m\n\u001b[0;32m    280\u001b[0m     )\n\u001b[1;32m--> 282\u001b[0m \u001b[38;5;28;01mreturn\u001b[39;00m \u001b[43mio_open\u001b[49m\u001b[43m(\u001b[49m\u001b[43mfile\u001b[49m\u001b[43m,\u001b[49m\u001b[43m \u001b[49m\u001b[38;5;241;43m*\u001b[39;49m\u001b[43margs\u001b[49m\u001b[43m,\u001b[49m\u001b[43m \u001b[49m\u001b[38;5;241;43m*\u001b[39;49m\u001b[38;5;241;43m*\u001b[39;49m\u001b[43mkwargs\u001b[49m\u001b[43m)\u001b[49m\n",
      "\u001b[1;31mFileNotFoundError\u001b[0m: [Errno 2] No such file or directory: 'code1.txt'"
     ]
    }
   ],
   "source": [
    "# FileNotFoundError \n",
    "\n",
    "with open(\"code1.txt\",\"r\") as f:\n",
    "    content = f.read()\n",
    "    print(content)"
   ]
  },
  {
   "cell_type": "code",
   "execution_count": 97,
   "metadata": {},
   "outputs": [
    {
     "name": "stdout",
     "output_type": "stream",
     "text": [
      "\n"
     ]
    }
   ],
   "source": [
    "try:\n",
    "    with open(\"code.txt\",\"r\") as f:\n",
    "        content = f.read()\n",
    "        print(content)\n",
    "except Exception as e:\n",
    "    print(\"file not found\")"
   ]
  },
  {
   "cell_type": "code",
   "execution_count": 100,
   "metadata": {},
   "outputs": [
    {
     "ename": "UnsupportedOperation",
     "evalue": "not readable",
     "output_type": "error",
     "traceback": [
      "\u001b[1;31m---------------------------------------------------------------------------\u001b[0m",
      "\u001b[1;31mUnsupportedOperation\u001b[0m                      Traceback (most recent call last)",
      "Cell \u001b[1;32mIn[100], line 4\u001b[0m\n\u001b[0;32m      1\u001b[0m \u001b[38;5;66;03m# FileNotFoundError \u001b[39;00m\n\u001b[0;32m      3\u001b[0m \u001b[38;5;28;01mwith\u001b[39;00m \u001b[38;5;28mopen\u001b[39m(\u001b[38;5;124m\"\u001b[39m\u001b[38;5;124mcode.txt\u001b[39m\u001b[38;5;124m\"\u001b[39m,\u001b[38;5;124m\"\u001b[39m\u001b[38;5;124mw\u001b[39m\u001b[38;5;124m\"\u001b[39m) \u001b[38;5;28;01mas\u001b[39;00m f:\n\u001b[1;32m----> 4\u001b[0m     content \u001b[38;5;241m=\u001b[39m \u001b[43mf\u001b[49m\u001b[38;5;241;43m.\u001b[39;49m\u001b[43mread\u001b[49m\u001b[43m(\u001b[49m\u001b[43m)\u001b[49m\n\u001b[0;32m      5\u001b[0m     \u001b[38;5;66;03m# print(content)\u001b[39;00m\n",
      "\u001b[1;31mUnsupportedOperation\u001b[0m: not readable"
     ]
    }
   ],
   "source": [
    "# FileNotFoundError \n",
    "\n",
    "with open(\"code.txt\",\"w\") as f:\n",
    "    content = f.read()\n",
    "    # print(content)"
   ]
  },
  {
   "cell_type": "code",
   "execution_count": 106,
   "metadata": {},
   "outputs": [
    {
     "name": "stdout",
     "output_type": "stream",
     "text": [
      "Permission Error / UnsupportedOperation : not readable\n"
     ]
    }
   ],
   "source": [
    "try:\n",
    "    with open(\"code.txt\",\"w\") as f:\n",
    "        content = f.read()\n",
    "        # print(content)\n",
    "except Exception as e:\n",
    "    print(f\"Permission Error / UnsupportedOperation : {e}\")"
   ]
  },
  {
   "cell_type": "markdown",
   "metadata": {},
   "source": [
    "## OS Module"
   ]
  },
  {
   "cell_type": "code",
   "execution_count": 108,
   "metadata": {},
   "outputs": [
    {
     "name": "stdout",
     "output_type": "stream",
     "text": [
      "<module 'os' (frozen)>\n"
     ]
    }
   ],
   "source": [
    "import os as os\n",
    "print(os)"
   ]
  },
  {
   "cell_type": "code",
   "execution_count": 136,
   "metadata": {},
   "outputs": [
    {
     "name": "stdout",
     "output_type": "stream",
     "text": [
      "d:\\ALL About Python\\Data Science Code\n",
      "d:\\ALL About Python\\Data Science Code\n"
     ]
    }
   ],
   "source": [
    "print(os.getcwd())\n",
    "\n",
    "# curr = os.getcwd() \n",
    "print(curr)   "
   ]
  },
  {
   "cell_type": "code",
   "execution_count": 134,
   "metadata": {},
   "outputs": [],
   "source": [
    "# Path change of current file\n",
    "# This is right Path\n",
    "os.chdir(\"d:\\ALL About Python\\Data Science Code\")\n",
    "\n",
    "# Don't change file location\n",
    "# os.chdir(\"d:\\ALL About Python\")\n"
   ]
  },
  {
   "cell_type": "code",
   "execution_count": 135,
   "metadata": {},
   "outputs": [
    {
     "data": {
      "text/plain": [
       "'d:\\\\ALL About Python\\\\Data Science Code'"
      ]
     },
     "execution_count": 135,
     "metadata": {},
     "output_type": "execute_result"
    }
   ],
   "source": [
    "os.getcwd()"
   ]
  },
  {
   "cell_type": "code",
   "execution_count": 132,
   "metadata": {},
   "outputs": [
    {
     "name": "stdout",
     "output_type": "stream",
     "text": [
      "d:\\ALL About Python\n"
     ]
    }
   ],
   "source": [
    "import os\n",
    "path1 = \"d:\\ALL About Python\\Data Science Code\"\n",
    "path2 = \"d:\\ALL About Python\"\n",
    "full_path = os.path.join(path1,path2)\n",
    "print(full_path)"
   ]
  },
  {
   "cell_type": "code",
   "execution_count": 154,
   "metadata": {},
   "outputs": [
    {
     "data": {
      "text/plain": [
       "'d:\\\\ALL About Python\\\\Data Science Code'"
      ]
     },
     "execution_count": 154,
     "metadata": {},
     "output_type": "execute_result"
    }
   ],
   "source": [
    "os.getcwd()"
   ]
  },
  {
   "cell_type": "code",
   "execution_count": 141,
   "metadata": {},
   "outputs": [
    {
     "data": {
      "text/plain": [
       "['.git',\n",
       " '.gitattributes',\n",
       " '.vscode',\n",
       " 'CAR DETAILS FROM CAR DEKHO.csv',\n",
       " 'code.txt',\n",
       " 'Data visualization.ipynb',\n",
       " 'DataFrames.ipynb',\n",
       " 'DataSciences.ipynb',\n",
       " 'handling-missing-values.ipynb',\n",
       " 'Inheritance.ipynb',\n",
       " 'Lecture18_File_Handling_001_.csv',\n",
       " 'Lecture18_File_Handling_001_.txt',\n",
       " 'Lecture_0001.ipynb',\n",
       " 'Lecture_0002.ipynb',\n",
       " 'Lecture_0003.ipynb',\n",
       " 'Lecture_0004.ipynb',\n",
       " 'Lecture_0005.ipynb',\n",
       " 'Lecture_0006.ipynb',\n",
       " 'Lecture_0007.ipynb',\n",
       " 'Lecture_0008.ipynb',\n",
       " 'Lecture_0009_OOP.ipynb',\n",
       " 'Lecture_0010_OOP.ipynb',\n",
       " 'Lecture_0011_OOP.ipynb',\n",
       " 'Lecture_0012_Recursion.ipynb',\n",
       " 'Lecture_0013_Exception_Handling.ipynb',\n",
       " 'Lecture_0014__Scope_Of_A_Variable.ipynb',\n",
       " 'Lecture_0015_iterable_and_iterator.ipynb',\n",
       " 'Lecture_0016_Mastering_In_Exception_Handling.ipynb',\n",
       " 'Lecture_0017.Logging_Debugging.ipynb',\n",
       " 'Lecture_0018_File_Handling.ipynb',\n",
       " 'Lecture_Data_Science_0001.ipynb',\n",
       " 'matches  copy.csv',\n",
       " 'matches .csv',\n",
       " 'MathPlotlib.ipynb',\n",
       " 'matplotlib0001.ipynb',\n",
       " 'MatplottlibPart1.py.ipynb',\n",
       " 'MyFirsrSQL.sql',\n",
       " 'nyc_taxis.csv',\n",
       " 'Pandas .ipynb',\n",
       " 'pandas0001.ipynb',\n",
       " 'pandas0002.ipynb',\n",
       " 'pandas0003.ipynb',\n",
       " 'Python01',\n",
       " 'SearchAlgorithm.ipynb']"
      ]
     },
     "execution_count": 141,
     "metadata": {},
     "output_type": "execute_result"
    }
   ],
   "source": [
    "os.listdir()"
   ]
  },
  {
   "cell_type": "code",
   "execution_count": 140,
   "metadata": {},
   "outputs": [
    {
     "ename": "NameError",
     "evalue": "name 'pwd' is not defined",
     "output_type": "error",
     "traceback": [
      "\u001b[1;31m---------------------------------------------------------------------------\u001b[0m",
      "\u001b[1;31mNameError\u001b[0m                                 Traceback (most recent call last)",
      "Cell \u001b[1;32mIn[140], line 2\u001b[0m\n\u001b[0;32m      1\u001b[0m \u001b[38;5;66;03m# return current file path\u001b[39;00m\n\u001b[1;32m----> 2\u001b[0m \u001b[43mpwd\u001b[49m()\n",
      "\u001b[1;31mNameError\u001b[0m: name 'pwd' is not defined"
     ]
    }
   ],
   "source": [
    "# return current file path\n",
    "pwd()"
   ]
  },
  {
   "cell_type": "code",
   "execution_count": 142,
   "metadata": {},
   "outputs": [],
   "source": [
    "# Creating a new foder using OS model\n",
    "os.mkdir(\"New Folder using os\")"
   ]
  },
  {
   "cell_type": "code",
   "execution_count": 151,
   "metadata": {},
   "outputs": [
    {
     "data": {
      "text/plain": [
       "['sample.ipynb', 'sample_os_module.ipynb']"
      ]
     },
     "execution_count": 151,
     "metadata": {},
     "output_type": "execute_result"
    }
   ],
   "source": [
    "# what present in specific file\n",
    "\n",
    "os.listdir(\"New Folder using os Module\")"
   ]
  },
  {
   "cell_type": "code",
   "execution_count": 150,
   "metadata": {},
   "outputs": [],
   "source": [
    "# Creating File inside New Folder using os model\n",
    "os.makedirs(\"New Folder using os Module/sample_os_module.ipynb\")"
   ]
  },
  {
   "cell_type": "code",
   "execution_count": 157,
   "metadata": {},
   "outputs": [],
   "source": [
    "import os"
   ]
  },
  {
   "cell_type": "code",
   "execution_count": 160,
   "metadata": {},
   "outputs": [
    {
     "ename": "OSError",
     "evalue": "[WinError 123] The filename, directory name, or volume label syntax is incorrect: \"'d://ALL About Python//Data Science Code'//New Folder using os Module/sample.ipynb\"",
     "output_type": "error",
     "traceback": [
      "\u001b[1;31m---------------------------------------------------------------------------\u001b[0m",
      "\u001b[1;31mOSError\u001b[0m                                   Traceback (most recent call last)",
      "Cell \u001b[1;32mIn[160], line 3\u001b[0m\n\u001b[0;32m      1\u001b[0m \u001b[38;5;28;01mimport\u001b[39;00m \u001b[38;5;21;01mos\u001b[39;00m\n\u001b[0;32m      2\u001b[0m \u001b[38;5;66;03m# To remove specifice file using \u001b[39;00m\n\u001b[1;32m----> 3\u001b[0m \u001b[43mos\u001b[49m\u001b[38;5;241;43m.\u001b[39;49m\u001b[43mremove\u001b[49m\u001b[43m(\u001b[49m\u001b[38;5;124;43m\"\u001b[39;49m\u001b[38;5;124;43m'\u001b[39;49m\u001b[38;5;124;43md://ALL About Python//Data Science Code\u001b[39;49m\u001b[38;5;124;43m'\u001b[39;49m\u001b[38;5;124;43m//New Folder using os Module/sample.ipynb\u001b[39;49m\u001b[38;5;124;43m\"\u001b[39;49m\u001b[43m)\u001b[49m\n",
      "\u001b[1;31mOSError\u001b[0m: [WinError 123] The filename, directory name, or volume label syntax is incorrect: \"'d://ALL About Python//Data Science Code'//New Folder using os Module/sample.ipynb\""
     ]
    }
   ],
   "source": [
    "import os\n",
    "# To remove specifice file using \n",
    "os.remove(\"'d://ALL About Python//Data Science Code'//New Folder using os Module/sample.ipynb\")"
   ]
  }
 ],
 "metadata": {
  "kernelspec": {
   "display_name": "Python 3",
   "language": "python",
   "name": "python3"
  },
  "language_info": {
   "codemirror_mode": {
    "name": "ipython",
    "version": 3
   },
   "file_extension": ".py",
   "mimetype": "text/x-python",
   "name": "python",
   "nbconvert_exporter": "python",
   "pygments_lexer": "ipython3",
   "version": "3.11.1"
  }
 },
 "nbformat": 4,
 "nbformat_minor": 2
}
