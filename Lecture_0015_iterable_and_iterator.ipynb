{
 "cells": [
  {
   "cell_type": "markdown",
   "metadata": {},
   "source": [
    "## iterable and iterator\n",
    "#### We not need to store all iterator in local system we can pick up require item or data\n",
    "#### We can perform iteration operation on the iterable like list, tuple,  etc\n",
    "#### Iterable is an object, that one can iterate over. It generates an Iterator when passed to iter() method.\n",
    "#### Every iterator is also an iterable, but not every iterable is an iterator in Python.\n",
    "#### Python iterator object must implement two special methods<br> __ __iter__() __ and __ __next__() __, collectively called the iterator protocol\n"
   ]
  },
  {
   "cell_type": "markdown",
   "metadata": {},
   "source": [
    "### Make the iterator using __ __iter__ __ method"
   ]
  },
  {
   "cell_type": "markdown",
   "metadata": {},
   "source": []
  },
  {
   "cell_type": "code",
   "execution_count": 41,
   "metadata": {},
   "outputs": [
    {
     "name": "stdout",
     "output_type": "stream",
     "text": [
      "True\n",
      "True\n"
     ]
    }
   ],
   "source": [
    "l2 = [1, 2, 3, 44, 55, 33, 22]\n",
    "iter(l2)\n",
    "print(\"__iter__\" in dir(iter(l2)))  # Output : True\n",
    "print(\"__next__\" in dir(iter(l2)))  # Output : True\n",
    "\n",
    "# that means list is iterator"
   ]
  },
  {
   "cell_type": "code",
   "execution_count": 48,
   "metadata": {},
   "outputs": [
    {
     "name": "stdout",
     "output_type": "stream",
     "text": [
      "Require Memory Of List l :  85176\n"
     ]
    }
   ],
   "source": [
    "# Here we can cheak How many memory allocate the specific data.\n",
    "# Here we can store data inside l list.\n",
    "# Here we can import system libary\n",
    "import sys\n",
    "\n",
    "# Store the data in list l\n",
    "l = [i for i in range(10000)]\n",
    "print(\"Require Memory Of List l : \",sys.getsizeof(l))"
   ]
  },
  {
   "cell_type": "code",
   "execution_count": 14,
   "metadata": {},
   "outputs": [
    {
     "name": "stdout",
     "output_type": "stream",
     "text": [
      "48\n"
     ]
    }
   ],
   "source": [
    "import sys\n",
    "\n",
    "# Without storing data perform operation \n",
    "l1 = range(1)\n",
    "print(sys.getsizeof(l1))"
   ]
  },
  {
   "cell_type": "code",
   "execution_count": 52,
   "metadata": {},
   "outputs": [
    {
     "name": "stdout",
     "output_type": "stream",
     "text": [
      "0 1 2 3 4 \n",
      "\n",
      "\n",
      "1 2 3 44 55 33 22 \n",
      "\n",
      "\n",
      "1 2 3 44 55 33 22 "
     ]
    }
   ],
   "source": [
    "l2 = [1,2,3,44,55,33,22]\n",
    "for i in range(5):      # this process we called Iteration\n",
    "    print(i ,end=\" \")\n",
    "print(\"\\n\\n\")\n",
    "for i in l2:      # this process we called Iteration\n",
    "    print(i,end=' ')\n",
    "print(\"\\n\\n\") \n",
    "for i in l2:      # this process we called Iteration\n",
    "    print(i,end=\" \")"
   ]
  },
  {
   "cell_type": "code",
   "execution_count": 59,
   "metadata": {},
   "outputs": [
    {
     "name": "stdout",
     "output_type": "stream",
     "text": [
      "1 2 3 45 6 7 8 \n",
      " True\n",
      "False\n"
     ]
    }
   ],
   "source": [
    "# we know list is iterable\n",
    "l2 = [1,2,3,45,6,7,8]\n",
    "\n",
    "for i in l2:\n",
    "    print(i,end=\" \")\n",
    "\n",
    "# Those thing is iterable contain \"__iter__\" and \"__next__\" method\n",
    "# how to cheak __iter__ and __next__ method present or not if method is present it will return True and not present return False\n",
    "# \"__iter__\" in dir(varible) \n",
    "# \"__next__\" in dir(varible)\n",
    "\n",
    "print(\"\\n\",\"__iter__\" in dir(l2))\n",
    "print(\"__next__\" in dir(l2))"
   ]
  },
  {
   "cell_type": "code",
   "execution_count": 73,
   "metadata": {},
   "outputs": [
    {
     "name": "stdout",
     "output_type": "stream",
     "text": [
      "Iterable : --> \n",
      "__iter__ in dir(l2) :  True\n",
      "__next__ in dir(l2) :  False\n",
      "\n",
      "\n",
      "Iterators : -->\n",
      "__iter__ in dir(iter(l2)) :  True\n",
      "__next__ in dir(iter(l2)) :  True\n"
     ]
    }
   ],
   "source": [
    "# iterable can be converted in iterator\n",
    "# Here list convert into list Iterator like tuple convert tuple iterator\n",
    "l2 = [1, 2, 3, 45, 6, 7, 8]\n",
    "iter(l2)\n",
    "print(\"Iterable : --> \")\n",
    "print(\"__iter__ in dir(l2) : \",\"__iter__\" in dir(l2))       # Iterable\n",
    "print(\"__next__ in dir(l2) : \",\"__next__\" in dir(l2))       # Iterabel\n",
    "\n",
    "print(\"\\n\\nIterators : -->\")\n",
    "print(\"__iter__ in dir(iter(l2)) : \",\"__iter__\" in dir(iter(l2)))  # Iterators\n",
    "print(\"__next__ in dir(iter(l2)) : \",\"__next__\" in dir(iter(l2)))  # Iterators"
   ]
  },
  {
   "cell_type": "code",
   "execution_count": 78,
   "metadata": {},
   "outputs": [
    {
     "name": "stdout",
     "output_type": "stream",
     "text": [
      "l2 :  [1, 2, 3, 45, 6, 7, 8] \n",
      "l3 :  <list_iterator object at 0x00000295C02E3DC0>\n",
      "1 2 3 45 6 7 8 "
     ]
    }
   ],
   "source": [
    "l2 = [1, 2, 3, 45, 6, 7, 8]\n",
    "l3 =  iter(l2)\n",
    "print(\"l2 : \",l2,\"\\nl3 : \",l3)\n",
    "for i in l3:\n",
    "    print(i,end=\" \")\n"
   ]
  },
  {
   "cell_type": "code",
   "execution_count": 92,
   "metadata": {},
   "outputs": [],
   "source": [
    "# l4 = [1,2,3,4,5,6]\n",
    "# l5 = iter(l4)\n",
    "# next(l5)"
   ]
  },
  {
   "cell_type": "code",
   "execution_count": 3,
   "metadata": {},
   "outputs": [],
   "source": [
    "l4 = [1,2,3,4,5,6]"
   ]
  },
  {
   "cell_type": "code",
   "execution_count": 4,
   "metadata": {},
   "outputs": [],
   "source": [
    "l5 = iter(l4)"
   ]
  },
  {
   "cell_type": "code",
   "execution_count": 11,
   "metadata": {},
   "outputs": [
    {
     "ename": "StopIteration",
     "evalue": "",
     "output_type": "error",
     "traceback": [
      "\u001b[1;31m---------------------------------------------------------------------------\u001b[0m",
      "\u001b[1;31mStopIteration\u001b[0m                             Traceback (most recent call last)",
      "Cell \u001b[1;32mIn[11], line 1\u001b[0m\n\u001b[1;32m----> 1\u001b[0m \u001b[38;5;28;43mnext\u001b[39;49m\u001b[43m(\u001b[49m\u001b[43ml5\u001b[49m\u001b[43m)\u001b[49m\n",
      "\u001b[1;31mStopIteration\u001b[0m: "
     ]
    }
   ],
   "source": [
    "next(l5)"
   ]
  },
  {
   "cell_type": "code",
   "execution_count": 111,
   "metadata": {},
   "outputs": [],
   "source": [
    "# 'int' object is not iterable \n",
    "str1 = 132415153532 \n",
    "# for i in str1:\n",
    "#     print(i)"
   ]
  },
  {
   "cell_type": "code",
   "execution_count": 20,
   "metadata": {},
   "outputs": [
    {
     "data": {
      "text/plain": [
       "True"
      ]
     },
     "execution_count": 20,
     "metadata": {},
     "output_type": "execute_result"
    }
   ],
   "source": [
    "\"__iter__\" in dir(l2)"
   ]
  },
  {
   "cell_type": "code",
   "execution_count": 113,
   "metadata": {},
   "outputs": [
    {
     "name": "stdout",
     "output_type": "stream",
     "text": [
      "1\n",
      "2\n",
      "3\n"
     ]
    }
   ],
   "source": [
    "def my_generator(): \n",
    "    yield 1 \n",
    "    yield 2 \n",
    "    yield 3\n",
    "    \n",
    "for value in my_generator(): \n",
    "    print(value)"
   ]
  },
  {
   "cell_type": "code",
   "execution_count": 114,
   "metadata": {},
   "outputs": [
    {
     "name": "stdout",
     "output_type": "stream",
     "text": [
      "1\n",
      "2\n",
      "3\n",
      "4\n"
     ]
    }
   ],
   "source": [
    "numbers = [1, 2, 3, 4] \n",
    "for num in iter(numbers): \n",
    "    print(num)"
   ]
  },
  {
   "cell_type": "code",
   "execution_count": 116,
   "metadata": {},
   "outputs": [
    {
     "name": "stdout",
     "output_type": "stream",
     "text": [
      "1\n",
      "2\n",
      "3\n"
     ]
    }
   ],
   "source": [
    "class MyIterator: \n",
    "    def __iter__(self): \n",
    "        self.a = 1 \n",
    "        return self \n",
    "    def __next__(self): \n",
    "        x = self.a \n",
    "        self.a += 1 \n",
    "        return x \n",
    "my_iter = MyIterator() \n",
    "it = iter(my_iter) \n",
    "print(next(it)) \n",
    "print(next(it)) \n",
    "print(next(it))"
   ]
  },
  {
   "cell_type": "markdown",
   "metadata": {},
   "source": [
    "## Custom For Loop And Range\n",
    "### Making Own For require method iter(), next(), exception handling"
   ]
  },
  {
   "cell_type": "code",
   "execution_count": 12,
   "metadata": {},
   "outputs": [
    {
     "name": "stdout",
     "output_type": "stream",
     "text": [
      "7\n",
      "6\n",
      "5\n",
      "4\n",
      "3\n",
      "2\n"
     ]
    }
   ],
   "source": [
    "# This is alternative of for loop it can perform evey task which task for loop will perform.\n",
    "\n",
    "def myloop(num):\n",
    "    iterator = iter(num)\n",
    "    while True:\n",
    "        try:\n",
    "            print(next(iterator))\n",
    "        except StopIteration:  \n",
    "            break  \n",
    "\n",
    "num = \"11,22,33,44,55\"\n",
    "num1 = [1,23,\"fdaf\",True]\n",
    "# we can direaclty pass range function inside function as a parmeter\n",
    "num2 = range(5)\n",
    "num3 = range(7,1,-1)\n",
    "\n",
    "myloop(num3)"
   ]
  },
  {
   "cell_type": "markdown",
   "metadata": {},
   "source": [
    "### Making Own range() function"
   ]
  },
  {
   "cell_type": "code",
   "execution_count": 17,
   "metadata": {},
   "outputs": [
    {
     "data": {
      "text/plain": [
       "range(7, 1, -5)"
      ]
     },
     "execution_count": 17,
     "metadata": {},
     "output_type": "execute_result"
    }
   ],
   "source": [
    "# range(1,4,1)\n",
    "range(7,1,-5)"
   ]
  },
  {
   "cell_type": "code",
   "execution_count": 12,
   "metadata": {},
   "outputs": [],
   "source": [
    "class Myrange:\n",
    "    def __init__(self,start, stop, step = 1):\n",
    "        self.start = start\n",
    "        self.stop = stop\n",
    "        self.step = step\n",
    "      \n",
    "    def __iter__(self):\n",
    "         \n",
    "        return self\n",
    "\n",
    "    def __next__(self):\n",
    "        if self.start < self.stop:\n",
    "            value = self.start\n",
    "            self.start = self.start + self.step \n",
    "            return value\n",
    "        else:\n",
    "            raise StopIteration\n"
   ]
  },
  {
   "cell_type": "code",
   "execution_count": 13,
   "metadata": {},
   "outputs": [
    {
     "name": "stdout",
     "output_type": "stream",
     "text": [
      "1\n",
      "2\n",
      "3\n",
      "4\n",
      "5\n",
      "6\n",
      "7\n",
      "8\n",
      "9\n"
     ]
    }
   ],
   "source": [
    "myclass_obj = Myrange(1,10,1)\n",
    "myclass_obj\n",
    "for i in myclass_obj:\n",
    "    print(i)\n"
   ]
  },
  {
   "cell_type": "markdown",
   "metadata": {},
   "source": [
    "## Generator In Python"
   ]
  },
  {
   "cell_type": "markdown",
   "metadata": {},
   "source": [
    "#### Make Own Range() function"
   ]
  },
  {
   "cell_type": "code",
   "execution_count": 1,
   "metadata": {},
   "outputs": [],
   "source": [
    "class Myrange:\n",
    "    def __init__(self,start,stop,step):\n",
    "        self.start = start\n",
    "        self.stop = stop\n",
    "        self.stemp = step\n",
    "\n",
    "        def __iter__(self):  \n",
    "            return self\n",
    "\n",
    "        def __next__(self):\n",
    "            if start < stop:\n",
    "                value = self.start\n",
    "                self.start = self.start + self.step\n",
    "                return value\n",
    "            else:\n",
    "                raise StopIteration\n",
    "            \n"
   ]
  },
  {
   "cell_type": "markdown",
   "metadata": {},
   "source": [
    "#### Generator : yield"
   ]
  },
  {
   "cell_type": "markdown",
   "metadata": {},
   "source": [
    "##### theory"
   ]
  },
  {
   "cell_type": "markdown",
   "metadata": {},
   "source": [
    "###### 1. The yield keyword is used to return a list of values from a function.<br>2. The yield kewword is used to create a generator function. a type of function that is memory efficient and can be used like an iterator object.\n",
    "\n",
    "###### yield keyword is similar to return statement. the main diffence is we use the return statemnt at end of the function and return statement terminates the execution of the function.\n",
    "\n",
    "###### Advantages :<br> highly memory efficient, <br> As the variables states are saved, we can pause and resume from the same point, thus saving time.<br> Code easy to write a code\n",
    "\n",
    "###### Disadvantages : <br> Sometimes it becomes hard to understand the flow of code due to multiple times of value return from the function generator.<br> Calling of generator function must be handled properly, else might cause errors in program"
   ]
  },
  {
   "cell_type": "markdown",
   "metadata": {},
   "source": [
    "#### Pratical\n",
    "\n",
    "##### yield can perform multipe task like __ __iter()__ __ and __ __next()__ __  <br>(In short : -->  yield = __ __iter()__ __ + __ __next()__ __)\n",
    "##### when we make the function using yield generator that time we direactly call the function it will return __ __<generator object Myrange at 0x0000020FFF56EC20>__  __ like that output\n",
    "\n",
    "#### when we make the function using yield genertator so first we can store those function inside the one varible using higher order compect this method return meaningful output\n"
   ]
  },
  {
   "cell_type": "code",
   "execution_count": 12,
   "metadata": {},
   "outputs": [
    {
     "data": {
      "text/plain": [
       "<generator object Myrange at 0x0000020FFF56C860>"
      ]
     },
     "execution_count": 12,
     "metadata": {},
     "output_type": "execute_result"
    }
   ],
   "source": [
    "# Here we create new range() function without using range() predefined method\n",
    "# In this we cannot used object\n",
    "\n",
    "def Myrange(start,stop,step = 1):\n",
    "    while start < stop:\n",
    "        yield start\n",
    "        start += step\n",
    "\n",
    "Myrange(1,4,1)      # Output : <generator object Myrange at 0x0000020FFF56EC20>"
   ]
  },
  {
   "cell_type": "code",
   "execution_count": 2,
   "metadata": {},
   "outputs": [
    {
     "name": "stdout",
     "output_type": "stream",
     "text": [
      "0\n",
      "1\n",
      "1\n",
      "2\n",
      "3\n",
      "5\n",
      "8\n",
      "13\n",
      "21\n",
      "34\n"
     ]
    }
   ],
   "source": [
    "# This is Generator Function its contain yield\n",
    "#    keyword\n",
    "def fibonacci():\n",
    "    # way to decalre variable\n",
    "    a, b = 0, 1 # a = 0 and b = 1 \n",
    "    \n",
    "    # condition is always True \n",
    "    while True:\n",
    "        yield a\n",
    "        a, b = b, a + b # a = b and b = a + b\n",
    "\n",
    "# Using the generator create generator object\n",
    "fib_gen = fibonacci()\n",
    "\n",
    "for _ in range(10):\n",
    "    print(next(fib_gen))"
   ]
  },
  {
   "cell_type": "code",
   "execution_count": 13,
   "metadata": {},
   "outputs": [
    {
     "name": "stdout",
     "output_type": "stream",
     "text": [
      "1\n",
      "2\n",
      "3\n",
      "4\n",
      "5\n"
     ]
    }
   ],
   "source": [
    "# Here we create new range() function without using range() predefined method\n",
    "# In this we can used object\n",
    "\n",
    "def Myrange(start,stop,step = 1):\n",
    "    while start < stop:\n",
    "        yield start\n",
    "        start += step \n",
    "\n",
    "obj = Myrange(1,6) \n",
    "for i in obj:\n",
    "    print(i)\n"
   ]
  },
  {
   "cell_type": "code",
   "execution_count": 1,
   "metadata": {},
   "outputs": [
    {
     "name": "stdout",
     "output_type": "stream",
     "text": [
      "1\n",
      "4\n",
      "9\n",
      "16\n",
      "25\n"
     ]
    }
   ],
   "source": [
    "def square_generator(limit):\n",
    "    for num in range(1, limit + 1):\n",
    "        yield num * num\n",
    "\n",
    "# Example usage:\n",
    "for square in square_generator(5):\n",
    "    print(square)"
   ]
  },
  {
   "cell_type": "markdown",
   "metadata": {},
   "source": [
    "##### More under standing of return()\n",
    "###### return() return last statement <br> return is compleat executed\n"
   ]
  },
  {
   "cell_type": "code",
   "execution_count": 14,
   "metadata": {},
   "outputs": [],
   "source": [
    "def fun_return():\n",
    "    return 1\n",
    "    return 2\n",
    "    return 3"
   ]
  },
  {
   "cell_type": "code",
   "execution_count": 16,
   "metadata": {},
   "outputs": [
    {
     "data": {
      "text/plain": [
       "1"
      ]
     },
     "execution_count": 16,
     "metadata": {},
     "output_type": "execute_result"
    }
   ],
   "source": [
    "fun_return()"
   ]
  },
  {
   "cell_type": "code",
   "execution_count": null,
   "metadata": {},
   "outputs": [],
   "source": []
  },
  {
   "cell_type": "markdown",
   "metadata": {},
   "source": [
    "#### yield\n",
    "###### yield is not last statement <br> yield can execute tempory <br> It will remeber logic <br> It will remeber last iteration"
   ]
  },
  {
   "cell_type": "code",
   "execution_count": 32,
   "metadata": {},
   "outputs": [],
   "source": [
    "def fun_yield():\n",
    "    yield 1\n",
    "    yield 2\n",
    "    yield 3\n",
    "\n",
    "\n",
    "y = fun_yield()\n",
    "# for i in y:\n",
    "#     print(i)"
   ]
  },
  {
   "cell_type": "code",
   "execution_count": 34,
   "metadata": {},
   "outputs": [
    {
     "data": {
      "text/plain": [
       "2"
      ]
     },
     "execution_count": 34,
     "metadata": {},
     "output_type": "execute_result"
    }
   ],
   "source": [
    "# Access one by one element \n",
    "next(y)"
   ]
  },
  {
   "cell_type": "code",
   "execution_count": 35,
   "metadata": {},
   "outputs": [
    {
     "name": "stdout",
     "output_type": "stream",
     "text": [
      "3\n"
     ]
    }
   ],
   "source": [
    "# Lets to cheak how to remeber last iteration and logic in above code we can access one element inside the fun_yield function so we get next value in this code.\n",
    "for i in y:\n",
    "    print(i)"
   ]
  },
  {
   "cell_type": "code",
   "execution_count": 36,
   "metadata": {},
   "outputs": [
    {
     "name": "stdout",
     "output_type": "stream",
     "text": [
      "85176\n",
      "200\n"
     ]
    }
   ],
   "source": [
    "import sys\n",
    "nums = [i for i in range(10000)] \n",
    "print(sys.getsizeof(nums)) \n",
    "print(sys.getsizeof((i for i in range(10000))))"
   ]
  },
  {
   "cell_type": "markdown",
   "metadata": {},
   "source": [
    "## Zip And Enumerate Function In Python"
   ]
  },
  {
   "cell_type": "markdown",
   "metadata": {},
   "source": [
    "##### Zip() Method takes iterable containers and returns a single iterator object, having mapped vaues form all the containers.\n",
    "##### The zip() function take one or more iterables as arguments and return a zip object. <br> if we pass unequal size of list in zip function it will those value which is present all the list and another value will skipped\n",
    "\n",
    "\n",
    "<br> Syntax :  zip(*iterators) <br>\n",
    "\n",
    "Parameters : Python iterables or containers ( list, string etc ) <br>\n",
    "Return Value : Returns a single iterator object.\n",
    "\n"
   ]
  },
  {
   "cell_type": "code",
   "execution_count": 18,
   "metadata": {},
   "outputs": [
    {
     "name": "stdout",
     "output_type": "stream",
     "text": [
      "{'Manjeet': 4, 'Nikhil': 1, 'Shambhavi': 3, 'Astha': 2}\n"
     ]
    }
   ],
   "source": [
    "name = [ \"Manjeet\", \"Nikhil\", \"Shambhavi\", \"Astha\" ]\n",
    "roll_no = [ 4, 1, 3, 2 ]\n",
    "\n",
    "# using zip() to map values\n",
    "mapped = zip(name, roll_no)\n",
    "\n",
    "print(dict(mapped))\n"
   ]
  },
  {
   "cell_type": "code",
   "execution_count": 12,
   "metadata": {},
   "outputs": [
    {
     "name": "stdout",
     "output_type": "stream",
     "text": [
      "[1, 4, 3, 8, 5, 12, 7, 16, 9, 20]\n"
     ]
    }
   ],
   "source": [
    "numbers = [1, 2, 3, 4, 5, 6, 7, 8, 9, 10]\n",
    "index = 0\n",
    "\n",
    "for number in numbers:\n",
    "    if index % 2 == 1:  # Check if the index is odd (every second element)\n",
    "        numbers[index] = number * 2\n",
    "    index += 1\n",
    "\n",
    "print(numbers)"
   ]
  },
  {
   "cell_type": "code",
   "execution_count": 11,
   "metadata": {},
   "outputs": [
    {
     "name": "stdout",
     "output_type": "stream",
     "text": [
      "1 6\n",
      "2 7\n",
      "3 8\n",
      "4 9\n",
      "5 10\n"
     ]
    },
    {
     "ename": "IndexError",
     "evalue": "list index out of range",
     "output_type": "error",
     "traceback": [
      "\u001b[1;31m---------------------------------------------------------------------------\u001b[0m",
      "\u001b[1;31mIndexError\u001b[0m                                Traceback (most recent call last)",
      "Cell \u001b[1;32mIn[11], line 5\u001b[0m\n\u001b[0;32m      3\u001b[0m p \u001b[38;5;241m=\u001b[39m \u001b[38;5;28mlen\u001b[39m(l1)\n\u001b[0;32m      4\u001b[0m \u001b[38;5;28;01mfor\u001b[39;00m i \u001b[38;5;129;01min\u001b[39;00m \u001b[38;5;28mrange\u001b[39m(p):\n\u001b[1;32m----> 5\u001b[0m     \u001b[38;5;28mprint\u001b[39m(l1[i],\u001b[43ml2\u001b[49m\u001b[43m[\u001b[49m\u001b[43mi\u001b[49m\u001b[43m]\u001b[49m)\n",
      "\u001b[1;31mIndexError\u001b[0m: list index out of range"
     ]
    }
   ],
   "source": [
    "l1 = [1,2,3,4,5,12]\n",
    "l2 = [6,7,8,9,10]\n",
    "p = len(l1)\n",
    "for i in range(p):\n",
    "    print(l1[i],l2[i])"
   ]
  },
  {
   "cell_type": "code",
   "execution_count": 5,
   "metadata": {},
   "outputs": [
    {
     "name": "stdout",
     "output_type": "stream",
     "text": [
      "1 5\n",
      "2 6\n",
      "3 7\n",
      "4 8\n"
     ]
    }
   ],
   "source": [
    "l1 = [1,2,3,4]\n",
    "l2 = [5,6,7,8]\n",
    "\n",
    "for a,b in zip(l1,l2):\n",
    "    print(a,b)"
   ]
  },
  {
   "cell_type": "code",
   "execution_count": 15,
   "metadata": {},
   "outputs": [
    {
     "name": "stdout",
     "output_type": "stream",
     "text": [
      "1 5\n",
      "2 6\n",
      "3 7\n",
      "4 8\n"
     ]
    }
   ],
   "source": [
    "tuple1 = (1,2,3,4)\n",
    "tuple2 = (5,6,7,8)\n",
    "\n",
    "for a,b in zip(tuple1,tuple2):\n",
    "    print(a,b)"
   ]
  },
  {
   "cell_type": "code",
   "execution_count": null,
   "metadata": {},
   "outputs": [],
   "source": []
  },
  {
   "cell_type": "code",
   "execution_count": 10,
   "metadata": {},
   "outputs": [
    {
     "name": "stdout",
     "output_type": "stream",
     "text": [
      "1 8\n",
      "2 5\n",
      "3 6\n",
      "4 7\n"
     ]
    }
   ],
   "source": [
    "set1 = {1,2,3,4,8,9}\n",
    "set2 = {5,6,7,8}\n",
    "\n",
    "for a,b in zip(set1,set2):\n",
    "    print(a,b)"
   ]
  },
  {
   "cell_type": "code",
   "execution_count": 4,
   "metadata": {},
   "outputs": [
    {
     "name": "stdout",
     "output_type": "stream",
     "text": [
      "1 a\n",
      "2 c\n",
      "3 e\n",
      "4 g\n",
      "{'GEEKS': 2175, 'For': 1127, 'geeks': 2750}\n"
     ]
    }
   ],
   "source": [
    "# zip methond on dict it will return only keys.\n",
    "dict1 = {1:11,2:22,3:33,4:44}\n",
    "dict2 = {\"a\":\"b\",\"c\":\"d\",\"e\":\"f\",\"g\":\"h\"}\n",
    "\n",
    "for a,b in zip(dict1,dict2):\n",
    "    print(a,b)\n",
    "\n",
    "\n",
    "\n",
    "\n",
    "# To convert list in dict\n",
    "\n",
    "stocks = ['GEEKS', 'For', 'geeks']\n",
    "prices = [2175, 1127, 2750]\n",
    "\n",
    "new_dict = {stocks: prices for stocks,\n",
    "\t\t\tprices in zip(stocks, prices)}\n",
    "print(new_dict)\n"
   ]
  },
  {
   "cell_type": "markdown",
   "metadata": {},
   "source": [
    "##### Unequal size of list passed in zip function"
   ]
  },
  {
   "cell_type": "code",
   "execution_count": 22,
   "metadata": {},
   "outputs": [
    {
     "name": "stdout",
     "output_type": "stream",
     "text": [
      "Zipped result as a list:\n",
      "('Chandler', 'Male', 35)\n",
      "('Monica', 'Female', 36)\n",
      "('Ross', 'Male', 38)\n",
      "('Rachel', 'Female', 34)\n"
     ]
    }
   ],
   "source": [
    "# Define lists for 'persons', 'genders', and a tuple for 'ages'\n",
    "persons = [\"Chandler\", \"Monica\", \"Ross\", \"Rachel\", \"Joey\", \"Phoebe\", \"Joanna\"]\n",
    "genders = [\"Male\", \"Female\", \"Male\", \"Female\", \"Male\", \"Female\", \"Female\"]\n",
    "ages = (35, 36, 38, 34)\n",
    "\n",
    "# Create a zipped object combining the 'persons' and 'genders' \n",
    "#lists along with the 'ages' tuple\n",
    "zipped_result = zip(persons, genders, ages)\n",
    "\n",
    "# Print the zipped object\n",
    "print(\"Zipped result as a list:\")\n",
    "for i in list(zipped_result):\n",
    "    print(i)\n"
   ]
  },
  {
   "cell_type": "code",
   "execution_count": 4,
   "metadata": {},
   "outputs": [
    {
     "name": "stdout",
     "output_type": "stream",
     "text": [
      "1 6 1 6 1 6\n",
      "2 7 2 7 2 7\n",
      "3 8 3 8 3 8\n",
      "4 9 4 9 4 9\n",
      "5 10 5 10 5 10\n"
     ]
    }
   ],
   "source": [
    "l1 = [1,2,3,4,5]\n",
    "l2 = [6,7,8,9,10]\n",
    "l3 = [1,2,3,4,5]\n",
    "l4 = [6,7,8,9,10]\n",
    "l5 = [1,2,3,4,5]\n",
    "l6 = [6,7,8,9,10]\n",
    "\n",
    "for a,b,c,d,e,f in zip(l1,l2,l3,l4,l5,l6):\n",
    "    print(a,b,c,d,e,f)"
   ]
  },
  {
   "cell_type": "code",
   "execution_count": 3,
   "metadata": {},
   "outputs": [
    {
     "name": "stdout",
     "output_type": "stream",
     "text": [
      "[('Alice', 25), ('Bob', 30), ('Charlie', 35)]\n"
     ]
    }
   ],
   "source": [
    "# Two lists of equal length\n",
    "names = [\"Alice\", \"Bob\", \"Charlie\"]\n",
    "ages = [25, 30, 35]\n",
    "\n",
    "# Using zip to combine names and ages\n",
    "combined = zip(names, ages)\n",
    "\n",
    "# Converting the zip object to a list of tuples\n",
    "combined_list = list(combined)\n",
    "print(combined_list)"
   ]
  },
  {
   "cell_type": "markdown",
   "metadata": {},
   "source": [
    "### Enumerate in python"
   ]
  },
  {
   "cell_type": "markdown",
   "metadata": {},
   "source": [
    "##### Syntax: \n",
    "<br>\n",
    "Syntax: enumerate(iterable, start=0)\n",
    "<br>\n",
    "\n",
    "Parameters:<br>\n",
    "Iterable: any object that supports iteration<br>\n",
    "Start: the index value from which the counter is to be started, by default it is 0<br>\n",
    "Return: Returns an iterator with index and element pairs from the original iterable<br>"
   ]
  },
  {
   "cell_type": "code",
   "execution_count": 23,
   "metadata": {},
   "outputs": [
    {
     "name": "stdout",
     "output_type": "stream",
     "text": [
      "Index : 0, Value is 1.\n",
      "Index : 1, Value is 2.\n",
      "Index : 2, Value is 3.\n",
      "Index : 3, Value is 4.\n",
      "Index : 4, Value is 5.\n",
      "Index : 5, Value is 6.\n"
     ]
    }
   ],
   "source": [
    "# If we won't to index number that time we used enumerate \n",
    "\n",
    "l1 = [1,2,3,4,5,6]\n",
    "c = 0\n",
    "for i in l1:\n",
    "    print(f\"Index : {c}, Value is {i}.\")\n",
    "    c +=1"
   ]
  },
  {
   "cell_type": "code",
   "execution_count": 7,
   "metadata": {},
   "outputs": [
    {
     "name": "stdout",
     "output_type": "stream",
     "text": [
      "index : 1 Value : Pravin\n",
      "index : 2 Value : Jay\n",
      "index : 3 Value : Harish\n",
      "index : 4 Value : Priyaka\n"
     ]
    }
   ],
   "source": [
    "l1 = [\"Pravin\",\"Jay\",\"Harish\",\"Priyaka\"]\n",
    "\n",
    "for a,b in enumerate(l1,start=1):\n",
    "    print(f\"index : {a} Value : {b}\")"
   ]
  },
  {
   "cell_type": "code",
   "execution_count": 30,
   "metadata": {},
   "outputs": [
    {
     "name": "stdout",
     "output_type": "stream",
     "text": [
      "[(1, 'Python'), (2, 'Java'), (3, 'C++'), (4, 'JavaScript')]\n"
     ]
    }
   ],
   "source": [
    "languages = ['Python', 'Java', 'C++', 'JavaScript'] \n",
    "enum_result = list(enumerate(languages, start=1)) \n",
    "print(enum_result)"
   ]
  },
  {
   "cell_type": "code",
   "execution_count": 28,
   "metadata": {},
   "outputs": [
    {
     "data": {
      "text/plain": [
       "[2, 6, 6, 12, 10, 18]"
      ]
     },
     "execution_count": 28,
     "metadata": {},
     "output_type": "execute_result"
    }
   ],
   "source": [
    "l1 = [1,2,3,4,5,6]\n",
    "\n",
    "for a,b in enumerate(l1):\n",
    "    if a % 2==0:\n",
    "        l1[a] *=2\n",
    "    else:\n",
    "        l1[a] *=3\n",
    "l1"
   ]
  },
  {
   "cell_type": "code",
   "execution_count": 29,
   "metadata": {},
   "outputs": [
    {
     "name": "stdout",
     "output_type": "stream",
     "text": [
      "(1, 2, 3)\n",
      "('a', 'b', 'c')\n"
     ]
    }
   ],
   "source": [
    "num_list = [1, 2, 3]\n",
    "char_list = ['a', 'b', 'c'] \n",
    "unzipped = list(zip(num_list, char_list)) \n",
    "unpacked_num, unpacked_char = zip(*unzipped) \n",
    "print(unpacked_num) \n",
    "print(unpacked_char)"
   ]
  },
  {
   "cell_type": "code",
   "execution_count": 31,
   "metadata": {},
   "outputs": [
    {
     "name": "stdout",
     "output_type": "stream",
     "text": [
      "[(1, 'a'), (2, 'b'), (3, 'c')]\n"
     ]
    }
   ],
   "source": [
    "a = [1, 2, 3] \n",
    "b = ['a', 'b', 'c'] \n",
    "result = list(zip(a, b)) \n",
    "print(result)"
   ]
  },
  {
   "cell_type": "markdown",
   "metadata": {},
   "source": [
    "##### Combiantion of zip() and enumerate()"
   ]
  },
  {
   "cell_type": "code",
   "execution_count": 14,
   "metadata": {},
   "outputs": [
    {
     "name": "stdout",
     "output_type": "stream",
     "text": [
      "0 Mukesh 24\n",
      "1 Roni 50\n",
      "2 Chari 18\n"
     ]
    }
   ],
   "source": [
    "names = ['Mukesh', 'Roni', 'Chari']\n",
    "ages = [24, 50, 18]\n",
    "\n",
    "for i, (name, age) in enumerate(zip(names, ages)):\n",
    "\tprint(i, name, age)\n"
   ]
  },
  {
   "attachments": {
    "image.png": {
     "image/png": "[encoded data removed]"
    }
   },
   "cell_type": "markdown",
   "metadata": {},
   "source": [
    "input 4 <br>\n",
    "![image.png](attachment:image.png)"
   ]
  },
  {
   "attachments": {
    "image.png": {
     "image/png": "[encoded data removed]"
    }
   },
   "cell_type": "markdown",
   "metadata": {},
   "source": [
    "Input:\n",
    "s = 5\n",
    "Output:,<br>\n",
    "![image.png](attachment:image.png)<br>\n",
    "Explanation:\n",
    "Its perfect square wall. "
   ]
  },
  {
   "attachments": {
    "image.png": {
     "image/png": "[encoded data removed]"
    }
   },
   "cell_type": "markdown",
   "metadata": {},
   "source": [
    "Input:\n",
    "s = 4\n",
    "Output:<br>\n",
    "![image.png](attachment:image.png)<br>\n",
    "Explanation:\n",
    "Length of perpendicular and base of triangle is 4 ."
   ]
  },
  {
   "attachments": {
    "image.png": {
     "image/png": "[encoded data removed]"
    }
   },
   "cell_type": "markdown",
   "metadata": {},
   "source": [
    "Input:\n",
    "s = 9\n",
    "Output:<br>\n",
    "![image.png](attachment:image.png)\n",
    "<br>\n",
    "Explanation:\n",
    "Length of perpendicular and base of triangle is 9 ."
   ]
  },
  {
   "attachments": {
    "image.png": {
     "image/png": "[encoded data removed]"
    }
   },
   "cell_type": "markdown",
   "metadata": {},
   "source": [
    "Input:\n",
    "s = 4\n",
    "Output:<br>\n",
    "![image.png](attachment:image.png)\n",
    "<br>\n",
    "Explanation:\n",
    "Length of perpendicular and base of triangle is 4 ."
   ]
  },
  {
   "attachments": {
    "image.png": {
     "image/png": "[encoded data removed]"
    }
   },
   "cell_type": "markdown",
   "metadata": {},
   "source": [
    "Input:\n",
    "s = 4\n",
    "Output:\n",
    "<br>![image.png](attachment:image.png)<br>\n",
    "Explanation:\n",
    "Length of perpendicular and base of triangle is 4 ."
   ]
  },
  {
   "cell_type": "code",
   "execution_count": null,
   "metadata": {},
   "outputs": [],
   "source": []
  }
 ],
 "metadata": {
  "kernelspec": {
   "display_name": "Python 3",
   "language": "python",
   "name": "python3"
  },
  "language_info": {
   "codemirror_mode": {
    "name": "ipython",
    "version": 3
   },
   "file_extension": ".py",
   "mimetype": "text/x-python",
   "name": "python",
   "nbconvert_exporter": "python",
   "pygments_lexer": "ipython3",
   "version": "3.11.1"
  }
 },
 "nbformat": 4,
 "nbformat_minor": 2
}
