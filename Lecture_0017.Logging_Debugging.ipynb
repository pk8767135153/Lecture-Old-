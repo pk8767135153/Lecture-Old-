{
 "cells": [
  {
   "cell_type": "markdown",
   "metadata": {},
   "source": [
    "## Log In Python 01"
   ]
  },
  {
   "cell_type": "code",
   "execution_count": 7,
   "metadata": {},
   "outputs": [
    {
     "name": "stdout",
     "output_type": "stream",
     "text": [
      "6\n"
     ]
    }
   ],
   "source": [
    "'''\n",
    "    By using print() statement we only print the statement, \n",
    "    If we have multiple file and large size code block In that case print() cannot generate error, Warning, when error is occure that Time, Debug,operation with print(). \n",
    "'''\n",
    "def dev(x,y):\n",
    "    return x+y\n",
    "a = dev(2,4)\n",
    "print(a)"
   ]
  },
  {
   "cell_type": "markdown",
   "metadata": {},
   "source": [
    "### Notes:\n",
    "##### log can used for Error Handling and Debuging Operation.\n",
    "##### DEBUG : Detailed information, typically useful only for diagnosing problems. These message generally only useful during development and debugging.\n",
    "##### INFO : Confirmation that that things are working as expected. these messages provide general information about the progress of the application.\n",
    "##### WARNING : AN indication that something unexpeted happened, or an indication of a potential pr application can still function normally, but there may be issues that require attention.\n",
    "##### ERROR : A message indicating that an error occurred, but the application can still continue run These message tyically represent recoverable errors.\n",
    "##### CRITICAL : A Message indicating a critical error or failure that prevents the application from continuing to run.These message represent unrecoverable errors."
   ]
  },
  {
   "cell_type": "code",
   "execution_count": 2,
   "metadata": {},
   "outputs": [
    {
     "name": "stderr",
     "output_type": "stream",
     "text": [
      "INFO:root:Logging in started. Here we write flow of code\n",
      "WARNING:root:This is warning Commond.\n",
      "ERROR:root:This is Error Commound\n"
     ]
    },
    {
     "name": "stdout",
     "output_type": "stream",
     "text": [
      "This is my Print statement.\n"
     ]
    }
   ],
   "source": [
    "import logging\n",
    "\n",
    "logging.basicConfig(level=logging.INFO)\n",
    "\n",
    "print(\"This is my Print statement.\")\n",
    "logging.info(\"Logging in started. Here we write flow of code\")\n",
    "logging.warning(\"This is warning Commond.\")\n",
    "logging.error(\"This is Error Commound\")"
   ]
  },
  {
   "cell_type": "code",
   "execution_count": 2,
   "metadata": {},
   "outputs": [
    {
     "name": "stderr",
     "output_type": "stream",
     "text": [
      "INFO:root:Good Study\n"
     ]
    }
   ],
   "source": [
    "logging.info(\"Good Study\")"
   ]
  },
  {
   "cell_type": "markdown",
   "metadata": {},
   "source": [
    "##### Where to use logging ?"
   ]
  },
  {
   "cell_type": "code",
   "execution_count": 7,
   "metadata": {},
   "outputs": [
    {
     "name": "stderr",
     "output_type": "stream",
     "text": [
      "INFO:root:Entering / Start Name_OF_That_Fucntion\n",
      "INFO:root:Complet Execution Of Function_Name.\n"
     ]
    }
   ],
   "source": [
    "# logging with function\n",
    "\n",
    "def some_function():\n",
    "    logging.info(\"Entering / Start Name_OF_That_Fucntion\")\n",
    "    # Function Logic\n",
    "    logging.info(\"Complet Execution Of Function_Name.\")\n",
    "some_function()"
   ]
  },
  {
   "cell_type": "code",
   "execution_count": 3,
   "metadata": {},
   "outputs": [
    {
     "name": "stderr",
     "output_type": "stream",
     "text": [
      "ERROR:root:An Error occured Name is division by zero : \n",
      "Traceback (most recent call last):\n",
      "  File \"C:\\Users\\PRAVIN\\AppData\\Local\\Temp\\ipykernel_22812\\3888403346.py\", line 3, in <module>\n",
      "    result = 1/0\n",
      "             ~^~\n",
      "ZeroDivisionError: division by zero\n"
     ]
    }
   ],
   "source": [
    "# logging with try-except block.\n",
    "try:\n",
    "    result = 1/0\n",
    "except Exception as e:\n",
    "    logging.error(f\"An Error occured Name is {e} : \",exc_info=True)"
   ]
  },
  {
   "cell_type": "code",
   "execution_count": 16,
   "metadata": {},
   "outputs": [
    {
     "name": "stdout",
     "output_type": "stream",
     "text": [
      "0\n",
      "1\n",
      "2\n",
      "3\n",
      "4\n"
     ]
    }
   ],
   "source": [
    "# logging with looping statement\n",
    "import logging\n",
    "for i in range(5):\n",
    "    logging.debug(f\"Iteration {i+1} of the loop\")\n",
    "    print(i)"
   ]
  },
  {
   "cell_type": "code",
   "execution_count": 18,
   "metadata": {},
   "outputs": [],
   "source": [
    "import logging\n",
    "\n",
    "\n",
    "\n",
    "def process_input(data):\n",
    "    # We can provide only int data\n",
    "    if not isinstance(data, int):\n",
    "        logging.warning(\"Input data is not an integer. \")"
   ]
  },
  {
   "cell_type": "code",
   "execution_count": 22,
   "metadata": {},
   "outputs": [],
   "source": [
    "import logging\n",
    "\n",
    "def file_open():\n",
    "    # Opening a file\n",
    "    logging.info(\"Open File\")\n",
    "    with open(\"example.txt\",\"r\") as file:\n",
    "        # file processing logic\n",
    "        logging.info(\"File CLosed\")"
   ]
  },
  {
   "cell_type": "markdown",
   "metadata": {},
   "source": [
    "### Make the function inside that function use logging "
   ]
  },
  {
   "cell_type": "code",
   "execution_count": 40,
   "metadata": {},
   "outputs": [
    {
     "name": "stderr",
     "output_type": "stream",
     "text": [
      "INFO:root:division of 10 by 8 is 1.25\n"
     ]
    },
    {
     "name": "stdout",
     "output_type": "stream",
     "text": [
      "1.25\n"
     ]
    }
   ],
   "source": [
    "import logging\n",
    "logging.basicConfig(level=logging.DEBUG)\n",
    "def div(x,y):\n",
    "    try:\n",
    "        result = x/y\n",
    "        logging.info(f\"division of {x} by {y} is {result}\")\n",
    "        return result\n",
    "    except ZeroDivisionError as e:\n",
    "        logging.error(f\"{e}\")\n",
    "x = 10\n",
    "y = 8\n",
    "result = div(x,y)\n",
    "print(result)"
   ]
  },
  {
   "cell_type": "markdown",
   "metadata": {},
   "source": [
    "### formate"
   ]
  },
  {
   "cell_type": "code",
   "execution_count": 1,
   "metadata": {},
   "outputs": [
    {
     "name": "stderr",
     "output_type": "stream",
     "text": [
      "2024-07-03 09:30:09,480-ERROR- Error Pravin division by zero\n"
     ]
    },
    {
     "name": "stdout",
     "output_type": "stream",
     "text": [
      "None\n"
     ]
    }
   ],
   "source": [
    "import logging\n",
    "logging.basicConfig(level=logging.DEBUG,\n",
    "                     format=\"%(asctime)s-%(levelname)s- %(message)s\")\n",
    "def div(x,y):\n",
    "    try:\n",
    "        result = x/y\n",
    "        logging.info(f\"division of {x} by {y} is {result}\")\n",
    "        return result\n",
    "    except ZeroDivisionError as e:\n",
    "        logging.error(f\"Error Pravin {e}\")\n",
    "x = 10\n",
    "y = 0\n",
    "result = div(x,y)\n",
    "print(result)"
   ]
  },
  {
   "cell_type": "markdown",
   "metadata": {},
   "source": [
    "### filename\n"
   ]
  },
  {
   "cell_type": "code",
   "execution_count": null,
   "metadata": {},
   "outputs": [],
   "source": [
    "import logging\n",
    "logging.basicConfig(level=logging.DEBUG,\n",
    "                     format=\"%(asctime)s-%(levelname)s- %(message)s\")\n",
    "def div(x,y):\n",
    "    try:\n",
    "        result = x/y\n",
    "        logging.info(f\"division of {x} by {y} is {result}\")\n",
    "        return result\n",
    "    except ZeroDivisionError as e:\n",
    "        logging.error(f\"Error Pravin {e}\")\n",
    "x = 10\n",
    "y = 0\n",
    "result = div(x,y)\n",
    "print(result)"
   ]
  },
  {
   "cell_type": "markdown",
   "metadata": {},
   "source": [
    "## Log In Python 02"
   ]
  },
  {
   "cell_type": "code",
   "execution_count": 18,
   "metadata": {},
   "outputs": [],
   "source": [
    "import logging\n",
    "logging.basicConfig(filename=\"Lecture_0019_Main_Function_00.py\",level=logging.DEBUG)"
   ]
  },
  {
   "cell_type": "code",
   "execution_count": 22,
   "metadata": {},
   "outputs": [
    {
     "name": "stderr",
     "output_type": "stream",
     "text": [
      "ERROR:root:Error Is Occure in this  //\n"
     ]
    },
    {
     "name": "stdout",
     "output_type": "stream",
     "text": [
      "Invalid Operation\n",
      "None\n"
     ]
    }
   ],
   "source": [
    "def perform_operation(operation,x,y):\n",
    "    try:\n",
    "\n",
    "        if operation==\"+\":\n",
    "            result = x+y\n",
    "        elif operation==\"-\":\n",
    "            result = x-y\n",
    "        elif operation == \"*\":\n",
    "            result = x*y\n",
    "        elif operation==\"/\":\n",
    "            result = x/y\n",
    "        else:\n",
    "            raise ValueError(\"Invalid Operation\")\n",
    "    \n",
    "        logging.info(f\"Operatin {operation} of {x} and {y} and result is {result}\")\n",
    "            \n",
    "        \n",
    "        return result\n",
    "    except Exception as e:\n",
    "        logging.error(f\"Error Is Occure in this  {operation}\")\n",
    "        print(e)\n",
    "\n",
    "operation = \"//\"\n",
    "x = 10\n",
    "y = 0\n",
    "result = perform_operation(operation,x,y)\n",
    "print(result)"
   ]
  }
 ],
 "metadata": {
  "kernelspec": {
   "display_name": "Python 3",
   "language": "python",
   "name": "python3"
  },
  "language_info": {
   "codemirror_mode": {
    "name": "ipython",
    "version": 3
   },
   "file_extension": ".py",
   "mimetype": "text/x-python",
   "name": "python",
   "nbconvert_exporter": "python",
   "pygments_lexer": "ipython3",
   "version": "3.11.1"
  }
 },
 "nbformat": 4,
 "nbformat_minor": 2
}
