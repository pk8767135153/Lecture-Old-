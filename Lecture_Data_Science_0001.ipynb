{
 "cells": [
  {
   "cell_type": "code",
   "execution_count": 1,
   "metadata": {},
   "outputs": [],
   "source": [
    "import numpy as np\n",
    "import matplotlib.pyplot as plt"
   ]
  },
  {
   "cell_type": "code",
   "execution_count": 17,
   "metadata": {},
   "outputs": [
    {
     "data": {
      "text/plain": [
       "(array([ 1.,  0., 18., 11.,  0.,  0.,  0.,  0.,  0.,  1.]),\n",
       " array([-197. , -124.1,  -51.2,   21.7,   94.6,  167.5,  240.4,  313.3,\n",
       "         386.2,  459.1,  532. ]),\n",
       " <BarContainer object of 10 artists>)"
      ]
     },
     "execution_count": 17,
     "metadata": {},
     "output_type": "execute_result"
    },
    {
     "data": {
      "image/png": "[encoded data removed]",
      "text/plain": [
       "<Figure size 640x480 with 1 Axes>"
      ]
     },
     "metadata": {},
     "output_type": "display_data"
    }
   ],
   "source": [
    "dataset = [11,10,12,14,12,23,22,53,21,53,-197,532,62,11,21,64,73,12,1,1,1,2,2,35,63,63,7,-22,35,4,15]\n",
    "len(dataset)\n",
    "plt.hist(dataset)"
   ]
  },
  {
   "cell_type": "markdown",
   "metadata": {},
   "source": [
    "### To Calcualte Outliere By using Z-Score Method"
   ]
  },
  {
   "cell_type": "code",
   "execution_count": 18,
   "metadata": {},
   "outputs": [],
   "source": [
    "def detect_outliers(data):\n",
    "    # Accoring 3rd standard deviation we can detect the outliers \n",
    "    threshold = 3\n",
    "\n",
    "    # To Create empthy dataset for storing outliers\n",
    "    outliers = []\n",
    "    # To calculate mean\n",
    "    mean = np.mean(data)\n",
    "\n",
    "    # To calculate Standard Deviation\n",
    "    std = np.std(data)\n",
    "\n",
    "    for i in data:\n",
    "        # Z-Score Formula : (Data_Point-Mean)/Standard_Deviation\n",
    "        z_score = (i-mean)/std\n",
    "        if np.abs(z_score)>threshold:\n",
    "            outliers.append(i)\n",
    "    return outliers"
   ]
  },
  {
   "cell_type": "code",
   "execution_count": 19,
   "metadata": {},
   "outputs": [
    {
     "data": {
      "text/plain": [
       "[532]"
      ]
     },
     "execution_count": 19,
     "metadata": {},
     "output_type": "execute_result"
    }
   ],
   "source": [
    "# Z-Score Method\n",
    "detect_outliers(dataset)"
   ]
  },
  {
   "cell_type": "markdown",
   "metadata": {},
   "source": [
    "### To Calculate Outlier By using IQR Method\n",
    "* Sort the dataset\n",
    "* Calcualate Q1(25%) and Q3(75%)\n",
    "* IQR(Q3-Q1)\n",
    "* Find the Lower Fence(Q1-1.3(IQR))\n",
    "* Find the Upper Fence(Q3-1.3(IQR))"
   ]
  },
  {
   "cell_type": "code",
   "execution_count": 24,
   "metadata": {},
   "outputs": [
    {
     "name": "stdout",
     "output_type": "stream",
     "text": [
      "[-197, -22, 1, 1, 1, 2, 2, 4, 7, 10, 11, 11, 12, 12, 12, 14, 15, 21, 21, 22, 23, 35, 35, 53, 53, 62, 63, 63, 64, 73, 532]\n"
     ]
    }
   ],
   "source": [
    "# Sort the dataset accending order\n",
    "dataset = sorted(dataset)\n",
    "print(dataset)"
   ]
  },
  {
   "cell_type": "code",
   "execution_count": 33,
   "metadata": {},
   "outputs": [
    {
     "name": "stdout",
     "output_type": "stream",
     "text": [
      "5.5 44.0\n"
     ]
    }
   ],
   "source": [
    "# q1 = np.percentile(dataset,[25])\n",
    "# q3 = np.percentile(dataset,[75])\n",
    "# print(q1,q3)\n",
    "\n",
    "# OR\n",
    "\n",
    "q1,q3 = np.percentile(dataset,[25,75])\n",
    "print(q1,q3)"
   ]
  },
  {
   "cell_type": "code",
   "execution_count": 35,
   "metadata": {},
   "outputs": [
    {
     "name": "stdout",
     "output_type": "stream",
     "text": [
      "38.5\n"
     ]
    }
   ],
   "source": [
    "# IQR\n",
    "iqr = q3-q1\n",
    "print(iqr)"
   ]
  },
  {
   "cell_type": "code",
   "execution_count": 38,
   "metadata": {},
   "outputs": [
    {
     "name": "stdout",
     "output_type": "stream",
     "text": [
      "-52.25 101.75\n"
     ]
    }
   ],
   "source": [
    "lower_fence = q1-(1.5*iqr)\n",
    "upper_fence = q3+(1.5*iqr)\n",
    "print(lower_fence,upper_fence)"
   ]
  },
  {
   "cell_type": "code",
   "execution_count": 39,
   "metadata": {},
   "outputs": [
    {
     "name": "stdout",
     "output_type": "stream",
     "text": [
      "-197 "
     ]
    }
   ],
   "source": [
    "for i in dataset:\n",
    "    if i<=lower_fence and i<=upper_fence:\n",
    "        print(i,end=\" \")"
   ]
  }
 ],
 "metadata": {
  "kernelspec": {
   "display_name": "Python 3",
   "language": "python",
   "name": "python3"
  },
  "language_info": {
   "codemirror_mode": {
    "name": "ipython",
    "version": 3
   },
   "file_extension": ".py",
   "mimetype": "text/x-python",
   "name": "python",
   "nbconvert_exporter": "python",
   "pygments_lexer": "ipython3",
   "version": "3.11.1"
  }
 },
 "nbformat": 4,
 "nbformat_minor": 2
}
