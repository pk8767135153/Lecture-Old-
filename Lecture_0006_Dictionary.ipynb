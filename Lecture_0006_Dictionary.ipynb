{
 "cells": [
  {
   "cell_type": "markdown",
   "metadata": {},
   "source": [
    "# Dictionary \n",
    "\n",
    "Dictionary in python is a collection of keys values, used to store data values like a map, which, unlike othere data type which hold \n",
    "only a single value as an element \n",
    "\n",
    "In some languages it is known as map or assosiative arrays.<br>\n",
    "dict = {\"key1\" : \"value1\",\"key2\":\"value2\"} <br>\n",
    "dict = {\"name\":\"Pravin\",\"age\":21,\"gender\":\"male\"}\n",
    "\n",
    "### Characterstics : \n",
    "* Mutable\n",
    "* Indexing has no meaning\n",
    "* keys can't be duplicated \n",
    "* keys can't be mutable items"
   ]
  },
  {
   "cell_type": "markdown",
   "metadata": {},
   "source": [
    "## Create Dictionary"
   ]
  },
  {
   "cell_type": "code",
   "execution_count": null,
   "metadata": {},
   "outputs": [],
   "source": [
    "#  Empty Dictionary\n",
    "d = {}\n",
    "\n",
    "#  1-D Dictionary\n",
    "d1 = {\"name\":\"Pravin\",\"age\":21,\"gender\":\"male\"}\n",
    "\n",
    "#  with mixed keys\n",
    "\n",
    "d2 = {(1,2,3,4):1,\"hello\":\"world\"}\n",
    "\n",
    "# 2D dictionary / Nested dictionary \n",
    "s = {\n",
    "        \"name\":\"Pravin\",\n",
    "        'college':\"sandip\",\n",
    "        'sem':6,\n",
    "        'subject':{\n",
    "                    'DSA':70,\n",
    "                    'Algo':80,\n",
    "                    \"python\":90\n",
    "        }\n",
    "}\n",
    "# Above dict s having only 4 keys that is name, college,sem,subject\n",
    "print(s)\n",
    "\n",
    "#  Using sequence and dict function\n",
    "d4 = dict([(1,1),(2,2),(3,3)])\n",
    "print(d4)"
   ]
  },
  {
   "cell_type": "code",
   "execution_count": null,
   "metadata": {},
   "outputs": [],
   "source": [
    "# duplicate keys \n",
    "d = {\"name\":\"Pravin\",\"name\":\"jay\"}\n",
    "print(d)"
   ]
  },
  {
   "cell_type": "code",
   "execution_count": null,
   "metadata": {},
   "outputs": [],
   "source": [
    "# mutable items as keys \n",
    "d1= {'name':\"Jay\",(1,\"abc\",2.32):\"Patil\"} # It will Not throw the error because tuple is immutable\n",
    "print(d1)\n",
    "# d = {'name':\"Jay\",[1,\"abc\",2.32]:\"Patil\"} # It will throw the error because list is mutable\n",
    " "
   ]
  },
  {
   "cell_type": "markdown",
   "metadata": {},
   "source": [
    "## Accessing Items "
   ]
  },
  {
   "cell_type": "code",
   "execution_count": 16,
   "metadata": {},
   "outputs": [
    {
     "data": {
      "text/plain": [
       "70"
      ]
     },
     "execution_count": 16,
     "metadata": {},
     "output_type": "execute_result"
    }
   ],
   "source": [
    "dict = {\"name\":\"Pravin\",\"age\":21,\"gender\":\"male\"}\n",
    "s = {\n",
    "        \"name\":\"Pravin\",\n",
    "        'college':\"sandip\",\n",
    "        'sem':6,\n",
    "        'subject':{\n",
    "                    'DSA':70,\n",
    "                    'Algo':80,\n",
    "                    \"python\":90\n",
    "        }\n",
    "}\n",
    "\n",
    "\n",
    "dict['name']\n",
    "#  In anouther way\n",
    "# If I pass any key which is not present inside the dict so get() method does not return any error but dict['X'](x => those key which is not present in dict) it's return error \n",
    "dict.get('name') \n",
    "\n",
    "\n",
    "\n",
    "s['subject'][\"DSA\"]"
   ]
  },
  {
   "cell_type": "markdown",
   "metadata": {},
   "source": [
    "## Adding key-value pair"
   ]
  },
  {
   "cell_type": "code",
   "execution_count": 24,
   "metadata": {},
   "outputs": [
    {
     "name": "stdout",
     "output_type": "stream",
     "text": [
      "{'name': 'Pravin', 'college': 'sandip', 'sem': 6, 'subject': {'DSA': 70, 'Algo': 80, 'python': 90, 'math': 199}}\n",
      "{'name': 'Pravin', 'college': 'sandip', 'sem': 6, 'subject': {'DSA': 70, 'Algo': 80, 'python': 90, 'math': 199}}\n"
     ]
    }
   ],
   "source": [
    "dict['weight'] = 34\n",
    "dict['Surname'] = 'Korekar'\n",
    "dict\n",
    "\n",
    "print(s)\n",
    "s['subject'][\"math\"] =199\n",
    "print(s)"
   ]
  },
  {
   "cell_type": "markdown",
   "metadata": {},
   "source": [
    "## Remove Key-Value Pair\n"
   ]
  },
  {
   "cell_type": "code",
   "execution_count": 35,
   "metadata": {},
   "outputs": [
    {
     "data": {
      "text/plain": [
       "{'name': 'Pravin',\n",
       " 'college': 'sandip',\n",
       " 'sem': 6,\n",
       " 'subject': {'Algo': 80, 'python': 90}}"
      ]
     },
     "execution_count": 35,
     "metadata": {},
     "output_type": "execute_result"
    }
   ],
   "source": [
    "d = {'name': 'Pravin',\n",
    "    'age': 21,\n",
    "    'gender': 'male',\n",
    "    'weight': 34,\n",
    "    'Surname': 'Korekar'}\n",
    "\n",
    "#  pop method\n",
    "# dict_name.pop(\"key_value\")\n",
    "# d.pop(\"weight\")\n",
    "# print(d)\n",
    "\n",
    "# popitem method\n",
    "# dict_name.popitem()  # it will delete last key-value which is present at last position in the dict\n",
    "# d.popitem()\n",
    "# d\n",
    "\n",
    "# del method\n",
    "# del dict_name['key'] # it will delete the specific key-value pair\n",
    "# del d['name']\n",
    "# d\n",
    "\n",
    "del s['subject'][\"math\"]\n",
    "s\n",
    "\n",
    "# clear method \n",
    "# dict_name.clear # it will clear dict means it make empty dict\n",
    "# d.clear()\n",
    "# d"
   ]
  },
  {
   "cell_type": "markdown",
   "metadata": {},
   "source": [
    "## Dict Operation \n",
    "* Membership Operator working on key's only\n",
    "* Iteration"
   ]
  },
  {
   "cell_type": "code",
   "execution_count": 43,
   "metadata": {},
   "outputs": [
    {
     "name": "stdout",
     "output_type": "stream",
     "text": [
      "True\n",
      "False\n",
      "keys :  name \t\t Value :  Pravin\n",
      "keys :  college \t\t Value :  sandip\n",
      "keys :  sem \t\t Value :  6\n",
      "keys :  subject \t\t Value :  {'Algo': 80, 'python': 90}\n"
     ]
    }
   ],
   "source": [
    "s ={'name': 'Pravin',\n",
    "    'college': 'sandip',\n",
    "    'sem': 6,\n",
    "    'subject': {'Algo': 80, 'python': 90}}\n",
    "print(\"name\" in s)\n",
    "print(\"Pravin\" in s)\n",
    "\n",
    "for i in s:\n",
    "    print(\"keys : \",i, \"\\t\\t Value : \",s[i])\n",
    "\n",
    "    "
   ]
  },
  {
   "cell_type": "markdown",
   "metadata": {},
   "source": [
    "# Depth First Search"
   ]
  },
  {
   "cell_type": "code",
   "execution_count": 9,
   "metadata": {},
   "outputs": [
    {
     "name": "stdout",
     "output_type": "stream",
     "text": [
      "{'5': ['3', '7'], '3': ['2', '4'], '7': ['8'], '2': [], '4': ['8'], '8': []}\n",
      "following is the Depth First Search \n",
      "5\n",
      "['3', '7']\n",
      "3\n",
      "['2', '4']\n",
      "2\n",
      "['2', '4']\n",
      "4\n",
      "['8']\n",
      "8\n",
      "['3', '7']\n",
      "7\n",
      "['8']\n"
     ]
    }
   ],
   "source": [
    "graph = {\n",
    "    '5':['3','7'],\n",
    "    '3':['2','4'],\n",
    "    '7':['8'],\n",
    "    '2':[],\n",
    "    '4':['8'],\n",
    "    '8':[]\n",
    "}\n",
    "print(graph)\n",
    "\n",
    "visited = set()\n",
    "\n",
    "def dfs(visited,graph,node):\n",
    "    if node not in visited:\n",
    "        print(node)\n",
    "        visited.add(node)\n",
    "        for neighbour in graph[node]:\n",
    "            print(graph[node])\n",
    "            dfs(visited,graph,neighbour)\n",
    "        \n",
    "print(\"following is the Depth First Search \")\n",
    "dfs(visited,graph,'5')\n"
   ]
  },
  {
   "cell_type": "code",
   "execution_count": 13,
   "metadata": {},
   "outputs": [
    {
     "data": {
      "text/plain": [
       "False"
      ]
     },
     "execution_count": 13,
     "metadata": {},
     "output_type": "execute_result"
    }
   ],
   "source": [
    "# # Take the two value as input by user\n",
    "\n",
    "# X = int(input(\"Enter First Number : \"))    # 4\n",
    "# Y = int(input(\"Enter Second Number : \")) # 5\n",
    "\n",
    "# # Apply Logic\n",
    "# print(\"X : \",X,\"      Y : \",Y)\n",
    "# X = X+Y #  X = 9\n",
    "# Y = X - Y # Y = 4\n",
    "# X =  X - Y # X = 5\n",
    "\n",
    "# # Print the value of X,Y.\n",
    "# print(\"X : \",X,\" Y : \",Y)\n",
    "x =2 \n",
    "y =\"2\"\n",
    "\n",
    "x is y"
   ]
  }
 ],
 "metadata": {
  "kernelspec": {
   "display_name": "base",
   "language": "python",
   "name": "python3"
  },
  "language_info": {
   "codemirror_mode": {
    "name": "ipython",
    "version": 3
   },
   "file_extension": ".py",
   "mimetype": "text/x-python",
   "name": "python",
   "nbconvert_exporter": "python",
   "pygments_lexer": "ipython3",
   "version": "3.11.1"
  }
 },
 "nbformat": 4,
 "nbformat_minor": 2
}
