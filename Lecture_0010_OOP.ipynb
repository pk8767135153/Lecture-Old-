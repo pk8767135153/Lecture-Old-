{
 "cells": [
  {
   "cell_type": "markdown",
   "metadata": {},
   "source": [
    "\n",
    "# Learn\n",
    "we cannot pass class inside the method but we only pass object of class<br>\n",
    "<hr>\n",
    "\n",
    "<br>\n",
    "if any method take 2 paramete we can write like that \n",
    "<br>\n",
    "<br>\n",
    "obj.methodname(paramete1) <br>\n",
    "\n",
    "here method can two parameter one is obj and anothe is paramete1 <br><hr>\n",
    "### Write OOP classes to handle the following scenarios:\n",
    "\n",
    "- A user can create and view 2D coordinates\n",
    "- A user can find out the distance between 2 coordinates\n",
    "- A user can find find the distance of a coordinate from origin\n",
    "- A user can check if a point lies on a given line\n",
    "- A user can find the distance between a given 2D point and a given line\n",
    "\n"
   ]
  },
  {
   "cell_type": "code",
   "execution_count": 2,
   "metadata": {},
   "outputs": [],
   "source": [
    "class Point:\n",
    "    #-----------------------------------------------------------------#\n",
    "    # A user can create and view 2D coordinates\n",
    "    def __init__(self,x,y):\n",
    "        self.x_cod = x\n",
    "        self.y_cod = y\n",
    "    \n",
    "    def __str__(self):\n",
    "        return '<{},{}>'.format(self.x_cod, self.y_cod)\n",
    "    \n",
    "    #-------------------------------------------------------------------#\n",
    "\n",
    "    # A user can find out the distance between 2 coordinates\n",
    "    def euclidean_distance(self, other):\n",
    "        return ((self.x_cod-other.x_cod)**2+(self.y_cod-other.y_cod)**2)**0.5\n",
    "    #-------------------------------------------------------------------------#\n",
    "\n",
    "    # A user can find find the distance of a coordinate from origin\n",
    "    def distance_from_origin(self):\n",
    "\n",
    "        return (self.x_cod**2 + self.y_cod**2)**0.5\n",
    "\n",
    "        # Here we can create object of class inside the that class see Point(0,0) is a object\n",
    "        #return self.euclidean_distance(Point(0,0))\n",
    "\n",
    "class Line:\n",
    "    def __init__(self,A,B,C):\n",
    "        self.A = A\n",
    "        self.B = B\n",
    "        self.C = C\n",
    "    \n",
    "    def __str__(self):\n",
    "        return '{}x + {}y + {} = 0'.format(self.A,self.B,self.C)\n",
    "    \n",
    "    # ------------------------------------------------------------------------#\n",
    "    # A user can check if a point lies on a given line\n",
    "\n",
    "    def point_on_line(line,point):\n",
    "        if line.A*point.x_cod + line.B*point.y_cod + line.C == 0:\n",
    "            return \"Point liens on the Line\"\n",
    "        else:\n",
    "            return \"Point does not lies on the Line\"\n",
    "        \n",
    "    #--------------------------------------------------------------------------------#\n",
    "    # A user can find the distance between a given 2D point and a given line\n",
    "    \n",
    "    def shortest_distance(line,point):\n",
    "       return abs(line.A*point.x_cod + line.B*point.y_cod + line.c)/(line.A**2+line.B**2)\n",
    "\n",
    "    \n"
   ]
  },
  {
   "cell_type": "code",
   "execution_count": 3,
   "metadata": {},
   "outputs": [
    {
     "name": "stdout",
     "output_type": "stream",
     "text": [
      "<2,3>\n"
     ]
    },
    {
     "data": {
      "text/plain": [
       "30.066592756745816"
      ]
     },
     "execution_count": 3,
     "metadata": {},
     "output_type": "execute_result"
    }
   ],
   "source": [
    "p1 = Point(2,30)\n",
    "p2 = Point(2,3)\n",
    "print(p2)\n",
    "p2.euclidean_distance(p1)\n",
    "p1.distance_from_origin()\n"
   ]
  },
  {
   "cell_type": "code",
   "execution_count": 6,
   "metadata": {},
   "outputs": [
    {
     "name": "stdout",
     "output_type": "stream",
     "text": [
      "Point does not lies on the Line\n",
      "1x + 1y + -2 = 0\n"
     ]
    }
   ],
   "source": [
    "l1 = Line(1,1,-2)\n",
    "p1 = Point(1,10)\n",
    "p1 = l1.point_on_line(p1)\n",
    "print(p1)\n",
    "print(l1)\n",
    "# l1.shortest_distance(p1)"
   ]
  },
  {
   "cell_type": "markdown",
   "metadata": {},
   "source": [
    "# How object access attributes"
   ]
  },
  {
   "cell_type": "code",
   "execution_count": 8,
   "metadata": {},
   "outputs": [],
   "source": [
    "class Person:\n",
    "    def __init__(self,name_input,country_input):\n",
    "         self.name = name_input\n",
    "         self.country = country_input\n",
    "\n",
    "    def greet(self):\n",
    "        if self.country ==\"india\":\n",
    "            print(\"Namaste \",self.name)\n",
    "        else:\n",
    "            print(\"Hello \",self.name)\n"
   ]
  },
  {
   "cell_type": "code",
   "execution_count": 13,
   "metadata": {},
   "outputs": [],
   "source": [
    "#  Create object of that class\n",
    "p = Person(\"Pravin\",\"india\")\n"
   ]
  },
  {
   "cell_type": "code",
   "execution_count": 14,
   "metadata": {},
   "outputs": [
    {
     "data": {
      "text/plain": [
       "'Pravin'"
      ]
     },
     "execution_count": 14,
     "metadata": {},
     "output_type": "execute_result"
    }
   ],
   "source": [
    "# How to access attributes\n",
    "p.name"
   ]
  },
  {
   "cell_type": "code",
   "execution_count": 15,
   "metadata": {},
   "outputs": [
    {
     "name": "stdout",
     "output_type": "stream",
     "text": [
      "Namaste  Pravin\n"
     ]
    }
   ],
   "source": [
    "#  How to access method\n",
    "p.greet()"
   ]
  },
  {
   "cell_type": "code",
   "execution_count": 16,
   "metadata": {},
   "outputs": [
    {
     "ename": "AttributeError",
     "evalue": "'Person' object has no attribute 'gender'",
     "output_type": "error",
     "traceback": [
      "\u001b[1;31m---------------------------------------------------------------------------\u001b[0m",
      "\u001b[1;31mAttributeError\u001b[0m                            Traceback (most recent call last)",
      "Cell \u001b[1;32mIn[16], line 2\u001b[0m\n\u001b[0;32m      1\u001b[0m \u001b[38;5;66;03m# We have to access attributes that was not present inside the class we got an error\u001b[39;00m\n\u001b[1;32m----> 2\u001b[0m \u001b[43mp\u001b[49m\u001b[38;5;241;43m.\u001b[39;49m\u001b[43mgender\u001b[49m\n",
      "\u001b[1;31mAttributeError\u001b[0m: 'Person' object has no attribute 'gender'"
     ]
    }
   ],
   "source": [
    "# We have to access attributes that was not present inside the class we got an error\n",
    "p.gender \n",
    "# AttributeError: 'Person' object has no attribute 'gender'"
   ]
  },
  {
   "cell_type": "markdown",
   "metadata": {},
   "source": [
    "## Attribute Creation from outside of the class"
   ]
  },
  {
   "cell_type": "code",
   "execution_count": 17,
   "metadata": {},
   "outputs": [],
   "source": [
    "p.gender = \"Male\"\n"
   ]
  },
  {
   "cell_type": "code",
   "execution_count": 18,
   "metadata": {},
   "outputs": [
    {
     "data": {
      "text/plain": [
       "'Male'"
      ]
     },
     "execution_count": 18,
     "metadata": {},
     "output_type": "execute_result"
    }
   ],
   "source": [
    "p.gender"
   ]
  },
  {
   "cell_type": "markdown",
   "metadata": {},
   "source": [
    "# Reference Variable\n",
    "\n",
    "* Reference variable hold the objects (In short it will store adderss of variblbe)\n",
    "* We can create objects without reference variable as well\n",
    "* An object can have multiple reference variable \n",
    "* Assigning a new reference varible to an existing object does not create a new object"
   ]
  },
  {
   "cell_type": "code",
   "execution_count": 19,
   "metadata": {},
   "outputs": [
    {
     "data": {
      "text/plain": [
       "<__main__.Person at 0x209f7bfe050>"
      ]
     },
     "execution_count": 19,
     "metadata": {},
     "output_type": "execute_result"
    }
   ],
   "source": [
    "# Object without a reference \n",
    "\n",
    "class Person:\n",
    "    def __init__(self):\n",
    "        self.name = \"Nitish\"\n",
    "        self.gender = \"Male\"\n",
    "    \n",
    "# This code create the objcet of Person class but here we cannot store refernece of object\n",
    "Person()\n"
   ]
  },
  {
   "cell_type": "code",
   "execution_count": 27,
   "metadata": {},
   "outputs": [
    {
     "name": "stdout",
     "output_type": "stream",
     "text": [
      "<__main__.Person object at 0x00000209F81679D0>\n",
      "2241840183760\n",
      "2241840183760\n"
     ]
    }
   ],
   "source": [
    "#   Here we can create object and store refence of object inside the p1 variable\n",
    "p1 = Person()\n",
    "print(p1)\n",
    "p2 = p1\n",
    "\n",
    "print(id(p1))\n",
    "print(id(p2))\n"
   ]
  },
  {
   "cell_type": "code",
   "execution_count": 28,
   "metadata": {},
   "outputs": [
    {
     "name": "stdout",
     "output_type": "stream",
     "text": [
      "Nitish\n",
      "Nitish\n",
      "Pravinsing\n",
      "Pravinsing\n"
     ]
    }
   ],
   "source": [
    "#  Here first name contain \"Nitish\"\n",
    "print(p1.name)\n",
    "print(p2.name)\n",
    "\n",
    "# But here we can change name's value so name was change\n",
    "p2.name = \"Pravinsing\"\n",
    "\n",
    "print(p1.name)\n",
    "print(p2.name)"
   ]
  },
  {
   "cell_type": "markdown",
   "metadata": {},
   "source": [
    "# Pass By Reference"
   ]
  },
  {
   "cell_type": "code",
   "execution_count": 32,
   "metadata": {},
   "outputs": [
    {
     "name": "stdout",
     "output_type": "stream",
     "text": [
      "Hi my name is  Pravinsingh  and I am a  Male\n",
      "Vabhavi\n",
      "Female\n"
     ]
    }
   ],
   "source": [
    "class Person:\n",
    "    def __init__(self,name,gender):\n",
    "        self.name = name\n",
    "        self.gender = gender\n",
    "\n",
    "# Outside the class --> Function\n",
    "# Here we can provide input as a object for function \n",
    "def greet(person):\n",
    "    print(\"Hi my name is \",person.name,\" and I am a \",person.gender)\n",
    "    p1 = Person(\"Vabhavi\",\"Female\")\n",
    "    \n",
    "    #  Here function return object\n",
    "    return p1\n",
    "\n",
    "P = Person(\"Pravinsingh\",\"Male\")\n",
    "x = greet(P)\n",
    "print(x.name)\n",
    "print(x.gender)"
   ]
  },
  {
   "cell_type": "code",
   "execution_count": 34,
   "metadata": {},
   "outputs": [
    {
     "name": "stdout",
     "output_type": "stream",
     "text": [
      "2241840196368\n",
      "2241840196368\n",
      "Hi my name is  Pravinsingh  and I am a  Male\n"
     ]
    }
   ],
   "source": [
    "class Person:\n",
    "    def __init__(self,name,gender):\n",
    "        self.name = name\n",
    "        self.gender = gender\n",
    "\n",
    "# Outside the class --> Function\n",
    "# Here we can provide input as a object for function \n",
    "def greet(person):\n",
    "    print(id(P))\n",
    "    print(\"Hi my name is \",person.name,\" and I am a \",person.gender)\n",
    "\n",
    "\n",
    "P = Person(\"Pravinsingh\",\"Male\")\n",
    "print(id(P))\n",
    "\n",
    "greet(P) "
   ]
  },
  {
   "cell_type": "markdown",
   "metadata": {},
   "source": [
    "# Mutability Of Object \n",
    "\n",
    "### In Python when we can create the objects of Class are mutable.\n",
    "### But we can create Immutable Object\n"
   ]
  },
  {
   "cell_type": "code",
   "execution_count": 35,
   "metadata": {},
   "outputs": [
    {
     "name": "stdout",
     "output_type": "stream",
     "text": [
      "2241840105232\n",
      "2241840105232\n"
     ]
    }
   ],
   "source": [
    "# This is mutable oobject\n",
    "\n",
    "class Person:\n",
    "    def __init__(self,name,gender):\n",
    "        self.name = name\n",
    "        self.gender = gender\n",
    "\n",
    "# Outside the class --> Function\n",
    "# Here we can provide input as a object for function \n",
    "def greet(person):\n",
    "   person.name = \"Vabhavi Pawar\"\n",
    "   return person\n",
    "\n",
    "\n",
    "\n",
    "\n",
    "P = Person(\"Pravinsingh\",\"Male\")\n",
    "print(id(P))\n",
    "p1 = greet(P) \n",
    "print(id(p1))\n",
    "#  here P and p1 getting same address/ id because object is mutable"
   ]
  },
  {
   "cell_type": "markdown",
   "metadata": {},
   "source": [
    "# instance variable "
   ]
  },
  {
   "cell_type": "code",
   "execution_count": 38,
   "metadata": {},
   "outputs": [
    {
     "name": "stdout",
     "output_type": "stream",
     "text": [
      "Pravinsingh   India\n",
      "Vabhavi   Pawar\n"
     ]
    }
   ],
   "source": [
    "# instance variable : Those variable which has different value for different object\n",
    "\n",
    "class Person:\n",
    "    def __init__(self,name_input,country_input):\n",
    "        self.name = name_input\n",
    "        self.country = country_input\n",
    "\n",
    "p1 = Person(\"Pravinsingh\",\"India\")\n",
    "p2 = Person(\"Vabhavi\",\"Pawar\")\n",
    "\n",
    "print(p1.name,\" \",p1.country)\n",
    "print(p2.name,\" \",p2.country)\n",
    "\n",
    "# Here name, country is instance variable"
   ]
  },
  {
   "cell_type": "markdown",
   "metadata": {},
   "source": [
    "# Encapsulation"
   ]
  },
  {
   "cell_type": "markdown",
   "metadata": {},
   "source": [
    "### In Python there is no any variable and method truly privite because python made for audult/ Profical\n",
    "\n",
    "#### Syntax of Privite variable __variableName\n",
    "\n",
    "* When we can make any variable as privite it store inside memory like this <br><hr><br> \"_className__variableName \"<br><br><hr>\n",
    "* when we won't to change the privite variable we can write like that <br><hr><br> _className__variableName<br><hr>"
   ]
  },
  {
   "cell_type": "code",
   "execution_count": 2,
   "metadata": {},
   "outputs": [
    {
     "name": "stdout",
     "output_type": "stream",
     "text": [
      "<__main__.Encapsulation object at 0x00000294530F4F50>\n"
     ]
    }
   ],
   "source": [
    "class Encapsulation:\n",
    "    def __init__(self,name, password):\n",
    "        self.name = name\n",
    "        self.password = password\n",
    "    \n",
    "p1 = Encapsulation(\"Vabhavi\", 232)\n",
    "p1.password = \"n\""
   ]
  },
  {
   "cell_type": "code",
   "execution_count": 1,
   "metadata": {},
   "outputs": [],
   "source": [
    "class Atm:\n",
    "\n",
    "  # constructor(special function)->superpower -> \n",
    "  def __init__(self):\n",
    "    print(id(self))\n",
    "    self.pin = ''\n",
    "    self.__balance = 0\n",
    "    #self.menu()\n",
    "\n",
    "  def get_balance(self):\n",
    "    return self.__balance\n",
    "\n",
    "  def set_balance(self,new_value):\n",
    "    if type(new_value) == int:\n",
    "      self.__balance = new_value\n",
    "    else:\n",
    "      print('beta bahot maarenge')\n",
    "\n",
    "  def __menu(self):\n",
    "    user_input = input(\"\"\"\n",
    "    Hi how can I help you?\n",
    "    1. Press 1 to create pin\n",
    "    2. Press 2 to change pin\n",
    "    3. Press 3 to check balance\n",
    "    4. Press 4 to withdraw\n",
    "    5. Anything else to exit\n",
    "    \"\"\")\n",
    "\n",
    "    if user_input == '1':\n",
    "      self.create_pin()\n",
    "    elif user_input == '2':\n",
    "      self.change_pin()\n",
    "    elif user_input == '3':\n",
    "      self.check_balance()\n",
    "    elif user_input == '4':\n",
    "      self.withdraw()\n",
    "    else:\n",
    "      exit()\n",
    "\n",
    "  def create_pin(self):\n",
    "    user_pin = input('enter your pin')\n",
    "    self.pin = user_pin\n",
    "\n",
    "    user_balance = int(input('enter balance'))\n",
    "    self.__balance = user_balance\n",
    "\n",
    "    print('pin created successfully')\n",
    "\n",
    "  def change_pin(self):\n",
    "    old_pin = input('enter old pin')\n",
    "\n",
    "    if old_pin == self.pin:\n",
    "      # let him change the pin\n",
    "      new_pin = input('enter new pin')\n",
    "      self.pin = new_pin\n",
    "      print('pin change successful')\n",
    "    else:\n",
    "      print('nai karne de sakta re baba')\n",
    "\n",
    "  def check_balance(self):\n",
    "    user_pin = input('enter your pin')\n",
    "    if user_pin == self.pin:\n",
    "      print('your balance is ',self.__balance)\n",
    "    else:\n",
    "      print('chal nikal yahan se')\n",
    "\n",
    "  def withdraw(self):\n",
    "    user_pin = input('enter the pin')\n",
    "    if user_pin == self.pin:\n",
    "      # allow to withdraw\n",
    "      amount = int(input('enter the amount'))\n",
    "      if amount <= self.__balance:\n",
    "        self.__balance = self.__balance - amount\n",
    "        print('withdrawl successful.balance is',self.__balance)\n",
    "      else:\n",
    "        print('abe garib')\n",
    "    else:\n",
    "      print('sale chor')"
   ]
  },
  {
   "cell_type": "code",
   "execution_count": 2,
   "metadata": {},
   "outputs": [
    {
     "name": "stdout",
     "output_type": "stream",
     "text": [
      "2534568541584\n"
     ]
    }
   ],
   "source": [
    "obj = Atm()"
   ]
  },
  {
   "cell_type": "code",
   "execution_count": 3,
   "metadata": {},
   "outputs": [
    {
     "data": {
      "text/plain": [
       "0"
      ]
     },
     "execution_count": 3,
     "metadata": {},
     "output_type": "execute_result"
    }
   ],
   "source": [
    "obj.get_balance()"
   ]
  },
  {
   "cell_type": "code",
   "execution_count": 4,
   "metadata": {},
   "outputs": [],
   "source": [
    "\n",
    "obj.set_balance(1000)"
   ]
  },
  {
   "cell_type": "code",
   "execution_count": 5,
   "metadata": {},
   "outputs": [
    {
     "name": "stdout",
     "output_type": "stream",
     "text": [
      "sale chor\n"
     ]
    }
   ],
   "source": [
    "obj.withdraw()"
   ]
  },
  {
   "cell_type": "code",
   "execution_count": 9,
   "metadata": {},
   "outputs": [],
   "source": [
    "class Atm:\n",
    "\n",
    "  # constructor(special function)->superpower -> \n",
    "  def __init__(self):\n",
    "    print(id(self))\n",
    "    self.pin = ''\n",
    "    self.balance = 0\n",
    "    #self.menu()\n",
    "\n",
    "  def get_balance(self):\n",
    "    return self.balance\n",
    "\n",
    "  def set_balance(self,new_value):\n",
    "    if type(new_value) == int:\n",
    "      self.balance = new_value\n",
    "    else:\n",
    "      print('beta bahot maarenge')\n",
    "\n",
    "  def __menu(self):\n",
    "    user_input = input(\"\"\"\n",
    "    Hi how can I help you?\n",
    "    1. Press 1 to create pin\n",
    "    2. Press 2 to change pin\n",
    "    3. Press 3 to check balance\n",
    "    4. Press 4 to withdraw\n",
    "    5. Anything else to exit\n",
    "    \"\"\")\n",
    "\n",
    "    if user_input == '1':\n",
    "      self.create_pin()\n",
    "    elif user_input == '2':\n",
    "      self.change_pin()\n",
    "    elif user_input == '3':\n",
    "      self.check_balance()\n",
    "    elif user_input == '4':\n",
    "      self.withdraw()\n",
    "    else:\n",
    "      exit()\n",
    "\n",
    "  def create_pin(self):\n",
    "    user_pin = input('enter your pin')\n",
    "    self.pin = user_pin\n",
    "\n",
    "    user_balance = int(input('enter balance'))\n",
    "    self.__balance = user_balance\n",
    "\n",
    "    print('pin created successfully')\n",
    "\n",
    "  def change_pin(self):\n",
    "    old_pin = input('enter old pin')\n",
    "\n",
    "    if old_pin == self.pin:\n",
    "      # let him change the pin\n",
    "      new_pin = input('enter new pin')\n",
    "      self.pin = new_pin\n",
    "      print('pin change successful')\n",
    "    else:\n",
    "      print('nai karne de sakta re baba')\n",
    "\n",
    "  def check_balance(self):\n",
    "    user_pin = input('enter your pin')\n",
    "    if user_pin == self.pin:\n",
    "      print('your balance is ',self.balance)\n",
    "    else:\n",
    "      print('chal nikal yahan se')\n",
    "\n",
    "  def withdraw(self):\n",
    "    user_pin = input('enter the pin')\n",
    "    if user_pin == self.pin:\n",
    "      # allow to withdraw\n",
    "      amount = int(input('enter the amount'))\n",
    "      if amount <= self.balance:\n",
    "        self.__balance = self.balance - amount\n",
    "        print('withdrawl successful.balance is',self.balance)\n",
    "      else:\n",
    "        print('abe garib')\n",
    "    else:\n",
    "      print('sale chor')"
   ]
  },
  {
   "cell_type": "code",
   "execution_count": 10,
   "metadata": {},
   "outputs": [
    {
     "name": "stdout",
     "output_type": "stream",
     "text": [
      "2836070409488\n"
     ]
    }
   ],
   "source": [
    "obj = Atm()"
   ]
  },
  {
   "cell_type": "code",
   "execution_count": null,
   "metadata": {},
   "outputs": [],
   "source": [
    " "
   ]
  },
  {
   "cell_type": "markdown",
   "metadata": {},
   "source": [
    "# Collection Of Objects"
   ]
  },
  {
   "cell_type": "code",
   "execution_count": 14,
   "metadata": {},
   "outputs": [
    {
     "name": "stdout",
     "output_type": "stream",
     "text": [
      "Male\n",
      "Male\n",
      "Male\n"
     ]
    }
   ],
   "source": [
    "class Person:\n",
    "    def __init__(self,name,gender):\n",
    "        self.name = name\n",
    "        self.gender = gender\n",
    "\n",
    "\n",
    "p1 = Person(\"Pravinsingh\",\"Male\")\n",
    "p2 = Person(\"Jay\",\"Male\")\n",
    "p3 = Person(\"Rameshwar\",\"Male\")\n",
    "\n",
    "# L = [p1,p2,p3]\n",
    "\n",
    "s = {p1,p2,p3}\n",
    "\n",
    "d = {\"p1\":p1,\"p2\":p2,\"p3\":p3}\n",
    "for i in d: \n",
    "    print(d[i].gender)\n",
    "# for i in s: \n",
    "#     print(i.name,i.gender)"
   ]
  },
  {
   "cell_type": "markdown",
   "metadata": {},
   "source": [
    "# Static Variable\n",
    "\n",
    "## Static variable related to Class.\n",
    "## Static Variable having same value for every objects.\n",
    "## Syntax   :  --> ClassName.StaticVariableName\n",
    "<!-- -------------------------------------------------------------- -->\n",
    "<br><hr>\n",
    "<!-- -------------------------------------------------------------- -->\n",
    "## Instance Variable related to Object.\n",
    "## Instance Variable having different Value for every objects.\n",
    "## Syntax : --> self.InstanceVariableName"
   ]
  },
  {
   "cell_type": "code",
   "execution_count": 2,
   "metadata": {},
   "outputs": [],
   "source": [
    "class Atm:\n",
    "\n",
    "  __counter = 1\n",
    "\n",
    "  # constructor(special function)->superpower -> \n",
    "  def __init__(self):\n",
    "    print(id(self))\n",
    "    self.pin = ''\n",
    "    self.__balance = 0\n",
    "    self.cid = Atm.__counter\n",
    "    # Here counter is static as well as privite\n",
    "    Atm.__counter = Atm.__counter + 1 \n",
    "    #self.menu()\n",
    "\n",
    "  # utility functions\n",
    "  # This is static Method \n",
    "  @staticmethod\n",
    "  def get_counter():\n",
    "    return Atm.__counter\n",
    "\n",
    "\n",
    "  def get_balance(self):\n",
    "    return self.__balance\n",
    "\n",
    "  def set_balance(self,new_value):\n",
    "    if type(new_value) == int:\n",
    "      self.__balance = new_value\n",
    "    else:\n",
    "      print('beta bahot maarenge')\n",
    "\n",
    "  def __menu(self):\n",
    "    user_input = input(\"\"\"\n",
    "    Hi how can I help you?\n",
    "    1. Press 1 to create pin\n",
    "    2. Press 2 to change pin\n",
    "    3. Press 3 to check balance\n",
    "    4. Press 4 to withdraw\n",
    "    5. Anything else to exit\n",
    "    \"\"\")\n",
    "\n",
    "    if user_input == '1':\n",
    "      self.create_pin()\n",
    "    elif user_input == '2':\n",
    "      self.change_pin()\n",
    "    elif user_input == '3':\n",
    "      self.check_balance()\n",
    "    elif user_input == '4':\n",
    "      self.withdraw()\n",
    "    else:\n",
    "      exit()\n",
    "\n",
    "  def create_pin(self):\n",
    "    user_pin = input('enter your pin')\n",
    "    self.pin = user_pin\n",
    "\n",
    "    user_balance = int(input('enter balance'))\n",
    "    self.__balance = user_balance\n",
    "\n",
    "    print('pin created successfully')\n",
    "\n",
    "  def change_pin(self):\n",
    "    old_pin = input('enter old pin')\n",
    "\n",
    "    if old_pin == self.pin:\n",
    "      # let him change the pin\n",
    "      new_pin = input('enter new pin')\n",
    "      self.pin = new_pin\n",
    "      print('pin change successful')\n",
    "    else:\n",
    "      print('nai karne de sakta re baba')\n",
    "\n",
    "  def check_balance(self):\n",
    "    user_pin = input('enter your pin')\n",
    "    if user_pin == self.pin:\n",
    "      print('your balance is ',self.__balance)\n",
    "    else:\n",
    "      print('chal nikal yahan se')\n",
    "\n",
    "  def withdraw(self):\n",
    "    user_pin = input('enter the pin')\n",
    "    if user_pin == self.pin:\n",
    "      # allow to withdraw\n",
    "      amount = int(input('enter the amount'))\n",
    "      if amount <= self.__balance:\n",
    "        self.__balance = self.__balance - amount\n",
    "        print('withdrawl successful.balance is',self.__balance)\n",
    "      else:\n",
    "        print('abe garib')\n",
    "    else:\n",
    "      print('sale chor')"
   ]
  },
  {
   "cell_type": "code",
   "execution_count": 8,
   "metadata": {},
   "outputs": [
    {
     "name": "stdout",
     "output_type": "stream",
     "text": [
      "1347007644880\n"
     ]
    },
    {
     "data": {
      "text/plain": [
       "4"
      ]
     },
     "execution_count": 8,
     "metadata": {},
     "output_type": "execute_result"
    }
   ],
   "source": [
    "c1 = Atm()\n",
    "c1.cid"
   ]
  },
  {
   "cell_type": "code",
   "execution_count": 9,
   "metadata": {},
   "outputs": [
    {
     "name": "stdout",
     "output_type": "stream",
     "text": [
      "1347007529168\n"
     ]
    },
    {
     "data": {
      "text/plain": [
       "5"
      ]
     },
     "execution_count": 9,
     "metadata": {},
     "output_type": "execute_result"
    }
   ],
   "source": [
    "c2 = Atm()\n",
    "c2.cid\n"
   ]
  }
 ],
 "metadata": {
  "kernelspec": {
   "display_name": "Python 3",
   "language": "python",
   "name": "python3"
  },
  "language_info": {
   "codemirror_mode": {
    "name": "ipython",
    "version": 3
   },
   "file_extension": ".py",
   "mimetype": "text/x-python",
   "name": "python",
   "nbconvert_exporter": "python",
   "pygments_lexer": "ipython3",
   "version": "3.11.1"
  }
 },
 "nbformat": 4,
 "nbformat_minor": 2
}
