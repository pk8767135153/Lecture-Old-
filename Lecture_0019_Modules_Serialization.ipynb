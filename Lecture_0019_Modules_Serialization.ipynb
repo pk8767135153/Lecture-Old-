{
 "cells": [
  {
   "cell_type": "markdown",
   "metadata": {},
   "source": [
    "## Serialization And Deserialization "
   ]
  },
  {
   "cell_type": "code",
   "execution_count": 34,
   "metadata": {},
   "outputs": [],
   "source": [
    "with open(\"Lecture19_Serialization_and_Deserialization_.txt\",\"w\") as f:\n",
    "    f.write(\"This is my first Line.\\n\\t\")\n",
    "    f.write(\"This is My New file Second Line\")"
   ]
  },
  {
   "cell_type": "code",
   "execution_count": 38,
   "metadata": {},
   "outputs": [
    {
     "name": "stdout",
     "output_type": "stream",
     "text": [
      "This is my first Line.\n",
      "\tThis is My New file Second Line\n",
      " {'Name': 'Pravinsingh Korekar', 'age': 21}\n"
     ]
    }
   ],
   "source": [
    "with open(\"Lecture19_Serialization_and_Deserialization_.txt\",\"r\") as f:\n",
    "    print(f.read())\n"
   ]
  },
  {
   "cell_type": "code",
   "execution_count": 44,
   "metadata": {},
   "outputs": [
    {
     "ename": "TypeError",
     "evalue": "write() argument must be str, not tuple",
     "output_type": "error",
     "traceback": [
      "\u001b[1;31m---------------------------------------------------------------------------\u001b[0m",
      "\u001b[1;31mTypeError\u001b[0m                                 Traceback (most recent call last)",
      "Cell \u001b[1;32mIn[44], line 10\u001b[0m\n\u001b[0;32m      7\u001b[0m t \u001b[38;5;241m=\u001b[39m (\u001b[38;5;241m1\u001b[39m,\u001b[38;5;241m2\u001b[39m,\u001b[38;5;241m3\u001b[39m,\u001b[38;5;241m4\u001b[39m)\n\u001b[0;32m      8\u001b[0m \u001b[38;5;28;01mwith\u001b[39;00m \u001b[38;5;28mopen\u001b[39m(\u001b[38;5;124m\"\u001b[39m\u001b[38;5;124mLecture19_Serialization_and_Deserialization_.txt\u001b[39m\u001b[38;5;124m\"\u001b[39m,\u001b[38;5;124m\"\u001b[39m\u001b[38;5;124ma\u001b[39m\u001b[38;5;124m\"\u001b[39m) \u001b[38;5;28;01mas\u001b[39;00m f: \n\u001b[0;32m      9\u001b[0m     \u001b[38;5;66;03m# f.write(d)\u001b[39;00m\n\u001b[1;32m---> 10\u001b[0m     \u001b[43mf\u001b[49m\u001b[38;5;241;43m.\u001b[39;49m\u001b[43mwrite\u001b[49m\u001b[43m(\u001b[49m\u001b[43mt\u001b[49m\u001b[43m)\u001b[49m\n",
      "\u001b[1;31mTypeError\u001b[0m: write() argument must be str, not tuple"
     ]
    }
   ],
   "source": [
    "# We cannot store dict data type in our file so we can convert dict in string\n",
    "# We cannot store tuple data type in our file so we can convert dict in string\n",
    "\n",
    "d = {\n",
    "        \"Name\":\"Pravinsingh Korekar\",\n",
    "        \"age\" : 21\n",
    "    }\n",
    "t = (1,2,3,4)\n",
    "with open(\"Lecture19_Serialization_and_Deserialization_.txt\",\"a\") as f: \n",
    "    # f.write(d)\n",
    "    f.write(t)\n",
    "    "
   ]
  },
  {
   "cell_type": "code",
   "execution_count": 36,
   "metadata": {},
   "outputs": [],
   "source": [
    "d = {\n",
    "        \"Name\":\"Pravinsingh Korekar\",\n",
    "        \"age\" : 21\n",
    "    }\n",
    "with open(\"Lecture19_Serialization_and_Deserialization_.txt\",\"a\") as f: \n",
    "    f.write(f\"\\n {str(d)}\")\n",
    "    "
   ]
  },
  {
   "cell_type": "code",
   "execution_count": 46,
   "metadata": {},
   "outputs": [
    {
     "name": "stdout",
     "output_type": "stream",
     "text": [
      "This is my first Line.\n",
      "\tThis is My New file Second Line\n",
      " {'Name': 'Pravinsingh Korekar', 'age': 21}\n",
      " {'Name': 'Pravinsingh Korekar', 'age': 21}\n",
      " {'Name': 'Pravinsingh Korekar', 'age': 21}\n"
     ]
    }
   ],
   "source": [
    "with open(\"Lecture19_Serialization_and_Deserialization_.txt\",\"r\") as f:\n",
    "    print(f.read())\n"
   ]
  },
  {
   "cell_type": "code",
   "execution_count": 47,
   "metadata": {},
   "outputs": [
    {
     "ename": "TypeError",
     "evalue": "argument should be integer or None, not 'dict'",
     "output_type": "error",
     "traceback": [
      "\u001b[1;31m---------------------------------------------------------------------------\u001b[0m",
      "\u001b[1;31mTypeError\u001b[0m                                 Traceback (most recent call last)",
      "Cell \u001b[1;32mIn[47], line 2\u001b[0m\n\u001b[0;32m      1\u001b[0m \u001b[38;5;28;01mwith\u001b[39;00m \u001b[38;5;28mopen\u001b[39m(\u001b[38;5;124m\"\u001b[39m\u001b[38;5;124mLecture19_Serialization_and_Deserialization_.txt\u001b[39m\u001b[38;5;124m\"\u001b[39m,\u001b[38;5;124m\"\u001b[39m\u001b[38;5;124mr\u001b[39m\u001b[38;5;124m\"\u001b[39m) \u001b[38;5;28;01mas\u001b[39;00m f:\n\u001b[1;32m----> 2\u001b[0m     \u001b[43mf\u001b[49m\u001b[38;5;241;43m.\u001b[39;49m\u001b[43mread\u001b[49m\u001b[43m(\u001b[49m\u001b[43md\u001b[49m\u001b[43m)\u001b[49m\n",
      "\u001b[1;31mTypeError\u001b[0m: argument should be integer or None, not 'dict'"
     ]
    }
   ],
   "source": [
    "# if we can store data in string format in file we cannot reat that specific data.\n",
    "with open(\"Lecture19_Serialization_and_Deserialization_.txt\",\"r\") as f:\n",
    "    f.read(d)"
   ]
  },
  {
   "cell_type": "markdown",
   "metadata": {},
   "source": [
    "### Serialization \n",
    "##### When we can store different data type in file by converting diffenent data type in string formate in file we cannot access that specific data that time we used serialization. \n",
    "##### In Serialization we can convert text, object in byte from.\n",
    "##### text,python object --> byte -- Serialization\n",
    "\n",
    "### Deserialization \n",
    "##### It is Process to convert byte data in pyton object --> Deserialization\n"
   ]
  },
  {
   "cell_type": "code",
   "execution_count": 57,
   "metadata": {},
   "outputs": [],
   "source": [
    "import json  \n",
    "\n",
    "l = [1,2,3,4,5,6]\n",
    "\n",
    "with open(\"Lecture19_json_001_.json\",\"w\") as f:\n",
    "    json.dump(l,f)"
   ]
  },
  {
   "cell_type": "code",
   "execution_count": 108,
   "metadata": {},
   "outputs": [],
   "source": [
    "dict = {\n",
    "    \"name\":\"pravin\",\n",
    "    \"age\":\"21\"\n",
    "}\n",
    "with open(\"Lecture19_json_001_.json\",\"w\") as f:\n",
    "    # here indent is gives space between name and left side display\n",
    "    json.dump(dict,f,indent=4)\n",
    "    "
   ]
  },
  {
   "cell_type": "code",
   "execution_count": 109,
   "metadata": {},
   "outputs": [
    {
     "name": "stdout",
     "output_type": "stream",
     "text": [
      "{'name': 'pravin', 'age': '21'}\n"
     ]
    }
   ],
   "source": [
    "\n",
    "with open(\"Lecture19_json_001_.json\",\"r\") as f:\n",
    "    # Load the file data in d variable\n",
    "    d = json.load(f)\n",
    "\n",
    "    # we cannot use direactly variable\n",
    "    # print(json.load(f)) # JSONDecodeError: Expecting value: line 1 column 1 (char 0)\n",
    "\n",
    "    print(d)\n",
    "    "
   ]
  },
  {
   "cell_type": "code",
   "execution_count": 113,
   "metadata": {},
   "outputs": [],
   "source": [
    "# IN JSON we can store tuple but JSON by default Tuple in list formate in file we can access Tuple in JSON file by using type conversion conpect \n",
    "\n",
    "t1 = (11,22,33,44,55,66,77)\n",
    "with open(\"Lecture19_json_001_.json\",\"w\") as f:\n",
    "    # here indent is gives space between name and left side display\n",
    "    json.dump(t1,f)"
   ]
  },
  {
   "cell_type": "code",
   "execution_count": 116,
   "metadata": {},
   "outputs": [
    {
     "name": "stdout",
     "output_type": "stream",
     "text": [
      "(11, 22, 33, 44, 55, 66, 77)\n"
     ]
    }
   ],
   "source": [
    "\n",
    "with open(\"Lecture19_json_001_.json\",\"r\") as f:\n",
    "    # Load the file data in d variable\n",
    "    # d = json.load(f)\n",
    "    \n",
    "    d = tuple(json.load(f))\n",
    "\n",
    "    # we cannot use direactly variable\n",
    "    print(d)\n",
    "    "
   ]
  },
  {
   "cell_type": "markdown",
   "metadata": {},
   "source": [
    "## Modules "
   ]
  },
  {
   "cell_type": "markdown",
   "metadata": {},
   "source": [
    "### Modules : One single which contain variable, class, function, object in short those file contain code.\n",
    "### Packages : Collection  Modules each packages _ _init_ _ like numpy and pandas\n",
    "### Library : like \n",
    "\n",
    "### Built In Modules : math, os, random, time"
   ]
  },
  {
   "cell_type": "code",
   "execution_count": 120,
   "metadata": {},
   "outputs": [
    {
     "data": {
      "text/plain": [
       "1.4142135623730951"
      ]
     },
     "execution_count": 120,
     "metadata": {},
     "output_type": "execute_result"
    }
   ],
   "source": [
    "import math\n",
    "math.sqrt(2)"
   ]
  },
  {
   "cell_type": "code",
   "execution_count": 131,
   "metadata": {},
   "outputs": [
    {
     "data": {
      "text/plain": [
       "<function nt.access(path, mode, *, dir_fd=None, effective_ids=False, follow_symlinks=True)>"
      ]
     },
     "execution_count": 131,
     "metadata": {},
     "output_type": "execute_result"
    }
   ],
   "source": [
    "import os \n",
    "os.access"
   ]
  },
  {
   "cell_type": "code",
   "execution_count": 129,
   "metadata": {},
   "outputs": [
    {
     "name": "stdout",
     "output_type": "stream",
     "text": [
      "This is befor sleeping\n",
      "this is after sleep\n"
     ]
    }
   ],
   "source": [
    "import time\n",
    "print(\"This is befor sleeping\")\n",
    "time.sleep(4)\n",
    "print(\"this is after sleep\")"
   ]
  },
  {
   "cell_type": "code",
   "execution_count": 144,
   "metadata": {},
   "outputs": [
    {
     "data": {
      "text/plain": [
       "28"
      ]
     },
     "execution_count": 144,
     "metadata": {},
     "output_type": "execute_result"
    }
   ],
   "source": [
    "import random \n",
    "random.randint(1,90)"
   ]
  },
  {
   "cell_type": "markdown",
   "metadata": {},
   "source": [
    "## Main Function"
   ]
  },
  {
   "cell_type": "markdown",
   "metadata": {},
   "source": [
    "#### Defined Main Function\n"
   ]
  },
  {
   "cell_type": "code",
   "execution_count": 10,
   "metadata": {},
   "outputs": [
    {
     "name": "stdout",
     "output_type": "stream",
     "text": [
      "44\n"
     ]
    }
   ],
   "source": [
    "\n",
    "if __name__ ==\"__main__\":\n",
    "    print(fun2.add(42,2))"
   ]
  },
  {
   "cell_type": "code",
   "execution_count": 11,
   "metadata": {},
   "outputs": [
    {
     "name": "stdout",
     "output_type": "stream",
     "text": [
      "198\n"
     ]
    }
   ],
   "source": [
    "import Lecture_0019_Main_Function_02 as fun2\n",
    "\n",
    "print(fun2.add(99,99))\n"
   ]
  },
  {
   "cell_type": "markdown",
   "metadata": {},
   "source": []
  },
  {
   "cell_type": "code",
   "execution_count": null,
   "metadata": {},
   "outputs": [],
   "source": []
  },
  {
   "cell_type": "code",
   "execution_count": null,
   "metadata": {},
   "outputs": [],
   "source": []
  }
 ],
 "metadata": {
  "kernelspec": {
   "display_name": "Python 3",
   "language": "python",
   "name": "python3"
  },
  "language_info": {
   "codemirror_mode": {
    "name": "ipython",
    "version": 3
   },
   "file_extension": ".py",
   "mimetype": "text/x-python",
   "name": "python",
   "nbconvert_exporter": "python",
   "pygments_lexer": "ipython3",
   "version": "3.11.1"
  }
 },
 "nbformat": 4,
 "nbformat_minor": 2
}
