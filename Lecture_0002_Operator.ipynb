{
 "cells": [
  {
   "cell_type": "markdown",
   "metadata": {},
   "source": [
    "# Matplotlib"
   ]
  },
  {
   "cell_type": "code",
   "execution_count": 2,
   "metadata": {},
   "outputs": [
    {
     "ename": "ModuleNotFoundError",
     "evalue": "No module named 'pandas'",
     "output_type": "error",
     "traceback": [
      "\u001b[1;31m---------------------------------------------------------------------------\u001b[0m",
      "\u001b[1;31mModuleNotFoundError\u001b[0m                       Traceback (most recent call last)",
      "Cell \u001b[1;32mIn[2], line 5\u001b[0m\n\u001b[0;32m      3\u001b[0m \u001b[38;5;28;01mimport\u001b[39;00m \u001b[38;5;21;01mmatplotlib\u001b[39;00m\u001b[38;5;21;01m.\u001b[39;00m\u001b[38;5;21;01mpyplot\u001b[39;00m \u001b[38;5;28;01mas\u001b[39;00m \u001b[38;5;21;01mplt\u001b[39;00m\n\u001b[0;32m      4\u001b[0m \u001b[38;5;28;01mimport\u001b[39;00m \u001b[38;5;21;01mnumpy\u001b[39;00m \u001b[38;5;28;01mas\u001b[39;00m \u001b[38;5;21;01mnp\u001b[39;00m\n\u001b[1;32m----> 5\u001b[0m \u001b[38;5;28;01mimport\u001b[39;00m \u001b[38;5;21;01mpandas\u001b[39;00m \u001b[38;5;28;01mas\u001b[39;00m \u001b[38;5;21;01mpd\u001b[39;00m\n",
      "\u001b[1;31mModuleNotFoundError\u001b[0m: No module named 'pandas'"
     ]
    }
   ],
   "source": [
    "# import nessery libary\n",
    "\n",
    "import matplotlib.pyplot as plt\n",
    "import numpy as np\n",
    "import pandas as pd"
   ]
  },
  {
   "cell_type": "code",
   "execution_count": 1,
   "metadata": {},
   "outputs": [
    {
     "ename": "NameError",
     "evalue": "name 'plt' is not defined",
     "output_type": "error",
     "traceback": [
      "\u001b[1;31m---------------------------------------------------------------------------\u001b[0m",
      "\u001b[1;31mNameError\u001b[0m                                 Traceback (most recent call last)",
      "Cell \u001b[1;32mIn[1], line 7\u001b[0m\n\u001b[0;32m      4\u001b[0m a \u001b[38;5;241m=\u001b[39m [\u001b[38;5;241m2\u001b[39m,\u001b[38;5;241m3\u001b[39m,\u001b[38;5;241m2\u001b[39m]\n\u001b[0;32m      6\u001b[0m  \u001b[38;5;66;03m# this is plot function which is used for ploat some datapoint on graph\u001b[39;00m\n\u001b[1;32m----> 7\u001b[0m \u001b[43mplt\u001b[49m\u001b[38;5;241m.\u001b[39mplot(x,y,z,a) \n\u001b[0;32m      9\u001b[0m \u001b[38;5;66;03m#  plt.title(\"here we can write the name of the graph\")\u001b[39;00m\n\u001b[0;32m     10\u001b[0m \u001b[38;5;66;03m# It also contain some attributes like fontdict inside font dict we can pass the value of fontname and fontsize\u001b[39;00m\n\u001b[0;32m     11\u001b[0m plt\u001b[38;5;241m.\u001b[39mtitle(\u001b[38;5;124m\"\u001b[39m\u001b[38;5;124mThis is Our First graph\u001b[39m\u001b[38;5;124m\"\u001b[39m,fontdict\u001b[38;5;241m=\u001b[39m{\u001b[38;5;124m'\u001b[39m\u001b[38;5;124mfontname\u001b[39m\u001b[38;5;124m'\u001b[39m:\u001b[38;5;124m'\u001b[39m\u001b[38;5;124mArial\u001b[39m\u001b[38;5;124m'\u001b[39m,\u001b[38;5;124m'\u001b[39m\u001b[38;5;124mfontsize\u001b[39m\u001b[38;5;124m'\u001b[39m : \u001b[38;5;241m12\u001b[39m}) \n",
      "\u001b[1;31mNameError\u001b[0m: name 'plt' is not defined"
     ]
    }
   ],
   "source": [
    "\n",
    "x = [1,2,3]\n",
    "y = [3,4,5]\n",
    "z = [8,6,4]\n",
    "a = [2,3,2]\n",
    "\n",
    " # this is plot function which is used for ploat some datapoint on graph\n",
    "plt.plot(x,y,z,a) \n",
    "\n",
    "#  plt.title(\"here we can write the name of the graph\")\n",
    "# It also contain some attributes like fontdict inside font dict we can pass the value of fontname and fontsize\n",
    "plt.title(\"This is Our First graph\",fontdict={'fontname':'Arial','fontsize' : 12}) \n",
    "\n",
    "# plt.xlabel(gives the name of x-axix)\n",
    "# It also contain some attributes like fontdict inside font dict we can pass the value of fontname and fontsize\n",
    "plt.xlabel(\"X Axis\")\n",
    "\n",
    "# plt.ylabel(gives the name of y-axis)\n",
    "# It also contain some attributes like fontdict inside font dict we can pass the value of fontname and fontsize\n",
    "plt.ylabel(\"Y Axis\")\n",
    "\n",
    "# plt.xticks([a1,a2,a3,a4,....])\n",
    "# similar plt.yticks([a1,a2,a3,a4,....])\n",
    "# This xtrick() and yticks() can provide the indexing of repecetively x and y axis\n",
    "plt.xticks([1,3,5,7,9])\n",
    "plt.yticks([0,2,4,6,8])\n",
    "\n",
    "# It can remove some special information on the graph\n",
    "#  like   [<matplotlib.lines.Line2D at 0x7c8ae6bc03d0>,\n",
    "#         <matplotlib.lines.Line2D at 0x7c8ae6bc0190>]\n",
    "plt.show() \n",
    " \n"
   ]
  },
  {
   "cell_type": "markdown",
   "metadata": {},
   "source": [
    "#  Topic 1 : Operators in Python \n",
    "\n",
    "## 1. Arithmetic Operators \n",
    "## 2. Relational Operators\n",
    "## 3. Logical Operators \n",
    "## 4. Bitwise Operators\n",
    "## 5. Assignment Operators\n",
    "## 6. Membership Operators"
   ]
  },
  {
   "cell_type": "code",
   "execution_count": 4,
   "metadata": {},
   "outputs": [
    {
     "data": {
      "text/plain": [
       "1.5"
      ]
     },
     "execution_count": 4,
     "metadata": {},
     "output_type": "execute_result"
    }
   ],
   "source": [
    "#  Arithmetic Operator \n",
    "\n",
    "#  +,-,*,/(it give float output),//(it gives interger output),% (it give the remender) Modules, ** Power \n",
    "# 2**3 output -> 2*2*2 = 8\n",
    "3/2\n",
    "# 3//2"
   ]
  },
  {
   "cell_type": "code",
   "execution_count": 5,
   "metadata": {},
   "outputs": [
    {
     "name": "stdout",
     "output_type": "stream",
     "text": [
      "False\n",
      "True\n",
      "True\n",
      "False\n",
      "True\n",
      "False\n"
     ]
    }
   ],
   "source": [
    "# Relational Operator\n",
    "print(10==20)\n",
    "print(10!=20)\n",
    "print(10<20)\n",
    "print(10>20)\n",
    "print(10<=20)\n",
    "print(10>=20)"
   ]
  },
  {
   "cell_type": "code",
   "execution_count": 7,
   "metadata": {},
   "outputs": [
    {
     "name": "stdout",
     "output_type": "stream",
     "text": [
      "0\n",
      "1\n",
      "False\n"
     ]
    }
   ],
   "source": [
    "# Logical Operator\n",
    "# and : if two input are 1 the print 1/True\n",
    "# or  : if two input are 0 the print 0/False\n",
    "# not : it make opposite output 1-> 0, 0->1\n",
    "print(1 and 0)\n",
    "print(1 or 0)\n",
    "print(not 1)"
   ]
  },
  {
   "cell_type": "code",
   "execution_count": 2,
   "metadata": {},
   "outputs": [
    {
     "name": "stdout",
     "output_type": "stream",
     "text": [
      "2\n",
      "3\n",
      "1\n",
      "~1 :  -2\n",
      "1\n",
      "16\n"
     ]
    }
   ],
   "source": [
    "#  Bitwise Operator it working on the bit \n",
    "\n",
    "# Bitwise and ( & )\n",
    "print(2 & 2)\n",
    "\n",
    "# Bitwise or ( | )\n",
    "print(2 | 3)\n",
    "\n",
    "# Bitwise xor\n",
    "print(2^3) #  2 -> 10, 3-> 11\n",
    "\n",
    "# Bitwise not ~\n",
    "print(\"~1 : \",~1)\n",
    "\n",
    "# Bitwise left operator \n",
    "print(4 >> 2) # 4 -> 00100 side is left that side---->  00001\n",
    "\n",
    "# Bitwise right Opearator\n",
    "print(4 << 2) # 4 -> 00100 side is right that is <----- 10000"
   ]
  },
  {
   "cell_type": "code",
   "execution_count": 26,
   "metadata": {},
   "outputs": [
    {
     "name": "stdout",
     "output_type": "stream",
     "text": [
      "2\n"
     ]
    }
   ],
   "source": [
    "# Assignment Operators (Assign the value)\n",
    "#   ' = '\n",
    "\n",
    "a = 2\n",
    "\n",
    "a+=2 # similar -=,*=, /=, %=, //=\n",
    "a //=2\n",
    "\n",
    "print(a)\n"
   ]
  },
  {
   "cell_type": "code",
   "execution_count": 28,
   "metadata": {},
   "outputs": [
    {
     "name": "stdout",
     "output_type": "stream",
     "text": [
      "True\n",
      "False\n",
      "False\n",
      "True\n"
     ]
    }
   ],
   "source": [
    "#  Membership Opeartor \n",
    "#  It is case sencetive \n",
    "# it working on different datatype  like list, tuple , distonary, string etc\n",
    "#  in / not in\n",
    "#  in : if we can find some data in the some dataset the we can pass data which we can find out it will return boolean value if data present in dataset like True and false\n",
    "print(\"D\" in \"Delhi\") # here D present in Delhi it will return True\n",
    "print(1 in [2,3,4,5,6]) # here 1 is not presetn in the list it will return False\n",
    "\n",
    "# not in : it work opposite to in. if we can find some data in dataset if data is not present in that dataset it will return True. if data is present it written False\n",
    "print(\"D\" not in \"Delhi\") # here D present in Delhi it will return False\n",
    "print(1 not in [2,3,4,5,6]) # here 1 is not presetn in the list it will return True"
   ]
  },
  {
   "cell_type": "markdown",
   "metadata": {},
   "source": [
    "## Problem Base on Operator "
   ]
  },
  {
   "cell_type": "code",
   "execution_count": 30,
   "metadata": {},
   "outputs": [
    {
     "name": "stdout",
     "output_type": "stream",
     "text": [
      "Number :  345\n",
      "n1 :  5  n2 :  4  n3 :  3   Sum :  12\n"
     ]
    }
   ],
   "source": [
    "a  = int(input(\"Enter any 3 digit number\"))\n",
    "print(\"Number : \",a)\n",
    "n1 = a%10\n",
    "n2 = (a//10)%10\n",
    "n3 = (a//100)\n",
    "print(\"n1 : \",n1,\" n2 : \",n2,\" n3 : \",n3,\"  Sum : \",n1+n2+n3)"
   ]
  },
  {
   "cell_type": "markdown",
   "metadata": {},
   "source": [
    "# Topic 2 : Conditional Statement\n"
   ]
  },
  {
   "cell_type": "code",
   "execution_count": 6,
   "metadata": {},
   "outputs": [
    {
     "name": "stdout",
     "output_type": "stream",
     "text": [
      "Welcome Nitish\n"
     ]
    }
   ],
   "source": [
    "# nitish.campusx@gmail.com\n",
    "\n",
    "email = input(\"Enter email \")\n",
    "password = input(\"Enter password\")\n",
    "\n",
    "# if condition:\n",
    "    #  If code\n",
    "# else:\n",
    "    # else code \n",
    "\n",
    "if email == \"nitish.campusx@gmail.com\" and password == \"1234\" :\n",
    "    print(\"Welcome to Nitish\")\n",
    "elif email == \"nitish.campusx@gmail.com\" and password !=\"1234\":\n",
    "    password = input(\"Password is wrong please enter again\")\n",
    "    if password == \"1234\":\n",
    "        print(\"Welcome Nitish\")\n",
    "else: \n",
    "    print(\"Email and Password Invalid\")"
   ]
  },
  {
   "cell_type": "markdown",
   "metadata": {},
   "source": [
    "# Topic 3 : Math Module"
   ]
  },
  {
   "cell_type": "code",
   "execution_count": 2,
   "metadata": {},
   "outputs": [],
   "source": [
    "import math"
   ]
  },
  {
   "cell_type": "code",
   "execution_count": 4,
   "metadata": {},
   "outputs": [
    {
     "data": {
      "text/plain": [
       "515.662015617741"
      ]
     },
     "execution_count": 4,
     "metadata": {},
     "output_type": "execute_result"
    }
   ],
   "source": [
    "math.factorial(5)\n",
    "math.log2(4)\n",
    "math.degrees(3)\n",
    "math.exp2(4)\n",
    "math.sin(9)\n",
    "math.floor(7.9)\n",
    "math.sqrt(9)\n",
    "math.__doc__\n",
    "math.degrees(9)"
   ]
  },
  {
   "cell_type": "markdown",
   "metadata": {},
   "source": [
    "# Topic 4 : Keyword Module"
   ]
  },
  {
   "cell_type": "code",
   "execution_count": 21,
   "metadata": {},
   "outputs": [
    {
     "name": "stdout",
     "output_type": "stream",
     "text": [
      "['False', 'None', 'True', 'and', 'as', 'assert', 'async', 'await', 'break', 'class', 'continue', 'def', 'del', 'elif', 'else', 'except', 'finally', 'for', 'from', 'global', 'if', 'import', 'in', 'is', 'lambda', 'nonlocal', 'not', 'or', 'pass', 'raise', 'return', 'try', 'while', 'with', 'yield']\n"
     ]
    }
   ],
   "source": [
    "import keyword \n",
    "print(keyword.kwlist)  # It will return the all keyword which is present in python"
   ]
  },
  {
   "cell_type": "markdown",
   "metadata": {},
   "source": [
    "# Topic 5 : Random Module"
   ]
  },
  {
   "cell_type": "code",
   "execution_count": 22,
   "metadata": {},
   "outputs": [
    {
     "name": "stdout",
     "output_type": "stream",
     "text": [
      "54\n"
     ]
    }
   ],
   "source": [
    "import random \n",
    "print(random.randint(1,100))"
   ]
  },
  {
   "cell_type": "markdown",
   "metadata": {},
   "source": [
    "# Topic 6 : Date Time Module\n",
    "\n",
    "### We can access the Module by using this command\n",
    "#### that is : help('modules')"
   ]
  },
  {
   "cell_type": "code",
   "execution_count": 23,
   "metadata": {},
   "outputs": [
    {
     "name": "stdout",
     "output_type": "stream",
     "text": [
      "2024-01-01 14:47:07.631583\n"
     ]
    }
   ],
   "source": [
    "import datetime\n",
    "print(datetime.datetime.now())"
   ]
  },
  {
   "cell_type": "code",
   "execution_count": 5,
   "metadata": {},
   "outputs": [
    {
     "name": "stdout",
     "output_type": "stream",
     "text": [
      "\n",
      "Please wait a moment while I gather a list of all available modules...\n",
      "\n",
      "test_sqlite3: testing with version '2.6.0', sqlite_version '3.39.4'\n"
     ]
    },
    {
     "name": "stderr",
     "output_type": "stream",
     "text": [
      "c:\\Users\\PRAVIN\\AppData\\Local\\Programs\\Python\\Python311\\Lib\\site-packages\\nltk\\twitter\\__init__.py:20: UserWarning: The twython library has not been installed. Some functionality from the twitter package will not be available.\n",
      "  warnings.warn(\n",
      "c:\\Users\\PRAVIN\\AppData\\Local\\Programs\\Python\\Python311\\Lib\\pkgutil.py:92: UserWarning: The numpy.array_api submodule is still experimental. See NEP 47.\n",
      "  __import__(info.name)\n",
      "c:\\Users\\PRAVIN\\AppData\\Local\\Programs\\Python\\Python311\\Lib\\site-packages\\_distutils_hack\\__init__.py:33: UserWarning: Setuptools is replacing distutils.\n",
      "  warnings.warn(\"Setuptools is replacing distutils.\")\n",
      "c:\\Users\\PRAVIN\\AppData\\Local\\Programs\\Python\\Python311\\Lib\\pkgutil.py:107: VisibleDeprecationWarning: zmq.eventloop.minitornado is deprecated in pyzmq 14.0 and will be removed.\n",
      "    Install tornado itself to use zmq with the tornado IOLoop.\n",
      "    \n",
      "  yield from walk_packages(path, info.name+'.', onerror)\n"
     ]
    },
    {
     "name": "stdout",
     "output_type": "stream",
     "text": [
      "IPython             builtins            mimetypes           stat\n",
      "PIL                 bz2                 mistune             statistics\n",
      "__future__          cProfile            mmap                string\n",
      "__hello__           calendar            mmapfile            stringprep\n",
      "__phello__          cffi                mmsystem            struct\n",
      "_abc                cgi                 modulefinder        subprocess\n",
      "_aix_support        cgitb               mpl_toolkits        sunau\n",
      "_argon2_cffi_bindings chunk               msilib              symtable\n",
      "_ast                click               msvcrt              sys\n",
      "_asyncio            cmath               multiprocessing     sysconfig\n",
      "_bisect             cmd                 nbclassic           tabnanny\n",
      "_blake2             code                nbclient            tarfile\n",
      "_bootsubprocess     codecs              nbconvert           telnetlib\n",
      "_bz2                codeop              nbformat            tempfile\n",
      "_cffi_backend       collections         nest_asyncio        terminado\n",
      "_codecs             colorama            netbios             test\n",
      "_codecs_cn          colorsys            netrc               textwrap\n",
      "_codecs_hk          comm                nltk                this\n",
      "_codecs_iso2022     commctrl            nntplib             threading\n",
      "_codecs_jp          compileall          notebook            threadpoolctl\n",
      "_codecs_kr          concurrent          notebook_shim       time\n",
      "_codecs_tw          configparser        nt                  timeit\n",
      "_collections        contextlib          ntpath              timer\n",
      "_collections_abc    contextvars         ntsecuritycon       tinycss2\n",
      "_compat_pickle      contourpy           nturl2path          tkinter\n",
      "_compression        copy                numbers             token\n",
      "_contextvars        copyreg             numpy               tokenize\n",
      "_csv                crypt               odbc                tomli\n",
      "_ctypes             csv                 opcode              tomllib\n",
      "_ctypes_test        ctypes              operator            tornado\n",
      "_datetime           curses              optparse            tqdm\n",
      "_decimal            cv2                 os                  trace\n",
      "_distutils_hack     cycler              packaging           traceback\n",
      "_elementtree        dataclasses         pandas              tracemalloc\n",
      "_functools          datetime            pandocfilters       traitlets\n",
      "_hashlib            dateutil            parso               tty\n",
      "_heapq              dbi                 pathlib             turtle\n",
      "_imp                dbm                 pdb                 turtledemo\n",
      "_io                 dde                 perfmon             types\n",
      "_json               debugpy             pickle              typing\n",
      "_locale             decimal             pickleshare         tzdata\n",
      "_lsprof             decorator           pickletools         unicodedata\n",
      "_lzma               defusedxml          pip                 unittest\n",
      "_markupbase         difflib             pipes               uri_template\n",
      "_md5                dis                 pkg_resources       urllib\n",
      "_msi                distutils           pkgutil             urllib3\n",
      "_multibytecodec     doctest             platform            uu\n",
      "_multiprocessing    email               platformdirs        uuid\n",
      "_opcode             encodings           plistlib            venv\n",
      "_operator           ensurepip           poplib              warnings\n",
      "_osx_support        entrypoints         posixpath           wave\n",
      "_overlapped         enum                pprint              wcwidth\n",
      "_pickle             errno               profile             weakref\n",
      "_py_abc             executing           prometheus_client   webbrowser\n",
      "_pydecimal          fastjsonschema      prompt_toolkit      webcolors\n",
      "_pyio               faulthandler        pstats              webencodings\n",
      "_pyrsistent_version filecmp             psutil              websocket\n",
      "_queue              fileinput           pty                 widgetsnbextension\n",
      "_random             fnmatch             pure_eval           win2kras\n",
      "_sha1               fontTools           pvectorc            win32api\n",
      "_sha256             fqdn                py_compile          win32clipboard\n",
      "_sha3               fractions           pyclbr              win32com\n",
      "_sha512             ftplib              pycparser           win32con\n",
      "_signal             functools           pydoc               win32console\n",
      "_sitebuiltins       gc                  pydoc_data          win32cred\n",
      "_socket             genericpath         pyexpat             win32crypt\n",
      "_sqlite3            getopt              pygments            win32cryptcon\n",
      "_sre                getpass             pylab               win32event\n",
      "_ssl                gettext             pyparsing           win32evtlog\n",
      "_stat               glob                pyrsistent          win32evtlogutil\n",
      "_statistics         graphlib            pythoncom           win32file\n",
      "_string             gzip                pythonjsonlogger    win32gui\n",
      "_strptime           hashlib             pytz                win32gui_struct\n",
      "_struct             heapq               pywin               win32help\n",
      "_symtable           hmac                pywin32_bootstrap   win32inet\n",
      "_testbuffer         html                pywin32_testutil    win32inetcon\n",
      "_testcapi           http                pywintypes          win32job\n",
      "_testconsole        idlelib             qtconsole           win32lz\n",
      "_testimportmultiple idna                qtpy                win32net\n",
      "_testinternalcapi   imaplib             queue               win32netcon\n",
      "_testmultiphase     imghdr              quopri              win32pdh\n",
      "_thread             imp                 random              win32pdhquery\n",
      "_threading_local    importlib           rasutil             win32pdhutil\n",
      "_tkinter            inspect             re                  win32pipe\n",
      "_tokenize           io                  regcheck            win32print\n",
      "_tracemalloc        ipaddress           regex               win32process\n",
      "_typing             ipykernel           regutil             win32profile\n",
      "_uuid               ipykernel_launcher  reprlib             win32ras\n",
      "_warnings           ipython_genutils    rfc3339_validator   win32rcparser\n",
      "_weakref            ipywidgets          rfc3986_validator   win32security\n",
      "_weakrefset         isapi               rlcompleter         win32service\n",
      "_win32sysloader     isoduration         runpy               win32serviceutil\n",
      "_winapi             itertools           sched               win32timezone\n",
      "_winxptheme         jedi                scipy               win32trace\n",
      "_xxsubinterpreters  jinja2              seaborn             win32traceutil\n",
      "_yaml               joblib              secrets             win32transaction\n",
      "_zoneinfo           json                select              win32ts\n",
      "abc                 json5               selectors           win32ui\n",
      "adodbapi            jsonpointer         send2trash          win32uiole\n",
      "afxres              jsonschema          servicemanager      win32verstamp\n",
      "aifc                jupyter             setuptools          win32wnet\n",
      "antigravity         jupyter_client      shelve              winerror\n",
      "anyio               jupyter_console     shlex               winioctlcon\n",
      "argon2              jupyter_core        shutil              winnt\n",
      "argparse            jupyter_events      signal              winperf\n",
      "array               jupyter_server      site                winpty\n",
      "arrow               jupyter_server_terminals six                 winreg\n",
      "ast                 jupyterlab_pygments sklearn             winsound\n",
      "asttokens           jupyterlab_widgets  smtpd               winxpgui\n",
      "asynchat            keyword             smtplib             winxptheme\n",
      "asyncio             kiwisolver          sndhdr              wsgiref\n",
      "asyncore            lib2to3             sniffio             xdrlib\n",
      "atexit              linecache           socket              xml\n",
      "attr                locale              socketserver        xmlrpc\n",
      "attrs               logging             soupsieve           xxsubtype\n",
      "audioop             lzma                sqlite3             yaml\n",
      "backcall            mailbox             sre_compile         zipapp\n",
      "base64              mailcap             sre_constants       zipfile\n",
      "bdb                 markupsafe          sre_parse           zipimport\n",
      "binascii            marshal             ssl                 zlib\n",
      "bisect              math                sspi                zmq\n",
      "bleach              matplotlib          sspicon             zoneinfo\n",
      "bs4                 matplotlib_inline   stack_data          \n",
      "\n",
      "Enter any module name to get more help.  Or, type \"modules spam\" to search\n",
      "for modules whose name or summary contain the string \"spam\".\n",
      "\n"
     ]
    }
   ],
   "source": [
    "help(\"modules\") # It gives all the modules which is present inside the python"
   ]
  },
  {
   "cell_type": "markdown",
   "metadata": {},
   "source": [
    "# Topic 7 : Loops In Python"
   ]
  },
  {
   "cell_type": "code",
   "execution_count": null,
   "metadata": {},
   "outputs": [],
   "source": [
    "#  While Loop\n",
    "number = int(input(\"Enter the number \"))\n",
    "i = 1\n",
    "while i<11:\n",
    "    print(number*i)\n",
    "    i +=1"
   ]
  },
  {
   "cell_type": "code",
   "execution_count": null,
   "metadata": {},
   "outputs": [],
   "source": [
    "x = 1\n",
    "while x < 3:\n",
    "    print(x)\n",
    "    x += 1\n",
    "else:\n",
    "    print(\"limit Crossed\")"
   ]
  },
  {
   "cell_type": "code",
   "execution_count": null,
   "metadata": {},
   "outputs": [],
   "source": [
    "# Guessing Game \n",
    "import random\n",
    "\n",
    "jackpot = random.randint(1,100)\n",
    "print(jackpot)\n",
    "35\n",
    "\n",
    "guess = int(input(\"Guess The Number\"))\n",
    "\n",
    "counter = 1\n",
    "while guess != jackpot:\n",
    "    if guess < jackpot:\n",
    "        print(\"Worng ! Guess Higher\")\n",
    "    else:\n",
    "        print(\"Wrong ! Guess Lower\")\n",
    "\n",
    "    guess = int(input(\"Guess The Number\"))\n",
    "    counter +=1\n",
    "else:\n",
    "    print(\"Counter : \",counter)\n",
    "    print(\"Right\")\n",
    "\n",
    "\n",
    " "
   ]
  },
  {
   "cell_type": "code",
   "execution_count": 42,
   "metadata": {},
   "outputs": [
    {
     "name": "stdout",
     "output_type": "stream",
     "text": [
      "10\n",
      "8\n",
      "6\n",
      "4\n",
      "2\n"
     ]
    }
   ],
   "source": [
    "# For loop\n",
    "\n",
    "# for i in range(1,8):\n",
    "#     print(i)\n",
    "\n",
    "# for j in range(0,20, 2):\n",
    "#     print(j)\n",
    "\n",
    "# for i in range(10,0,-2):\n",
    "#     print(i)"
   ]
  },
  {
   "cell_type": "markdown",
   "metadata": {},
   "source": [
    "# Task 2 : Date 01-01-2024 "
   ]
  },
  {
   "cell_type": "markdown",
   "metadata": {},
   "source": [
    "### Que 1. Write a program that will give you in hand monthly salary after deduction on CTC - HRA(10%), DA(5%), PF(3%) and taxes deduction as below:\n",
    "Salary(Lakhs) : Tax(%)\n",
    "\n",
    "Below 5 : 0%\n",
    "\n",
    "5-10 : 10%\n",
    "\n",
    "10-20 : 20%\n",
    "\n",
    "aboove 20 : 30%"
   ]
  },
  {
   "cell_type": "markdown",
   "metadata": {},
   "source": [
    "### Que. 2 Write a program that take a user input of three angles and will find out whether it can form a triangle or not."
   ]
  },
  {
   "cell_type": "code",
   "execution_count": 44,
   "metadata": {},
   "outputs": [
    {
     "name": "stdout",
     "output_type": "stream",
     "text": [
      "This is triangle\n"
     ]
    }
   ],
   "source": [
    "n1 = int(input(\"Enter First Angle \"))\n",
    "n2 = int(input(\"Enter Second Angle\"))\n",
    "n3 = int(input(\"Enter Third Angle \"))\n",
    "\n",
    "sum = n1 + n2 + n3\n",
    "\n",
    "if sum == 180:\n",
    "    print(\"This is triangle\")\n",
    "else:\n",
    "    print(\"This is not Tringle\")"
   ]
  },
  {
   "cell_type": "markdown",
   "metadata": {},
   "source": [
    "### Que. 3 Write a program that will take user input of cost price and selling price and determines whether its a loss or a profit."
   ]
  },
  {
   "cell_type": "code",
   "execution_count": 46,
   "metadata": {},
   "outputs": [
    {
     "name": "stdout",
     "output_type": "stream",
     "text": [
      " Profite :  76  Rs. \n"
     ]
    }
   ],
   "source": [
    "selling_price = int(input(\"Enter Selling Price\"))\n",
    "cost_price = int(input(\"Enter Cost price\"))\n",
    "\n",
    "if selling_price > cost_price:\n",
    "    print(\" Profite : \",selling_price-cost_price,\" Rs. \")\n",
    "else:\n",
    "    print(\"Loss : \",cost_price-selling_price,\" Rs.\")"
   ]
  },
  {
   "cell_type": "markdown",
   "metadata": {},
   "source": [
    "### Que. 4 Write a menu-driven program -\n",
    "\n",
    "cm to ft\n",
    "\n",
    "km to miles\n",
    "\n",
    "USD to INR\n",
    "\n",
    "exit"
   ]
  },
  {
   "cell_type": "markdown",
   "metadata": {},
   "source": [
    "### Que. 5 Exercise 12: Display Fibonacci series up to 10 terms.\n",
    "Note: The Fibonacci Sequence is a series of numbers. The next number is found by adding up the two numbers before it. The first two numbers are 0 and 1. For example, 0, 1, 1, 2, 3, 5, 8, 13, 21. The next number in this series above is 13+21 = 34"
   ]
  },
  {
   "cell_type": "code",
   "execution_count": 15,
   "metadata": {},
   "outputs": [
    {
     "name": "stdout",
     "output_type": "stream",
     "text": [
      "20\n"
     ]
    }
   ],
   "source": [
    "for i in range(1,11):\n",
    "    i = i+i \n",
    "print(i)"
   ]
  },
  {
   "cell_type": "markdown",
   "metadata": {},
   "source": [
    "### Que. 6 Find the factorial of a given number.\n",
    "Write a program to use the loop to find the factorial of a given number.\n",
    "\n",
    "The factorial (symbol: !) means to multiply all whole numbers from the chosen number down to 1.\n",
    "\n",
    "For example: calculate the factorial of 5\n",
    "\n",
    "        5! = 5 × 4 × 3 × 2 × 1 = 120\n",
    "\n",
    "    Output:\n",
    "\n",
    "            120"
   ]
  },
  {
   "cell_type": "code",
   "execution_count": 53,
   "metadata": {},
   "outputs": [
    {
     "name": "stdout",
     "output_type": "stream",
     "text": [
      "120\n"
     ]
    }
   ],
   "source": [
    "n = int(input(\"Enter the number \"))\n",
    "sum = 1\n",
    "while n != 1:\n",
    "    sum = sum * n\n",
    "    n-=1\n",
    "    # print(n,end=\" x \")\n",
    "    \n",
    "print(sum)"
   ]
  },
  {
   "cell_type": "markdown",
   "metadata": {},
   "source": [
    "### Que. 7 Reverse a given integer number.\n",
    "Example:\n",
    "\n",
    "    Input:\n",
    "\n",
    "                76542\n",
    "    Output:\n",
    "\n",
    "                24567"
   ]
  },
  {
   "cell_type": "markdown",
   "metadata": {},
   "source": [
    "### Que. 8 Take a user input as integer N. Find out the sum from 1 to N. If any number if divisible by 5, then skip that number. And if the sum is greater than 300, don't need to calculate the sum further more. Print the final result. And don't use for loop to solve this problem.\n",
    "        \n",
    "        Example 1:\n",
    "\n",
    "            Input:\n",
    "\n",
    "                    30\n",
    "\n",
    "            Output:\n",
    "\n",
    "                    276\n",
    "\n",
    "#### I don't know proble we I pass 3,4 as a input it gives right answer but when I pass 5, 6 it take loat of time "
   ]
  },
  {
   "cell_type": "code",
   "execution_count": null,
   "metadata": {},
   "outputs": [],
   "source": [
    "a = int(input(\"Enter the Number \")) # 4\n",
    "i = 1\n",
    "sum = 0\n",
    "while i <= a:       # t , t\n",
    "    if (i%5) != 0: \n",
    "        sum = i + sum # 1,3,\n",
    "        i+=1        # 2,3\n",
    "        if sum>=300:\n",
    "            print(\" Sum is greater than 300 : \",sum)\n",
    "            break\n",
    "print(sum)\n",
    "print(\"Code Run\")"
   ]
  },
  {
   "cell_type": "markdown",
   "metadata": {},
   "source": [
    "## Que. 9 Write a program that keeps on accepting a number from the user until the user enters Zero. Display the sum and average of all the numbers."
   ]
  },
  {
   "cell_type": "code",
   "execution_count": 14,
   "metadata": {},
   "outputs": [
    {
     "name": "stdout",
     "output_type": "stream",
     "text": [
      "Average :  1.5\n",
      "Sum :  6\n"
     ]
    }
   ],
   "source": [
    "sum=count = 0\n",
    "\n",
    "while True:\n",
    "    i = int(input(\"Enter the value of i : \"))\n",
    "    count +=1\n",
    "    if i!=0:\n",
    "        sum += i\n",
    "    else:\n",
    "        break\n",
    "print(\"Average : \",sum/count)\n",
    "print(\"Sum : \",sum)"
   ]
  },
  {
   "cell_type": "markdown",
   "metadata": {},
   "source": [
    "## Que. 10 Write a program which will find all such numbers which are divisible by 7 but are not a multiple of 5, between 2000 and 3200 (both included). The numbers obtained should be printed in a comma-separated sequence on a single line."
   ]
  },
  {
   "cell_type": "markdown",
   "metadata": {},
   "source": [
    "## Que. 11 Write a program, which will find all such numbers between 1000 and 3000 (both included) such that each digit of the number is an even number. The numbers obtained should be printed in a space-separated sequence on a single line."
   ]
  },
  {
   "cell_type": "markdown",
   "metadata": {},
   "source": [
    "## Que. 12 A robot moves in a plane starting from the original point (0,0). The robot can move toward UP, DOWN, LEFT and RIGHT with a given steps.\n",
    "\n",
    "The trace of robot movement is shown as the following:\n",
    "\n",
    "        UP 5\n",
    "        DOWN 3\n",
    "        LEFT 3\n",
    "        RIGHT 2\n",
    "        !   \n",
    "    The numbers after the direction are steps.\n",
    "\n",
    "    ! means robot stop there.\n",
    "\n",
    "Please write a program to compute the distance from current position after a sequence of movement and original point.\n",
    "\n",
    "If the distance is a float, then just print the nearest integer.\n",
    "\n",
    "Example:\n",
    "\n",
    "    Input:\n",
    "\n",
    "        UP 5\n",
    "        DOWN 3\n",
    "        LEFT 3\n",
    "        RIGHT 2\n",
    "        !\n",
    "    Output:\n",
    "\n",
    "        2"
   ]
  },
  {
   "cell_type": "markdown",
   "metadata": {},
   "source": [
    "## Que. 13 Write a program to print whether a given number is a prime number or not\n"
   ]
  },
  {
   "cell_type": "code",
   "execution_count": 8,
   "metadata": {},
   "outputs": [
    {
     "name": "stdout",
     "output_type": "stream",
     "text": [
      "This Number is Divisiable by :  3\n"
     ]
    }
   ],
   "source": [
    "num1 = int(input(\"Enter the number : \"))\n",
    "i = 2\n",
    "prime = 1\n",
    "while i<num1:\n",
    "    if num1%i==0:\n",
    "        print(\"This Number is Divisiable by : \",i)\n",
    "        prime = 0\n",
    "        break\n",
    "    i =i+1\n",
    "if prime==1:\n",
    "    print(\"Prime Number\")\n",
    " \n"
   ]
  },
  {
   "cell_type": "markdown",
   "metadata": {},
   "source": [
    "## Que. 14 Calculate the angle between the hour hand and minute hand.\n",
    "Note: There can be two angles between hands; we need to print a minimum of two. Also, we need to print the floor of the final result angle. For example, if the final angle is 10.61, we need to print 10.\n",
    "\n",
    "Input:\n",
    "H = 9 , M = 0\n",
    "Output:\n",
    "90\n",
    "Explanation:\n",
    "The minimum angle between hour and minute hand when the time is 9 is 90 degress."
   ]
  },
  {
   "cell_type": "markdown",
   "metadata": {},
   "source": [
    "## Que 15. Given two rectangles, find if the given two rectangles overlap or not. A rectangle is denoted by providing the x and y coordinates of two points: the left top corner and the right bottom corner of the rectangle. Two rectangles sharing a side are considered overlapping. (L1 and R1 are the extreme points of the first rectangle and L2 and R2 are the extreme points of the second rectangle).\n",
    "\n",
    "Note: It may be assumed that the rectangles are parallel to the coordinate axis.\n",
    "\n",
    "<img src='https://www.geeksforgeeks.org/wp-content/uploads/rectanglesOverlap.png' width='300' height='200'>"
   ]
  },
  {
   "cell_type": "markdown",
   "metadata": {},
   "source": []
  },
  {
   "cell_type": "code",
   "execution_count": null,
   "metadata": {},
   "outputs": [],
   "source": []
  }
 ],
 "metadata": {
  "kernelspec": {
   "display_name": "Python 3",
   "language": "python",
   "name": "python3"
  },
  "language_info": {
   "codemirror_mode": {
    "name": "ipython",
    "version": 3
   },
   "file_extension": ".py",
   "mimetype": "text/x-python",
   "name": "python",
   "nbconvert_exporter": "python",
   "pygments_lexer": "ipython3",
   "version": "3.11.1"
  }
 },
 "nbformat": 4,
 "nbformat_minor": 2
}
