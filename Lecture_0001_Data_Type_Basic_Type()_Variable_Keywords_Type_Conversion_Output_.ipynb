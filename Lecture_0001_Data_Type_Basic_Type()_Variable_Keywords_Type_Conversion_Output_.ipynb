{
 "cells": [
  {
   "cell_type": "markdown",
   "metadata": {},
   "source": [
    "# Topic 1 : Python Output\n"
   ]
  },
  {
   "cell_type": "code",
   "execution_count": 2,
   "metadata": {},
   "outputs": [
    {
     "name": "stdout",
     "output_type": "stream",
     "text": [
      "Hello 1 2.4 True\n"
     ]
    }
   ],
   "source": [
    "# Python is case sensitive language\n",
    "\n",
    "print(\"Hello\",1,2.4,True)\n"
   ]
  },
  {
   "cell_type": "code",
   "execution_count": 3,
   "metadata": {},
   "outputs": [
    {
     "name": "stdout",
     "output_type": "stream",
     "text": [
      "Hello//1//1.5//False\n",
      "This not end-Lets Do It !\n"
     ]
    }
   ],
   "source": [
    "print(\"Hello\",1,1.5,False, sep=\"//\")\n",
    "#  print contain some attributes that is sep, end, etc\n",
    "\n",
    "print(\"This not end\",end=\"-\")\n",
    "print(\"Lets Do It !\")"
   ]
  },
  {
   "cell_type": "markdown",
   "metadata": {},
   "source": [
    "# Topic 2 : Data Type "
   ]
  },
  {
   "cell_type": "code",
   "execution_count": 21,
   "metadata": {},
   "outputs": [
    {
     "name": "stdout",
     "output_type": "stream",
     "text": [
      "8\n",
      "Integer range is 1 x 10^308 :  1e+308\n"
     ]
    }
   ],
   "source": [
    "# Integer\n",
    "\n",
    "print(8)\n",
    "print(\"Integer range is 1 x 10^308 : \",1e308)"
   ]
  },
  {
   "cell_type": "code",
   "execution_count": 19,
   "metadata": {},
   "outputs": [
    {
     "name": "stdout",
     "output_type": "stream",
     "text": [
      "Float Limit :  1.7e+308\n"
     ]
    }
   ],
   "source": [
    "# Decimal / Float\n",
    "\n",
    "print(\"Float Limit : \",1.7e308)"
   ]
  },
  {
   "cell_type": "code",
   "execution_count": 22,
   "metadata": {},
   "outputs": [
    {
     "name": "stdout",
     "output_type": "stream",
     "text": [
      "True False\n"
     ]
    }
   ],
   "source": [
    "# Boolean \n",
    "#  It will never written like that manner 'True'/\"True\" and 'False' / \"False\"\n",
    "\n",
    "print(True,False)"
   ]
  },
  {
   "cell_type": "code",
   "execution_count": 23,
   "metadata": {},
   "outputs": [
    {
     "name": "stdout",
     "output_type": "stream",
     "text": [
      "Hello Word\n"
     ]
    }
   ],
   "source": [
    "# Text / String\n",
    "print(\"Hello Word\")"
   ]
  },
  {
   "cell_type": "code",
   "execution_count": 25,
   "metadata": {},
   "outputs": [
    {
     "name": "stdout",
     "output_type": "stream",
     "text": [
      "(3+6j)\n"
     ]
    }
   ],
   "source": [
    "# Complex\n",
    "print(3+6j)"
   ]
  },
  {
   "cell_type": "code",
   "execution_count": 28,
   "metadata": {},
   "outputs": [
    {
     "name": "stdout",
     "output_type": "stream",
     "text": [
      "[1, 2.5, 3, True, 'Hello']\n"
     ]
    }
   ],
   "source": [
    "# List \n",
    "print([1,2.5,3,True,\"Hello\"])"
   ]
  },
  {
   "cell_type": "code",
   "execution_count": 31,
   "metadata": {},
   "outputs": [
    {
     "name": "stdout",
     "output_type": "stream",
     "text": [
      "(1, 3, True, 'String', 'String')\n"
     ]
    }
   ],
   "source": [
    "#  Tuple \n",
    "\n",
    "print((1,3,True,\"String\",'String'))"
   ]
  },
  {
   "cell_type": "code",
   "execution_count": 33,
   "metadata": {},
   "outputs": [
    {
     "name": "stdout",
     "output_type": "stream",
     "text": [
      "{1, 2, 3, 'String', 'Text'}\n"
     ]
    }
   ],
   "source": [
    "# Set\n",
    "print({1,2,3,True,\"String\",'Text'})"
   ]
  },
  {
   "cell_type": "code",
   "execution_count": 36,
   "metadata": {},
   "outputs": [
    {
     "name": "stdout",
     "output_type": "stream",
     "text": [
      "{'Key1': 'Attribute1', 'Gender': 'male'}\n"
     ]
    }
   ],
   "source": [
    "# Dictionary\n",
    "\n",
    "print({'Key1':'Attribute1','Gender':'male'})\n"
   ]
  },
  {
   "cell_type": "markdown",
   "metadata": {},
   "source": [
    "# Topic 3 : Type()\n"
   ]
  },
  {
   "cell_type": "code",
   "execution_count": 39,
   "metadata": {},
   "outputs": [
    {
     "data": {
      "text/plain": [
       "complex"
      ]
     },
     "execution_count": 39,
     "metadata": {},
     "output_type": "execute_result"
    }
   ],
   "source": [
    "type(2.4+5j)"
   ]
  },
  {
   "cell_type": "markdown",
   "metadata": {},
   "source": [
    "# Topic 4 : Variable\n",
    "### Static VS Dynamic Typing\n",
    "### Static VS Dynamic Binding\n",
    "### Stylish Declaration Techniques"
   ]
  },
  {
   "cell_type": "code",
   "execution_count": 40,
   "metadata": {},
   "outputs": [
    {
     "name": "stdout",
     "output_type": "stream",
     "text": [
      "Hello  Pravinsing\n"
     ]
    }
   ],
   "source": [
    "name = \"Pravinsing\"\n",
    "print(\"Hello \",name)"
   ]
  },
  {
   "cell_type": "code",
   "execution_count": 42,
   "metadata": {},
   "outputs": [],
   "source": [
    "# Dynamic Typing is conpect were we can not tell the this variable having that type interpeter automatic anaylsis the data type\n",
    "# python support the Dynamic Typing \n",
    "a = \"Pravin\"\n",
    "\n",
    "# Static Typing in this conpect we can tell the compiler this variable having this data type\n",
    "# c, c++, java support static typing \n",
    "# int b = 3"
   ]
  },
  {
   "cell_type": "code",
   "execution_count": null,
   "metadata": {},
   "outputs": [],
   "source": [
    "# Dynamic Binding \n",
    "#  It means we can store different the datatype value in variable according our need like\n",
    "a = 5 # here a is integer\n",
    "print(a)\n",
    "a = \"Pravin\" # here we can change the data type of a \n",
    "print(a)\n",
    "\n",
    "# This conpect is know as Dynamic Binding \n",
    "\n",
    "# --------------------------------------------------------------------------------------------------------------\n",
    "\n",
    "#  Static Binding \n",
    "\n",
    "#  In Static Binding we can store only one datatype value in that variable\n",
    "#  Like\n",
    "# int a = 5\n",
    "# print(a)\n",
    "# a = 4.5  # It give the error\n",
    "# print(a)"
   ]
  },
  {
   "cell_type": "code",
   "execution_count": 44,
   "metadata": {},
   "outputs": [
    {
     "name": "stdout",
     "output_type": "stream",
     "text": [
      "1 2 3\n",
      "4 4 4\n"
     ]
    }
   ],
   "source": [
    "#  Different method to Decaler the variable\n",
    "\n",
    "# Creat the 3 variable\n",
    "\n",
    "a,b,c = 1,2,3 # a = 1, b = 2, c = 3\n",
    "print(a,b,c)\n",
    "\n",
    "# access the same value in multiple variable\n",
    "\n",
    "a=b=c=4\n",
    "print(a,b,c)\n"
   ]
  },
  {
   "cell_type": "markdown",
   "metadata": {},
   "source": [
    "# Topic 5 : Comments\n"
   ]
  },
  {
   "cell_type": "code",
   "execution_count": 5,
   "metadata": {},
   "outputs": [],
   "source": [
    "#  This is Comment\n",
    "#  Python Does not support multi-line comment there are some way to write a multi-line comment we cannot prefer\n",
    " "
   ]
  },
  {
   "cell_type": "markdown",
   "metadata": {},
   "source": [
    "# Topic 6 :  Keywords & Identifiers\n",
    "In python ther is 32 Keywords\n",
    "## Some Keywords :\n",
    "1. False\n",
    "2. None\n",
    "3. True\n",
    "4. and\n",
    "5. as\n",
    "6. assert \n",
    "\n",
    "## Identifiers \n",
    "\n",
    "Name of variable \n",
    "Name of our creater function\n",
    "Name of class which we has created\n",
    "\n",
    "### Some Rule of Identifier\n",
    " 1. You can't start with a digit \n",
    " 2. You can use special chars -> _\n",
    " 3. identifiers cannot be keyword\n"
   ]
  },
  {
   "cell_type": "code",
   "execution_count": 5,
   "metadata": {},
   "outputs": [
    {
     "name": "stdout",
     "output_type": "stream",
     "text": [
      "['False', 'None', 'True', 'and', 'as', 'assert', 'async', 'await', 'break', 'class', 'continue', 'def', 'del', 'elif', 'else', 'except', 'finally', 'for', 'from', 'global', 'if', 'import', 'in', 'is', 'lambda', 'nonlocal', 'not', 'or', 'pass', 'raise', 'return', 'try', 'while', 'with', 'yield']\n",
      "Keywords (from \"Grammar/python.gram\")\n",
      "\n",
      "This file is automatically generated; please don't muck it up!\n",
      "\n",
      "To update the symbols in this file, 'cd' to the top directory of\n",
      "the python source tree and run:\n",
      "\n",
      "    PYTHONPATH=Tools/peg_generator python3 -m pegen.keywordgen         Grammar/python.gram         Grammar/Tokens         Lib/keyword.py\n",
      "\n",
      "Alternatively, you can run 'make regen-keyword'.\n",
      "\n"
     ]
    }
   ],
   "source": [
    "import keyword as key\n",
    "print(key.kwlist)\n",
    "print(key.__doc__)"
   ]
  },
  {
   "cell_type": "markdown",
   "metadata": {},
   "source": [
    "# Topic 7 : User Input\n",
    "\n"
   ]
  },
  {
   "cell_type": "code",
   "execution_count": 15,
   "metadata": {},
   "outputs": [
    {
     "name": "stdout",
     "output_type": "stream",
     "text": [
      "First Operation :  5  Type Of Answer :  <class 'int'>\n",
      "Second operation :  5  Type Of Answer :  <class 'int'>\n"
     ]
    },
    {
     "data": {
      "text/plain": [
       "<function print(*args, sep=' ', end='\\n', file=None, flush=False)>"
      ]
     },
     "execution_count": 15,
     "metadata": {},
     "output_type": "execute_result"
    }
   ],
   "source": [
    "# Here we can take integer data as a input \n",
    "\n",
    "num1 = int(input(\"Enter First Number\"))\n",
    "num2 = int(input(\"Enter Second Number \"))\n",
    "num = num1 + num2\n",
    "print(\"First Operation : \",num,\" Type Of Answer : \",type(num))\n",
    "\n",
    "# Here we can take string data as input\n",
    "\n",
    "num3 = input(\"1'st Number : \")\n",
    "num4 = input(\"2'ed Number : \")\n",
    "num5 = int(num3)+int(num4)\n",
    "print(\"Second operation : \",num5,\" Type Of Answer : \",type(num5))\n",
    "print"
   ]
  },
  {
   "cell_type": "markdown",
   "metadata": {},
   "source": [
    "# Topic 8 : Type Conversion\n",
    "\n",
    "## In Python Type Conversion does not change the oldest data it we creat the another new data and working on the new data\n",
    "\n",
    "### Implicity :\n",
    "            Here Interpriter can convert the data type\n",
    "\n",
    "### Explicit :\n",
    "            Here user can convert data type by using type()\n"
   ]
  },
  {
   "cell_type": "code",
   "execution_count": 11,
   "metadata": {},
   "outputs": [
    {
     "name": "stdout",
     "output_type": "stream",
     "text": [
      "int 3 to Comple :  (3+0j)  int 4 to float :  4.0  float 3.4 to int :  3\n"
     ]
    }
   ],
   "source": [
    "print(\"int 3 to Comple : \",complex(3),\" int 4 to float : \",float(4),\" float 3.4 to int : \",int(3.4))\n"
   ]
  },
  {
   "cell_type": "markdown",
   "metadata": {},
   "source": [
    "# Topic 9 : Literals\n",
    "\n",
    "Literals is which is the value we can store in variable"
   ]
  },
  {
   "cell_type": "code",
   "execution_count": 23,
   "metadata": {},
   "outputs": [
    {
     "name": "stdout",
     "output_type": "stream",
     "text": [
      " Binary  :  10  Decimal :  100  Octal :  200  Hexadecimal :  300\n",
      "Float Literal :  10.5   1500.0   0.0015\n",
      "Complex Literal :  3.14j  real value :  0.0  imagnary value :  3.14\n"
     ]
    }
   ],
   "source": [
    "a = 0b1010 # Binary Literal\n",
    "b = 100     # Decimal Literal\n",
    "c = 0o310   # Octal Literal\n",
    "d = 0x12c   # Hexadecimal Literal\n",
    "print(\" Binary  : \",a,\" Decimal : \",b,\" Octal : \",c,\" Hexadecimal : \",d)\n",
    "\n",
    "#  Float Literal\n",
    "\n",
    "float_1 = 10.5\n",
    "float_2 = 1.5e3\n",
    "float_3 = 1.5e-3\n",
    "\n",
    "print(\"Float Literal : \",float_1,\" \",float_2,\" \",float_3)\n",
    "\n",
    "#  Complex Literal\n",
    "\n",
    "com = 3.14j\n",
    "print(\"Complex Literal : \",com,\" real value : \",com.real,\" imagnary value : \",com.imag)"
   ]
  },
  {
   "cell_type": "markdown",
   "metadata": {},
   "source": [
    "# Topic 10 : None"
   ]
  },
  {
   "cell_type": "code",
   "execution_count": 29,
   "metadata": {},
   "outputs": [
    {
     "name": "stdout",
     "output_type": "stream",
     "text": [
      "None\n"
     ]
    }
   ],
   "source": [
    "a = None\n",
    "print(a)"
   ]
  },
  {
   "cell_type": "markdown",
   "metadata": {},
   "source": [
    "# Topic 11 : special Case code \n",
    "like\n",
    "    unicode = u\"Unicode\"\n",
    "    raw_str = r\"\\n\\n\\t\\t\\d%#$%#\""
   ]
  },
  {
   "cell_type": "code",
   "execution_count": 3,
   "metadata": {},
   "outputs": [
    {
     "name": "stdout",
     "output_type": "stream",
     "text": [
      "\n",
      "        this \n",
      "        is \n",
      "        Multiline\n",
      "        String\n",
      "        \n",
      "😀😆🤣\n",
      "*32?2\\/n/34\n"
     ]
    }
   ],
   "source": [
    "str1 = \"\"\"\n",
    "        this \n",
    "        is \n",
    "        Multiline\n",
    "        String\n",
    "        \"\"\"\n",
    "# \n",
    "print(str1)\n",
    "Unicode = u\"\\U0001f600\\U0001F606\\U0001F923\"\n",
    "print(Unicode)\n",
    "raw_str = r\"*32?2\\/n/34\"\n",
    "print(raw_str)"
   ]
  },
  {
   "cell_type": "markdown",
   "metadata": {},
   "source": [
    "# Task : Lecture 1          Date : 31-12-2023\n",
    "\n",
    "### Number of Task 1 to 10 \n",
    "#### only 7 Quection will be solve properly\n",
    "#### 1 is logical problem , 1 is not getting accpected output , 1 is lot of coding"
   ]
  },
  {
   "cell_type": "markdown",
   "metadata": {},
   "source": [
    "### Que. 1       Print the given strings as per stated format.\n",
    "Given strings:\n",
    "\n",
    "\"Data\" \"Science\" \"Mentorship\" \"Program\" \n",
    "\"By\" \"CampusX\"\n",
    "\n",
    "Output:\n",
    "\n",
    "Data-Science-Mentorship-Program-started-By-CampusX"
   ]
  },
  {
   "cell_type": "code",
   "execution_count": 1,
   "metadata": {},
   "outputs": [
    {
     "name": "stdout",
     "output_type": "stream",
     "text": [
      "Data-Science-Mentorship-Program-Started-By-CampusX\n"
     ]
    }
   ],
   "source": [
    "print(\"Data\",end=\"-\")\n",
    "print(\"Science\",end=\"-\")\n",
    "print(\"Mentorship\",end=\"-\")\n",
    "print(\"Program\",end=\"-\")\n",
    "print(\"Started\",end='-')\n",
    "print(\"By\",end=\"-\")\n",
    "print(\"CampusX\")"
   ]
  },
  {
   "cell_type": "markdown",
   "metadata": {},
   "source": [
    "###  Que. 2 Write a program that will convert celsius value to fahrenheit"
   ]
  },
  {
   "cell_type": "code",
   "execution_count": 2,
   "metadata": {},
   "outputs": [
    {
     "name": "stdout",
     "output_type": "stream",
     "text": [
      "Tempature in Fahrenheit :  451.40000000000003\n"
     ]
    }
   ],
   "source": [
    "c = int(input(\"Enter the Tempature in Celsius \"))\n",
    "f = (c * 1.8)+32\n",
    "print(\"Tempature in Fahrenheit : \",f)"
   ]
  },
  {
   "cell_type": "markdown",
   "metadata": {},
   "source": [
    "### Que. 3       Take 2 numbers as input from the user.Write a program to swap the numbers without using any special python syntax."
   ]
  },
  {
   "cell_type": "code",
   "execution_count": 3,
   "metadata": {},
   "outputs": [
    {
     "name": "stdout",
     "output_type": "stream",
     "text": [
      "Before Swaping Number num 1 :  2  num 2 :  3\n",
      "After Swaping Number num 1 :  3  num 2 :  2\n"
     ]
    }
   ],
   "source": [
    "num1 = int(input(\"Enter the any Number\")) # 4\n",
    "num2 = int(input(\"Enter the any Number\")) # 5\n",
    "print(\"Before Swaping Number num 1 : \",num1,\" num 2 : \",num2)\n",
    "num1 = num1 + num2 # num1 = 9\n",
    "num2 = num1 - num2 # num2 = 4\n",
    "num1 = num1 - num2 # num1 = 5\n",
    "\n",
    "print(\"After Swaping Number num 1 : \",num1,\" num 2 : \",num2)"
   ]
  },
  {
   "cell_type": "markdown",
   "metadata": {},
   "source": [
    "### Que. 4 Write a program to find the euclidean distance between two coordinates.Take both the coordinates from the user as input."
   ]
  },
  {
   "cell_type": "code",
   "execution_count": 7,
   "metadata": {},
   "outputs": [
    {
     "name": "stdout",
     "output_type": "stream",
     "text": [
      " Distance :  7.0710678118654755\n"
     ]
    }
   ],
   "source": [
    "import math \n",
    "\n",
    "x1 = float(input(\"Enter the value of x1 : \"))\n",
    "x2 = float(input(\"Enter the value of x2 : \"))\n",
    "y1 = float(input(\"Enter the value of y1 : \"))\n",
    "y2 = float(input(\"Enter the value of y2 : \"))\n",
    "ans = (x2-x1)*(x2-x1)+(y2-y1)*(y2-y1)\n",
    "dist = math.sqrt(ans)\n",
    "\n",
    "print(\" Distance : \",dist)"
   ]
  },
  {
   "cell_type": "markdown",
   "metadata": {},
   "source": [
    "### Que. 5 Write a program to find the simple interest when the value of principle,rate of interest and time period is provided by the user."
   ]
  },
  {
   "cell_type": "code",
   "execution_count": 10,
   "metadata": {},
   "outputs": [
    {
     "name": "stdout",
     "output_type": "stream",
     "text": [
      "Simple Interest Rate :  5250.0 Rs. \n",
      " Total Amount :  55250.0  Rs.\n"
     ]
    }
   ],
   "source": [
    "p = float(input(\"Enter Principal Amount \"))\n",
    "r = float(input(\"Enter the Interest Rate \"))\n",
    "t = float(input(\"Enter Time in Year \"))\n",
    "simple_interest =  (p*r*t)/100\n",
    "print(\"Simple Interest Rate : \",simple_interest,\"Rs. \\n Total Amount : \",simple_interest+p,\" Rs.\")\n"
   ]
  },
  {
   "cell_type": "markdown",
   "metadata": {},
   "source": [
    "### Que. 6 Write a program that will tell the number of dogs and chicken are there when the user will provide the value of total heads and legs.\n",
    "we not getting aspected output\n",
    "\n",
    "For example:\n",
    "\n",
    "Input: heads -> 4 legs -> 12\n",
    "\n",
    "Output: dogs -> 2 chicken -> 2"
   ]
  },
  {
   "cell_type": "code",
   "execution_count": 16,
   "metadata": {},
   "outputs": [
    {
     "name": "stdout",
     "output_type": "stream",
     "text": [
      "code is runing\n"
     ]
    }
   ],
   "source": [
    "#  Some thing is worng we not get right output\n",
    "\n",
    "heads = input(\"Enter Number of heads : \")\n",
    "legs  = input(\"Enter the Number of legs : \")\n",
    "if(heads == 4 and legs == 12):\n",
    "    print(\"dogs->2chicken->2\")\n",
    "else:\n",
    "    print(\"code is runing\")"
   ]
  },
  {
   "cell_type": "markdown",
   "metadata": {},
   "source": [
    "### Que. 7 Write a program to find the sum of squares of first n natural numbers where n will be provided by the user.\n",
    "\n",
    "#### Learn Logic"
   ]
  },
  {
   "cell_type": "code",
   "execution_count": null,
   "metadata": {},
   "outputs": [],
   "source": [
    "n = int(input(\"Enter the value of n\")) # 3\n",
    "sum = 0\n",
    "for i in n:\n",
    "    sum = i*i+sum\n",
    "print(sum)\n",
    "# i = 0\n",
    "# sum = 0\n",
    "# m = 0\n",
    "# while(i<n): # 0 1 2 \n",
    "#     sum = m**2+sum\n",
    "#     m = m+1\n",
    "#     i = i+1\n",
    "#     if(i==n-1): \n",
    "#         print(sum)"
   ]
  },
  {
   "cell_type": "markdown",
   "metadata": {},
   "source": [
    "### Que. 8 Given the first 2 terms of an Arithmetic Series.Find the Nth term of the series. Assume all inputs are provided by the user.\n",
    "\n",
    "Formula : \n",
    "\n",
    "     a = a₁ + (n−1)d\n",
    "\n",
    "      where:\n",
    "       a — The nᵗʰ term of the sequence;\n",
    "       d — Common difference; and\n",
    "       a₁ — First term of the sequence."
   ]
  },
  {
   "cell_type": "code",
   "execution_count": 34,
   "metadata": {},
   "outputs": [
    {
     "name": "stdout",
     "output_type": "stream",
     "text": [
      "n^th term is :  7.0\n"
     ]
    }
   ],
   "source": [
    "a1 = float(input(\"Enter The First Number of in Arithmetic Sequence\"))\n",
    "a2 = float(input(\"Enter Second Number of in Arithmetic Sequence\"))\n",
    "n = int(input(\"Enter the which number we wan't to find\"))\n",
    "diff = a2-a1\n",
    "\n",
    "an = a1 +(n-1)*diff\n",
    "print(\"n^th term is : \",an)"
   ]
  },
  {
   "cell_type": "markdown",
   "metadata": {},
   "source": [
    "### Que. 9  Given 2 fractions, find the sum of those 2 fractions.Take the numerator and denominator values of the fractions from the user."
   ]
  },
  {
   "cell_type": "code",
   "execution_count": 36,
   "metadata": {},
   "outputs": [
    {
     "name": "stdout",
     "output_type": "stream",
     "text": [
      "result : 23/21\n"
     ]
    }
   ],
   "source": [
    "n1 = int(input(\"Numerator 1 : \"))\n",
    "d1 = int(input(\"Denominator 1 : \"))\n",
    "n2 = int (input(\"Numerator 2 : \"))\n",
    "d2 = int(input(\"Denominator 2 : \"))\n",
    "\n",
    "result1 = (n1*d2)+(n2*d1)\n",
    "result2 = d1*d2\n",
    "print(\"result : {}/{}\".format(result1,result2))"
   ]
  },
  {
   "cell_type": "markdown",
   "metadata": {},
   "source": [
    "### Que. 10 Given the height, width and breadth of a milk tank, you have to find out how many glasses of milk can be obtained? Assume all the inputs are provided by the user.\n",
    "\n",
    "Input:\n",
    "\n",
    "Dimensions of the milk tank\n",
    "H = 20cm, L = 20cm, B = 20cm\n",
    "\n",
    "Dimensions of the glass\n",
    "h = 3cm, r = 1cm\n",
    "\n",
    "#### Formula :\n",
    "\n",
    "        Volume Of Rectangle = length*width*height\n",
    "        Volume Of Cylinder = pi*r**2*h\n"
   ]
  },
  {
   "cell_type": "code",
   "execution_count": 1,
   "metadata": {},
   "outputs": [
    {
     "name": "stdout",
     "output_type": "stream",
     "text": [
      "Total Volume of Milk :  36.0\n"
     ]
    }
   ],
   "source": [
    "l = float(input(\"Enter the Length of tank\"))\n",
    "w = float(input(\"Enter the width of tank\"))\n",
    "h = float(input(\"Enter the Height of tank\"))\n",
    "# gd  = float(input(\"Enter the glass dimeter\"))\n",
    "\n",
    "\n",
    "volume_of_tank = l*w*h\n",
    "\n",
    "\n",
    "print(\"Total Volume of Milk : \",volume_of_tank)\n",
    "\n"
   ]
  },
  {
   "cell_type": "code",
   "execution_count": 1,
   "metadata": {},
   "outputs": [
    {
     "name": "stdout",
     "output_type": "stream",
     "text": [
      "3\n",
      "6\n",
      "9\n",
      "12\n",
      "15\n",
      "18\n",
      "21\n",
      "24\n",
      "27\n",
      "30\n",
      "33\n",
      "36\n",
      "39\n",
      "42\n",
      "45\n",
      "48\n",
      "51\n",
      "54\n",
      "57\n",
      "60\n",
      "63\n",
      "66\n",
      "69\n",
      "72\n",
      "75\n",
      "78\n",
      "81\n",
      "84\n",
      "87\n",
      "90\n",
      "93\n",
      "96\n",
      "99\n"
     ]
    }
   ],
   "source": [
    "for i in range(1,101):\n",
    "    if i % 3 ==0:\n",
    "        print(i)"
   ]
  }
 ],
 "metadata": {
  "kernelspec": {
   "display_name": "base",
   "language": "python",
   "name": "python3"
  },
  "language_info": {
   "codemirror_mode": {
    "name": "ipython",
    "version": 3
   },
   "file_extension": ".py",
   "mimetype": "text/x-python",
   "name": "python",
   "nbconvert_exporter": "python",
   "pygments_lexer": "ipython3",
   "version": "3.11.1"
  }
 },
 "nbformat": 4,
 "nbformat_minor": 2
}
